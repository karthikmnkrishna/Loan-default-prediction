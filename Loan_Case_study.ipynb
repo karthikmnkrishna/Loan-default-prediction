{
  "nbformat": 4,
  "nbformat_minor": 0,
  "metadata": {
    "colab": {
      "name": "Loan Case study.ipynb",
      "provenance": [],
      "collapsed_sections": [],
      "toc_visible": true,
      "include_colab_link": true
    },
    "kernelspec": {
      "name": "python3",
      "display_name": "Python 3"
    }
  },
  "cells": [
    {
      "cell_type": "markdown",
      "metadata": {
        "id": "view-in-github",
        "colab_type": "text"
      },
      "source": [
        "<a href=\"https://colab.research.google.com/github/karthikmnkrishna/Loan-default-prediction/blob/Build/Loan_Case_study.ipynb\" target=\"_parent\"><img src=\"https://colab.research.google.com/assets/colab-badge.svg\" alt=\"Open In Colab\"/></a>"
      ]
    },
    {
      "cell_type": "markdown",
      "metadata": {
        "id": "f5Im-okUGa8c",
        "colab_type": "text"
      },
      "source": [
        "#LOAN CASE STUDY"
      ]
    },
    {
      "cell_type": "markdown",
      "metadata": {
        "id": "PizLGXxkGfwt",
        "colab_type": "text"
      },
      "source": [
        "##DATA & LIBRARIES IMPORT"
      ]
    },
    {
      "cell_type": "code",
      "metadata": {
        "id": "BVsb410cbHwl",
        "colab_type": "code",
        "outputId": "189765a8-335e-49b8-c482-945601448717",
        "colab": {
          "base_uri": "https://localhost:8080/",
          "height": 35
        }
      },
      "source": [
        "import pandas as pd\n",
        "import numpy as np\n",
        "import matplotlib.pyplot as plt\n",
        "import seaborn as sns\n",
        "import datetime\n",
        "from scipy.stats import norm\n",
        "from google.colab import drive\n",
        "drive.mount('/content/drive')"
      ],
      "execution_count": 79,
      "outputs": [
        {
          "output_type": "stream",
          "text": [
            "Drive already mounted at /content/drive; to attempt to forcibly remount, call drive.mount(\"/content/drive\", force_remount=True).\n"
          ],
          "name": "stdout"
        }
      ]
    },
    {
      "cell_type": "code",
      "metadata": {
        "id": "MDRLkDrQbVg5",
        "colab_type": "code",
        "outputId": "5c97e178-c4d6-44d3-80ce-20d396cdc576",
        "colab": {
          "base_uri": "https://localhost:8080/",
          "height": 92
        }
      },
      "source": [
        "path = '/content/drive/My Drive/Masters/loan.csv'\n",
        "df = pd.read_csv(path)\n",
        "print(df.shape)"
      ],
      "execution_count": 80,
      "outputs": [
        {
          "output_type": "stream",
          "text": [
            "(39717, 111)\n"
          ],
          "name": "stdout"
        },
        {
          "output_type": "stream",
          "text": [
            "/usr/local/lib/python3.6/dist-packages/IPython/core/interactiveshell.py:2718: DtypeWarning: Columns (47) have mixed types.Specify dtype option on import or set low_memory=False.\n",
            "  interactivity=interactivity, compiler=compiler, result=result)\n"
          ],
          "name": "stderr"
        }
      ]
    },
    {
      "cell_type": "markdown",
      "metadata": {
        "id": "mLU_vqp2-Elt",
        "colab_type": "text"
      },
      "source": [
        "## DATA CLEANING AND FORMATING"
      ]
    },
    {
      "cell_type": "markdown",
      "metadata": {
        "id": "cE0RE8G4FUcS",
        "colab_type": "text"
      },
      "source": [
        "###Checking if there is any incosistency in column names"
      ]
    },
    {
      "cell_type": "code",
      "metadata": {
        "id": "uEnqFOsMEqIt",
        "colab_type": "code",
        "outputId": "b040ab3f-cf5a-4e4b-8f48-626c574cb0fd",
        "colab": {
          "base_uri": "https://localhost:8080/",
          "height": 617
        }
      },
      "source": [
        "df.columns.values"
      ],
      "execution_count": 81,
      "outputs": [
        {
          "output_type": "execute_result",
          "data": {
            "text/plain": [
              "array(['id', 'member_id', 'loan_amnt', 'funded_amnt', 'funded_amnt_inv',\n",
              "       'term', 'int_rate', 'installment', 'grade', 'sub_grade',\n",
              "       'emp_title', 'emp_length', 'home_ownership', 'annual_inc',\n",
              "       'verification_status', 'issue_d', 'loan_status', 'pymnt_plan',\n",
              "       'url', 'desc', 'purpose', 'title', 'zip_code', 'addr_state', 'dti',\n",
              "       'delinq_2yrs', 'earliest_cr_line', 'inq_last_6mths',\n",
              "       'mths_since_last_delinq', 'mths_since_last_record', 'open_acc',\n",
              "       'pub_rec', 'revol_bal', 'revol_util', 'total_acc',\n",
              "       'initial_list_status', 'out_prncp', 'out_prncp_inv', 'total_pymnt',\n",
              "       'total_pymnt_inv', 'total_rec_prncp', 'total_rec_int',\n",
              "       'total_rec_late_fee', 'recoveries', 'collection_recovery_fee',\n",
              "       'last_pymnt_d', 'last_pymnt_amnt', 'next_pymnt_d',\n",
              "       'last_credit_pull_d', 'collections_12_mths_ex_med',\n",
              "       'mths_since_last_major_derog', 'policy_code', 'application_type',\n",
              "       'annual_inc_joint', 'dti_joint', 'verification_status_joint',\n",
              "       'acc_now_delinq', 'tot_coll_amt', 'tot_cur_bal', 'open_acc_6m',\n",
              "       'open_il_6m', 'open_il_12m', 'open_il_24m', 'mths_since_rcnt_il',\n",
              "       'total_bal_il', 'il_util', 'open_rv_12m', 'open_rv_24m',\n",
              "       'max_bal_bc', 'all_util', 'total_rev_hi_lim', 'inq_fi',\n",
              "       'total_cu_tl', 'inq_last_12m', 'acc_open_past_24mths',\n",
              "       'avg_cur_bal', 'bc_open_to_buy', 'bc_util',\n",
              "       'chargeoff_within_12_mths', 'delinq_amnt', 'mo_sin_old_il_acct',\n",
              "       'mo_sin_old_rev_tl_op', 'mo_sin_rcnt_rev_tl_op', 'mo_sin_rcnt_tl',\n",
              "       'mort_acc', 'mths_since_recent_bc', 'mths_since_recent_bc_dlq',\n",
              "       'mths_since_recent_inq', 'mths_since_recent_revol_delinq',\n",
              "       'num_accts_ever_120_pd', 'num_actv_bc_tl', 'num_actv_rev_tl',\n",
              "       'num_bc_sats', 'num_bc_tl', 'num_il_tl', 'num_op_rev_tl',\n",
              "       'num_rev_accts', 'num_rev_tl_bal_gt_0', 'num_sats',\n",
              "       'num_tl_120dpd_2m', 'num_tl_30dpd', 'num_tl_90g_dpd_24m',\n",
              "       'num_tl_op_past_12m', 'pct_tl_nvr_dlq', 'percent_bc_gt_75',\n",
              "       'pub_rec_bankruptcies', 'tax_liens', 'tot_hi_cred_lim',\n",
              "       'total_bal_ex_mort', 'total_bc_limit',\n",
              "       'total_il_high_credit_limit'], dtype=object)"
            ]
          },
          "metadata": {
            "tags": []
          },
          "execution_count": 81
        }
      ]
    },
    {
      "cell_type": "markdown",
      "metadata": {
        "id": "1l9u7vLeP8Sq",
        "colab_type": "text"
      },
      "source": [
        "The column names have no formating issue"
      ]
    },
    {
      "cell_type": "markdown",
      "metadata": {
        "id": "EvX5VFO3sPMh",
        "colab_type": "text"
      },
      "source": [
        "Checking for columns that have only a single value,and hence may not be considered for analysis"
      ]
    },
    {
      "cell_type": "code",
      "metadata": {
        "id": "X1tzrI1Mx4ON",
        "colab_type": "code",
        "outputId": "b732c21c-51dd-4f66-b67d-65ba554cfdd8",
        "colab": {
          "base_uri": "https://localhost:8080/",
          "height": 337
        }
      },
      "source": [
        "df.describe()"
      ],
      "execution_count": 82,
      "outputs": [
        {
          "output_type": "execute_result",
          "data": {
            "text/html": [
              "<div>\n",
              "<style scoped>\n",
              "    .dataframe tbody tr th:only-of-type {\n",
              "        vertical-align: middle;\n",
              "    }\n",
              "\n",
              "    .dataframe tbody tr th {\n",
              "        vertical-align: top;\n",
              "    }\n",
              "\n",
              "    .dataframe thead th {\n",
              "        text-align: right;\n",
              "    }\n",
              "</style>\n",
              "<table border=\"1\" class=\"dataframe\">\n",
              "  <thead>\n",
              "    <tr style=\"text-align: right;\">\n",
              "      <th></th>\n",
              "      <th>id</th>\n",
              "      <th>member_id</th>\n",
              "      <th>loan_amnt</th>\n",
              "      <th>funded_amnt</th>\n",
              "      <th>funded_amnt_inv</th>\n",
              "      <th>installment</th>\n",
              "      <th>annual_inc</th>\n",
              "      <th>dti</th>\n",
              "      <th>delinq_2yrs</th>\n",
              "      <th>inq_last_6mths</th>\n",
              "      <th>mths_since_last_delinq</th>\n",
              "      <th>mths_since_last_record</th>\n",
              "      <th>open_acc</th>\n",
              "      <th>pub_rec</th>\n",
              "      <th>revol_bal</th>\n",
              "      <th>total_acc</th>\n",
              "      <th>out_prncp</th>\n",
              "      <th>out_prncp_inv</th>\n",
              "      <th>total_pymnt</th>\n",
              "      <th>total_pymnt_inv</th>\n",
              "      <th>total_rec_prncp</th>\n",
              "      <th>total_rec_int</th>\n",
              "      <th>total_rec_late_fee</th>\n",
              "      <th>recoveries</th>\n",
              "      <th>collection_recovery_fee</th>\n",
              "      <th>last_pymnt_amnt</th>\n",
              "      <th>collections_12_mths_ex_med</th>\n",
              "      <th>mths_since_last_major_derog</th>\n",
              "      <th>policy_code</th>\n",
              "      <th>annual_inc_joint</th>\n",
              "      <th>dti_joint</th>\n",
              "      <th>verification_status_joint</th>\n",
              "      <th>acc_now_delinq</th>\n",
              "      <th>tot_coll_amt</th>\n",
              "      <th>tot_cur_bal</th>\n",
              "      <th>open_acc_6m</th>\n",
              "      <th>open_il_6m</th>\n",
              "      <th>open_il_12m</th>\n",
              "      <th>open_il_24m</th>\n",
              "      <th>mths_since_rcnt_il</th>\n",
              "      <th>...</th>\n",
              "      <th>inq_fi</th>\n",
              "      <th>total_cu_tl</th>\n",
              "      <th>inq_last_12m</th>\n",
              "      <th>acc_open_past_24mths</th>\n",
              "      <th>avg_cur_bal</th>\n",
              "      <th>bc_open_to_buy</th>\n",
              "      <th>bc_util</th>\n",
              "      <th>chargeoff_within_12_mths</th>\n",
              "      <th>delinq_amnt</th>\n",
              "      <th>mo_sin_old_il_acct</th>\n",
              "      <th>mo_sin_old_rev_tl_op</th>\n",
              "      <th>mo_sin_rcnt_rev_tl_op</th>\n",
              "      <th>mo_sin_rcnt_tl</th>\n",
              "      <th>mort_acc</th>\n",
              "      <th>mths_since_recent_bc</th>\n",
              "      <th>mths_since_recent_bc_dlq</th>\n",
              "      <th>mths_since_recent_inq</th>\n",
              "      <th>mths_since_recent_revol_delinq</th>\n",
              "      <th>num_accts_ever_120_pd</th>\n",
              "      <th>num_actv_bc_tl</th>\n",
              "      <th>num_actv_rev_tl</th>\n",
              "      <th>num_bc_sats</th>\n",
              "      <th>num_bc_tl</th>\n",
              "      <th>num_il_tl</th>\n",
              "      <th>num_op_rev_tl</th>\n",
              "      <th>num_rev_accts</th>\n",
              "      <th>num_rev_tl_bal_gt_0</th>\n",
              "      <th>num_sats</th>\n",
              "      <th>num_tl_120dpd_2m</th>\n",
              "      <th>num_tl_30dpd</th>\n",
              "      <th>num_tl_90g_dpd_24m</th>\n",
              "      <th>num_tl_op_past_12m</th>\n",
              "      <th>pct_tl_nvr_dlq</th>\n",
              "      <th>percent_bc_gt_75</th>\n",
              "      <th>pub_rec_bankruptcies</th>\n",
              "      <th>tax_liens</th>\n",
              "      <th>tot_hi_cred_lim</th>\n",
              "      <th>total_bal_ex_mort</th>\n",
              "      <th>total_bc_limit</th>\n",
              "      <th>total_il_high_credit_limit</th>\n",
              "    </tr>\n",
              "  </thead>\n",
              "  <tbody>\n",
              "    <tr>\n",
              "      <th>count</th>\n",
              "      <td>3.971700e+04</td>\n",
              "      <td>3.971700e+04</td>\n",
              "      <td>39717.000000</td>\n",
              "      <td>39717.000000</td>\n",
              "      <td>39717.000000</td>\n",
              "      <td>39717.000000</td>\n",
              "      <td>3.971700e+04</td>\n",
              "      <td>39717.000000</td>\n",
              "      <td>39717.000000</td>\n",
              "      <td>39717.000000</td>\n",
              "      <td>14035.000000</td>\n",
              "      <td>2786.000000</td>\n",
              "      <td>39717.000000</td>\n",
              "      <td>39717.000000</td>\n",
              "      <td>39717.000000</td>\n",
              "      <td>39717.000000</td>\n",
              "      <td>39717.000000</td>\n",
              "      <td>39717.000000</td>\n",
              "      <td>39717.000000</td>\n",
              "      <td>39717.000000</td>\n",
              "      <td>39717.000000</td>\n",
              "      <td>39717.000000</td>\n",
              "      <td>39717.000000</td>\n",
              "      <td>39717.000000</td>\n",
              "      <td>39717.000000</td>\n",
              "      <td>39717.000000</td>\n",
              "      <td>39661.0</td>\n",
              "      <td>0.0</td>\n",
              "      <td>39717.0</td>\n",
              "      <td>0.0</td>\n",
              "      <td>0.0</td>\n",
              "      <td>0.0</td>\n",
              "      <td>39717.0</td>\n",
              "      <td>0.0</td>\n",
              "      <td>0.0</td>\n",
              "      <td>0.0</td>\n",
              "      <td>0.0</td>\n",
              "      <td>0.0</td>\n",
              "      <td>0.0</td>\n",
              "      <td>0.0</td>\n",
              "      <td>...</td>\n",
              "      <td>0.0</td>\n",
              "      <td>0.0</td>\n",
              "      <td>0.0</td>\n",
              "      <td>0.0</td>\n",
              "      <td>0.0</td>\n",
              "      <td>0.0</td>\n",
              "      <td>0.0</td>\n",
              "      <td>39661.0</td>\n",
              "      <td>39717.0</td>\n",
              "      <td>0.0</td>\n",
              "      <td>0.0</td>\n",
              "      <td>0.0</td>\n",
              "      <td>0.0</td>\n",
              "      <td>0.0</td>\n",
              "      <td>0.0</td>\n",
              "      <td>0.0</td>\n",
              "      <td>0.0</td>\n",
              "      <td>0.0</td>\n",
              "      <td>0.0</td>\n",
              "      <td>0.0</td>\n",
              "      <td>0.0</td>\n",
              "      <td>0.0</td>\n",
              "      <td>0.0</td>\n",
              "      <td>0.0</td>\n",
              "      <td>0.0</td>\n",
              "      <td>0.0</td>\n",
              "      <td>0.0</td>\n",
              "      <td>0.0</td>\n",
              "      <td>0.0</td>\n",
              "      <td>0.0</td>\n",
              "      <td>0.0</td>\n",
              "      <td>0.0</td>\n",
              "      <td>0.0</td>\n",
              "      <td>0.0</td>\n",
              "      <td>39020.000000</td>\n",
              "      <td>39678.0</td>\n",
              "      <td>0.0</td>\n",
              "      <td>0.0</td>\n",
              "      <td>0.0</td>\n",
              "      <td>0.0</td>\n",
              "    </tr>\n",
              "    <tr>\n",
              "      <th>mean</th>\n",
              "      <td>6.831319e+05</td>\n",
              "      <td>8.504636e+05</td>\n",
              "      <td>11219.443815</td>\n",
              "      <td>10947.713196</td>\n",
              "      <td>10397.448868</td>\n",
              "      <td>324.561922</td>\n",
              "      <td>6.896893e+04</td>\n",
              "      <td>13.315130</td>\n",
              "      <td>0.146512</td>\n",
              "      <td>0.869200</td>\n",
              "      <td>35.900962</td>\n",
              "      <td>69.698134</td>\n",
              "      <td>9.294408</td>\n",
              "      <td>0.055065</td>\n",
              "      <td>13382.528086</td>\n",
              "      <td>22.088828</td>\n",
              "      <td>51.227887</td>\n",
              "      <td>50.989768</td>\n",
              "      <td>12153.596544</td>\n",
              "      <td>11567.149118</td>\n",
              "      <td>9793.348813</td>\n",
              "      <td>2263.663172</td>\n",
              "      <td>1.363015</td>\n",
              "      <td>95.221624</td>\n",
              "      <td>12.406112</td>\n",
              "      <td>2678.826162</td>\n",
              "      <td>0.0</td>\n",
              "      <td>NaN</td>\n",
              "      <td>1.0</td>\n",
              "      <td>NaN</td>\n",
              "      <td>NaN</td>\n",
              "      <td>NaN</td>\n",
              "      <td>0.0</td>\n",
              "      <td>NaN</td>\n",
              "      <td>NaN</td>\n",
              "      <td>NaN</td>\n",
              "      <td>NaN</td>\n",
              "      <td>NaN</td>\n",
              "      <td>NaN</td>\n",
              "      <td>NaN</td>\n",
              "      <td>...</td>\n",
              "      <td>NaN</td>\n",
              "      <td>NaN</td>\n",
              "      <td>NaN</td>\n",
              "      <td>NaN</td>\n",
              "      <td>NaN</td>\n",
              "      <td>NaN</td>\n",
              "      <td>NaN</td>\n",
              "      <td>0.0</td>\n",
              "      <td>0.0</td>\n",
              "      <td>NaN</td>\n",
              "      <td>NaN</td>\n",
              "      <td>NaN</td>\n",
              "      <td>NaN</td>\n",
              "      <td>NaN</td>\n",
              "      <td>NaN</td>\n",
              "      <td>NaN</td>\n",
              "      <td>NaN</td>\n",
              "      <td>NaN</td>\n",
              "      <td>NaN</td>\n",
              "      <td>NaN</td>\n",
              "      <td>NaN</td>\n",
              "      <td>NaN</td>\n",
              "      <td>NaN</td>\n",
              "      <td>NaN</td>\n",
              "      <td>NaN</td>\n",
              "      <td>NaN</td>\n",
              "      <td>NaN</td>\n",
              "      <td>NaN</td>\n",
              "      <td>NaN</td>\n",
              "      <td>NaN</td>\n",
              "      <td>NaN</td>\n",
              "      <td>NaN</td>\n",
              "      <td>NaN</td>\n",
              "      <td>NaN</td>\n",
              "      <td>0.043260</td>\n",
              "      <td>0.0</td>\n",
              "      <td>NaN</td>\n",
              "      <td>NaN</td>\n",
              "      <td>NaN</td>\n",
              "      <td>NaN</td>\n",
              "    </tr>\n",
              "    <tr>\n",
              "      <th>std</th>\n",
              "      <td>2.106941e+05</td>\n",
              "      <td>2.656783e+05</td>\n",
              "      <td>7456.670694</td>\n",
              "      <td>7187.238670</td>\n",
              "      <td>7128.450439</td>\n",
              "      <td>208.874874</td>\n",
              "      <td>6.379377e+04</td>\n",
              "      <td>6.678594</td>\n",
              "      <td>0.491812</td>\n",
              "      <td>1.070219</td>\n",
              "      <td>22.020060</td>\n",
              "      <td>43.822529</td>\n",
              "      <td>4.400282</td>\n",
              "      <td>0.237200</td>\n",
              "      <td>15885.016641</td>\n",
              "      <td>11.401709</td>\n",
              "      <td>375.172839</td>\n",
              "      <td>373.824457</td>\n",
              "      <td>9042.040766</td>\n",
              "      <td>8942.672613</td>\n",
              "      <td>7065.522127</td>\n",
              "      <td>2608.111964</td>\n",
              "      <td>7.289979</td>\n",
              "      <td>688.744771</td>\n",
              "      <td>148.671593</td>\n",
              "      <td>4447.136012</td>\n",
              "      <td>0.0</td>\n",
              "      <td>NaN</td>\n",
              "      <td>0.0</td>\n",
              "      <td>NaN</td>\n",
              "      <td>NaN</td>\n",
              "      <td>NaN</td>\n",
              "      <td>0.0</td>\n",
              "      <td>NaN</td>\n",
              "      <td>NaN</td>\n",
              "      <td>NaN</td>\n",
              "      <td>NaN</td>\n",
              "      <td>NaN</td>\n",
              "      <td>NaN</td>\n",
              "      <td>NaN</td>\n",
              "      <td>...</td>\n",
              "      <td>NaN</td>\n",
              "      <td>NaN</td>\n",
              "      <td>NaN</td>\n",
              "      <td>NaN</td>\n",
              "      <td>NaN</td>\n",
              "      <td>NaN</td>\n",
              "      <td>NaN</td>\n",
              "      <td>0.0</td>\n",
              "      <td>0.0</td>\n",
              "      <td>NaN</td>\n",
              "      <td>NaN</td>\n",
              "      <td>NaN</td>\n",
              "      <td>NaN</td>\n",
              "      <td>NaN</td>\n",
              "      <td>NaN</td>\n",
              "      <td>NaN</td>\n",
              "      <td>NaN</td>\n",
              "      <td>NaN</td>\n",
              "      <td>NaN</td>\n",
              "      <td>NaN</td>\n",
              "      <td>NaN</td>\n",
              "      <td>NaN</td>\n",
              "      <td>NaN</td>\n",
              "      <td>NaN</td>\n",
              "      <td>NaN</td>\n",
              "      <td>NaN</td>\n",
              "      <td>NaN</td>\n",
              "      <td>NaN</td>\n",
              "      <td>NaN</td>\n",
              "      <td>NaN</td>\n",
              "      <td>NaN</td>\n",
              "      <td>NaN</td>\n",
              "      <td>NaN</td>\n",
              "      <td>NaN</td>\n",
              "      <td>0.204324</td>\n",
              "      <td>0.0</td>\n",
              "      <td>NaN</td>\n",
              "      <td>NaN</td>\n",
              "      <td>NaN</td>\n",
              "      <td>NaN</td>\n",
              "    </tr>\n",
              "    <tr>\n",
              "      <th>min</th>\n",
              "      <td>5.473400e+04</td>\n",
              "      <td>7.069900e+04</td>\n",
              "      <td>500.000000</td>\n",
              "      <td>500.000000</td>\n",
              "      <td>0.000000</td>\n",
              "      <td>15.690000</td>\n",
              "      <td>4.000000e+03</td>\n",
              "      <td>0.000000</td>\n",
              "      <td>0.000000</td>\n",
              "      <td>0.000000</td>\n",
              "      <td>0.000000</td>\n",
              "      <td>0.000000</td>\n",
              "      <td>2.000000</td>\n",
              "      <td>0.000000</td>\n",
              "      <td>0.000000</td>\n",
              "      <td>2.000000</td>\n",
              "      <td>0.000000</td>\n",
              "      <td>0.000000</td>\n",
              "      <td>0.000000</td>\n",
              "      <td>0.000000</td>\n",
              "      <td>0.000000</td>\n",
              "      <td>0.000000</td>\n",
              "      <td>0.000000</td>\n",
              "      <td>0.000000</td>\n",
              "      <td>0.000000</td>\n",
              "      <td>0.000000</td>\n",
              "      <td>0.0</td>\n",
              "      <td>NaN</td>\n",
              "      <td>1.0</td>\n",
              "      <td>NaN</td>\n",
              "      <td>NaN</td>\n",
              "      <td>NaN</td>\n",
              "      <td>0.0</td>\n",
              "      <td>NaN</td>\n",
              "      <td>NaN</td>\n",
              "      <td>NaN</td>\n",
              "      <td>NaN</td>\n",
              "      <td>NaN</td>\n",
              "      <td>NaN</td>\n",
              "      <td>NaN</td>\n",
              "      <td>...</td>\n",
              "      <td>NaN</td>\n",
              "      <td>NaN</td>\n",
              "      <td>NaN</td>\n",
              "      <td>NaN</td>\n",
              "      <td>NaN</td>\n",
              "      <td>NaN</td>\n",
              "      <td>NaN</td>\n",
              "      <td>0.0</td>\n",
              "      <td>0.0</td>\n",
              "      <td>NaN</td>\n",
              "      <td>NaN</td>\n",
              "      <td>NaN</td>\n",
              "      <td>NaN</td>\n",
              "      <td>NaN</td>\n",
              "      <td>NaN</td>\n",
              "      <td>NaN</td>\n",
              "      <td>NaN</td>\n",
              "      <td>NaN</td>\n",
              "      <td>NaN</td>\n",
              "      <td>NaN</td>\n",
              "      <td>NaN</td>\n",
              "      <td>NaN</td>\n",
              "      <td>NaN</td>\n",
              "      <td>NaN</td>\n",
              "      <td>NaN</td>\n",
              "      <td>NaN</td>\n",
              "      <td>NaN</td>\n",
              "      <td>NaN</td>\n",
              "      <td>NaN</td>\n",
              "      <td>NaN</td>\n",
              "      <td>NaN</td>\n",
              "      <td>NaN</td>\n",
              "      <td>NaN</td>\n",
              "      <td>NaN</td>\n",
              "      <td>0.000000</td>\n",
              "      <td>0.0</td>\n",
              "      <td>NaN</td>\n",
              "      <td>NaN</td>\n",
              "      <td>NaN</td>\n",
              "      <td>NaN</td>\n",
              "    </tr>\n",
              "    <tr>\n",
              "      <th>25%</th>\n",
              "      <td>5.162210e+05</td>\n",
              "      <td>6.667800e+05</td>\n",
              "      <td>5500.000000</td>\n",
              "      <td>5400.000000</td>\n",
              "      <td>5000.000000</td>\n",
              "      <td>167.020000</td>\n",
              "      <td>4.040400e+04</td>\n",
              "      <td>8.170000</td>\n",
              "      <td>0.000000</td>\n",
              "      <td>0.000000</td>\n",
              "      <td>18.000000</td>\n",
              "      <td>22.000000</td>\n",
              "      <td>6.000000</td>\n",
              "      <td>0.000000</td>\n",
              "      <td>3703.000000</td>\n",
              "      <td>13.000000</td>\n",
              "      <td>0.000000</td>\n",
              "      <td>0.000000</td>\n",
              "      <td>5576.930000</td>\n",
              "      <td>5112.310000</td>\n",
              "      <td>4600.000000</td>\n",
              "      <td>662.180000</td>\n",
              "      <td>0.000000</td>\n",
              "      <td>0.000000</td>\n",
              "      <td>0.000000</td>\n",
              "      <td>218.680000</td>\n",
              "      <td>0.0</td>\n",
              "      <td>NaN</td>\n",
              "      <td>1.0</td>\n",
              "      <td>NaN</td>\n",
              "      <td>NaN</td>\n",
              "      <td>NaN</td>\n",
              "      <td>0.0</td>\n",
              "      <td>NaN</td>\n",
              "      <td>NaN</td>\n",
              "      <td>NaN</td>\n",
              "      <td>NaN</td>\n",
              "      <td>NaN</td>\n",
              "      <td>NaN</td>\n",
              "      <td>NaN</td>\n",
              "      <td>...</td>\n",
              "      <td>NaN</td>\n",
              "      <td>NaN</td>\n",
              "      <td>NaN</td>\n",
              "      <td>NaN</td>\n",
              "      <td>NaN</td>\n",
              "      <td>NaN</td>\n",
              "      <td>NaN</td>\n",
              "      <td>0.0</td>\n",
              "      <td>0.0</td>\n",
              "      <td>NaN</td>\n",
              "      <td>NaN</td>\n",
              "      <td>NaN</td>\n",
              "      <td>NaN</td>\n",
              "      <td>NaN</td>\n",
              "      <td>NaN</td>\n",
              "      <td>NaN</td>\n",
              "      <td>NaN</td>\n",
              "      <td>NaN</td>\n",
              "      <td>NaN</td>\n",
              "      <td>NaN</td>\n",
              "      <td>NaN</td>\n",
              "      <td>NaN</td>\n",
              "      <td>NaN</td>\n",
              "      <td>NaN</td>\n",
              "      <td>NaN</td>\n",
              "      <td>NaN</td>\n",
              "      <td>NaN</td>\n",
              "      <td>NaN</td>\n",
              "      <td>NaN</td>\n",
              "      <td>NaN</td>\n",
              "      <td>NaN</td>\n",
              "      <td>NaN</td>\n",
              "      <td>NaN</td>\n",
              "      <td>NaN</td>\n",
              "      <td>0.000000</td>\n",
              "      <td>0.0</td>\n",
              "      <td>NaN</td>\n",
              "      <td>NaN</td>\n",
              "      <td>NaN</td>\n",
              "      <td>NaN</td>\n",
              "    </tr>\n",
              "    <tr>\n",
              "      <th>50%</th>\n",
              "      <td>6.656650e+05</td>\n",
              "      <td>8.508120e+05</td>\n",
              "      <td>10000.000000</td>\n",
              "      <td>9600.000000</td>\n",
              "      <td>8975.000000</td>\n",
              "      <td>280.220000</td>\n",
              "      <td>5.900000e+04</td>\n",
              "      <td>13.400000</td>\n",
              "      <td>0.000000</td>\n",
              "      <td>1.000000</td>\n",
              "      <td>34.000000</td>\n",
              "      <td>90.000000</td>\n",
              "      <td>9.000000</td>\n",
              "      <td>0.000000</td>\n",
              "      <td>8850.000000</td>\n",
              "      <td>20.000000</td>\n",
              "      <td>0.000000</td>\n",
              "      <td>0.000000</td>\n",
              "      <td>9899.640319</td>\n",
              "      <td>9287.150000</td>\n",
              "      <td>8000.000000</td>\n",
              "      <td>1348.910000</td>\n",
              "      <td>0.000000</td>\n",
              "      <td>0.000000</td>\n",
              "      <td>0.000000</td>\n",
              "      <td>546.140000</td>\n",
              "      <td>0.0</td>\n",
              "      <td>NaN</td>\n",
              "      <td>1.0</td>\n",
              "      <td>NaN</td>\n",
              "      <td>NaN</td>\n",
              "      <td>NaN</td>\n",
              "      <td>0.0</td>\n",
              "      <td>NaN</td>\n",
              "      <td>NaN</td>\n",
              "      <td>NaN</td>\n",
              "      <td>NaN</td>\n",
              "      <td>NaN</td>\n",
              "      <td>NaN</td>\n",
              "      <td>NaN</td>\n",
              "      <td>...</td>\n",
              "      <td>NaN</td>\n",
              "      <td>NaN</td>\n",
              "      <td>NaN</td>\n",
              "      <td>NaN</td>\n",
              "      <td>NaN</td>\n",
              "      <td>NaN</td>\n",
              "      <td>NaN</td>\n",
              "      <td>0.0</td>\n",
              "      <td>0.0</td>\n",
              "      <td>NaN</td>\n",
              "      <td>NaN</td>\n",
              "      <td>NaN</td>\n",
              "      <td>NaN</td>\n",
              "      <td>NaN</td>\n",
              "      <td>NaN</td>\n",
              "      <td>NaN</td>\n",
              "      <td>NaN</td>\n",
              "      <td>NaN</td>\n",
              "      <td>NaN</td>\n",
              "      <td>NaN</td>\n",
              "      <td>NaN</td>\n",
              "      <td>NaN</td>\n",
              "      <td>NaN</td>\n",
              "      <td>NaN</td>\n",
              "      <td>NaN</td>\n",
              "      <td>NaN</td>\n",
              "      <td>NaN</td>\n",
              "      <td>NaN</td>\n",
              "      <td>NaN</td>\n",
              "      <td>NaN</td>\n",
              "      <td>NaN</td>\n",
              "      <td>NaN</td>\n",
              "      <td>NaN</td>\n",
              "      <td>NaN</td>\n",
              "      <td>0.000000</td>\n",
              "      <td>0.0</td>\n",
              "      <td>NaN</td>\n",
              "      <td>NaN</td>\n",
              "      <td>NaN</td>\n",
              "      <td>NaN</td>\n",
              "    </tr>\n",
              "    <tr>\n",
              "      <th>75%</th>\n",
              "      <td>8.377550e+05</td>\n",
              "      <td>1.047339e+06</td>\n",
              "      <td>15000.000000</td>\n",
              "      <td>15000.000000</td>\n",
              "      <td>14400.000000</td>\n",
              "      <td>430.780000</td>\n",
              "      <td>8.230000e+04</td>\n",
              "      <td>18.600000</td>\n",
              "      <td>0.000000</td>\n",
              "      <td>1.000000</td>\n",
              "      <td>52.000000</td>\n",
              "      <td>104.000000</td>\n",
              "      <td>12.000000</td>\n",
              "      <td>0.000000</td>\n",
              "      <td>17058.000000</td>\n",
              "      <td>29.000000</td>\n",
              "      <td>0.000000</td>\n",
              "      <td>0.000000</td>\n",
              "      <td>16534.433040</td>\n",
              "      <td>15798.810000</td>\n",
              "      <td>13653.260000</td>\n",
              "      <td>2833.400000</td>\n",
              "      <td>0.000000</td>\n",
              "      <td>0.000000</td>\n",
              "      <td>0.000000</td>\n",
              "      <td>3293.160000</td>\n",
              "      <td>0.0</td>\n",
              "      <td>NaN</td>\n",
              "      <td>1.0</td>\n",
              "      <td>NaN</td>\n",
              "      <td>NaN</td>\n",
              "      <td>NaN</td>\n",
              "      <td>0.0</td>\n",
              "      <td>NaN</td>\n",
              "      <td>NaN</td>\n",
              "      <td>NaN</td>\n",
              "      <td>NaN</td>\n",
              "      <td>NaN</td>\n",
              "      <td>NaN</td>\n",
              "      <td>NaN</td>\n",
              "      <td>...</td>\n",
              "      <td>NaN</td>\n",
              "      <td>NaN</td>\n",
              "      <td>NaN</td>\n",
              "      <td>NaN</td>\n",
              "      <td>NaN</td>\n",
              "      <td>NaN</td>\n",
              "      <td>NaN</td>\n",
              "      <td>0.0</td>\n",
              "      <td>0.0</td>\n",
              "      <td>NaN</td>\n",
              "      <td>NaN</td>\n",
              "      <td>NaN</td>\n",
              "      <td>NaN</td>\n",
              "      <td>NaN</td>\n",
              "      <td>NaN</td>\n",
              "      <td>NaN</td>\n",
              "      <td>NaN</td>\n",
              "      <td>NaN</td>\n",
              "      <td>NaN</td>\n",
              "      <td>NaN</td>\n",
              "      <td>NaN</td>\n",
              "      <td>NaN</td>\n",
              "      <td>NaN</td>\n",
              "      <td>NaN</td>\n",
              "      <td>NaN</td>\n",
              "      <td>NaN</td>\n",
              "      <td>NaN</td>\n",
              "      <td>NaN</td>\n",
              "      <td>NaN</td>\n",
              "      <td>NaN</td>\n",
              "      <td>NaN</td>\n",
              "      <td>NaN</td>\n",
              "      <td>NaN</td>\n",
              "      <td>NaN</td>\n",
              "      <td>0.000000</td>\n",
              "      <td>0.0</td>\n",
              "      <td>NaN</td>\n",
              "      <td>NaN</td>\n",
              "      <td>NaN</td>\n",
              "      <td>NaN</td>\n",
              "    </tr>\n",
              "    <tr>\n",
              "      <th>max</th>\n",
              "      <td>1.077501e+06</td>\n",
              "      <td>1.314167e+06</td>\n",
              "      <td>35000.000000</td>\n",
              "      <td>35000.000000</td>\n",
              "      <td>35000.000000</td>\n",
              "      <td>1305.190000</td>\n",
              "      <td>6.000000e+06</td>\n",
              "      <td>29.990000</td>\n",
              "      <td>11.000000</td>\n",
              "      <td>8.000000</td>\n",
              "      <td>120.000000</td>\n",
              "      <td>129.000000</td>\n",
              "      <td>44.000000</td>\n",
              "      <td>4.000000</td>\n",
              "      <td>149588.000000</td>\n",
              "      <td>90.000000</td>\n",
              "      <td>6311.470000</td>\n",
              "      <td>6307.370000</td>\n",
              "      <td>58563.679930</td>\n",
              "      <td>58563.680000</td>\n",
              "      <td>35000.020000</td>\n",
              "      <td>23563.680000</td>\n",
              "      <td>180.200000</td>\n",
              "      <td>29623.350000</td>\n",
              "      <td>7002.190000</td>\n",
              "      <td>36115.200000</td>\n",
              "      <td>0.0</td>\n",
              "      <td>NaN</td>\n",
              "      <td>1.0</td>\n",
              "      <td>NaN</td>\n",
              "      <td>NaN</td>\n",
              "      <td>NaN</td>\n",
              "      <td>0.0</td>\n",
              "      <td>NaN</td>\n",
              "      <td>NaN</td>\n",
              "      <td>NaN</td>\n",
              "      <td>NaN</td>\n",
              "      <td>NaN</td>\n",
              "      <td>NaN</td>\n",
              "      <td>NaN</td>\n",
              "      <td>...</td>\n",
              "      <td>NaN</td>\n",
              "      <td>NaN</td>\n",
              "      <td>NaN</td>\n",
              "      <td>NaN</td>\n",
              "      <td>NaN</td>\n",
              "      <td>NaN</td>\n",
              "      <td>NaN</td>\n",
              "      <td>0.0</td>\n",
              "      <td>0.0</td>\n",
              "      <td>NaN</td>\n",
              "      <td>NaN</td>\n",
              "      <td>NaN</td>\n",
              "      <td>NaN</td>\n",
              "      <td>NaN</td>\n",
              "      <td>NaN</td>\n",
              "      <td>NaN</td>\n",
              "      <td>NaN</td>\n",
              "      <td>NaN</td>\n",
              "      <td>NaN</td>\n",
              "      <td>NaN</td>\n",
              "      <td>NaN</td>\n",
              "      <td>NaN</td>\n",
              "      <td>NaN</td>\n",
              "      <td>NaN</td>\n",
              "      <td>NaN</td>\n",
              "      <td>NaN</td>\n",
              "      <td>NaN</td>\n",
              "      <td>NaN</td>\n",
              "      <td>NaN</td>\n",
              "      <td>NaN</td>\n",
              "      <td>NaN</td>\n",
              "      <td>NaN</td>\n",
              "      <td>NaN</td>\n",
              "      <td>NaN</td>\n",
              "      <td>2.000000</td>\n",
              "      <td>0.0</td>\n",
              "      <td>NaN</td>\n",
              "      <td>NaN</td>\n",
              "      <td>NaN</td>\n",
              "      <td>NaN</td>\n",
              "    </tr>\n",
              "  </tbody>\n",
              "</table>\n",
              "<p>8 rows × 87 columns</p>\n",
              "</div>"
            ],
            "text/plain": [
              "                 id     member_id  ...  total_bc_limit  total_il_high_credit_limit\n",
              "count  3.971700e+04  3.971700e+04  ...             0.0                         0.0\n",
              "mean   6.831319e+05  8.504636e+05  ...             NaN                         NaN\n",
              "std    2.106941e+05  2.656783e+05  ...             NaN                         NaN\n",
              "min    5.473400e+04  7.069900e+04  ...             NaN                         NaN\n",
              "25%    5.162210e+05  6.667800e+05  ...             NaN                         NaN\n",
              "50%    6.656650e+05  8.508120e+05  ...             NaN                         NaN\n",
              "75%    8.377550e+05  1.047339e+06  ...             NaN                         NaN\n",
              "max    1.077501e+06  1.314167e+06  ...             NaN                         NaN\n",
              "\n",
              "[8 rows x 87 columns]"
            ]
          },
          "metadata": {
            "tags": []
          },
          "execution_count": 82
        }
      ]
    },
    {
      "cell_type": "code",
      "metadata": {
        "id": "n7lGxpgxkU6f",
        "colab_type": "code",
        "outputId": "9b967ff7-c1b1-4e4e-b496-82baa64947a2",
        "colab": {
          "base_uri": "https://localhost:8080/",
          "height": 72
        }
      },
      "source": [
        "df.groupby(['acc_now_delinq','application_type','collections_12_mths_ex_med','initial_list_status','policy_code','pymnt_plan','chargeoff_within_12_mths','delinq_amnt','tax_liens']).count()['id']"
      ],
      "execution_count": 83,
      "outputs": [
        {
          "output_type": "execute_result",
          "data": {
            "text/plain": [
              "acc_now_delinq  application_type  collections_12_mths_ex_med  initial_list_status  policy_code  pymnt_plan  chargeoff_within_12_mths  delinq_amnt  tax_liens\n",
              "0               INDIVIDUAL        0.0                         f                    1            n           0.0                       0            0.0          39661\n",
              "Name: id, dtype: int64"
            ]
          },
          "metadata": {
            "tags": []
          },
          "execution_count": 83
        }
      ]
    },
    {
      "cell_type": "code",
      "metadata": {
        "id": "qbULb-qcsg0I",
        "colab_type": "code",
        "colab": {}
      },
      "source": [
        "df.drop(['acc_now_delinq','collections_12_mths_ex_med','initial_list_status','policy_code','application_type','pymnt_plan','chargeoff_within_12_mths','delinq_amnt','tax_liens','url'] ,axis = 1,inplace= True) #REMOVING URL, AS IT SEEMS TO BE A REPITION OF ID COLUMN "
      ],
      "execution_count": 0,
      "outputs": []
    },
    {
      "cell_type": "markdown",
      "metadata": {
        "id": "PoIBjtxaH1fv",
        "colab_type": "text"
      },
      "source": [
        "Setting index as id . it seems to be the primary keys as it has all unique values and the description vouches our assumption"
      ]
    },
    {
      "cell_type": "code",
      "metadata": {
        "id": "_59m8BBDzdfe",
        "colab_type": "code",
        "colab": {}
      },
      "source": [
        "df.set_index('id',inplace =True)"
      ],
      "execution_count": 0,
      "outputs": []
    },
    {
      "cell_type": "markdown",
      "metadata": {
        "id": "pSCbUdudGJTr",
        "colab_type": "text"
      },
      "source": [
        "###Checking Rows for redundancy/inconsistency"
      ]
    },
    {
      "cell_type": "code",
      "metadata": {
        "id": "i2odulxAcUk-",
        "colab_type": "code",
        "outputId": "c289a37a-9926-45aa-aa18-44565a5e9a53",
        "colab": {
          "base_uri": "https://localhost:8080/",
          "height": 1000
        }
      },
      "source": [
        "pd.set_option(\"max_colwidth\", None)\n",
        "df.head()"
      ],
      "execution_count": 86,
      "outputs": [
        {
          "output_type": "execute_result",
          "data": {
            "text/html": [
              "<div>\n",
              "<style scoped>\n",
              "    .dataframe tbody tr th:only-of-type {\n",
              "        vertical-align: middle;\n",
              "    }\n",
              "\n",
              "    .dataframe tbody tr th {\n",
              "        vertical-align: top;\n",
              "    }\n",
              "\n",
              "    .dataframe thead th {\n",
              "        text-align: right;\n",
              "    }\n",
              "</style>\n",
              "<table border=\"1\" class=\"dataframe\">\n",
              "  <thead>\n",
              "    <tr style=\"text-align: right;\">\n",
              "      <th></th>\n",
              "      <th>member_id</th>\n",
              "      <th>loan_amnt</th>\n",
              "      <th>funded_amnt</th>\n",
              "      <th>funded_amnt_inv</th>\n",
              "      <th>term</th>\n",
              "      <th>int_rate</th>\n",
              "      <th>installment</th>\n",
              "      <th>grade</th>\n",
              "      <th>sub_grade</th>\n",
              "      <th>emp_title</th>\n",
              "      <th>emp_length</th>\n",
              "      <th>home_ownership</th>\n",
              "      <th>annual_inc</th>\n",
              "      <th>verification_status</th>\n",
              "      <th>issue_d</th>\n",
              "      <th>loan_status</th>\n",
              "      <th>desc</th>\n",
              "      <th>purpose</th>\n",
              "      <th>title</th>\n",
              "      <th>zip_code</th>\n",
              "      <th>addr_state</th>\n",
              "      <th>dti</th>\n",
              "      <th>delinq_2yrs</th>\n",
              "      <th>earliest_cr_line</th>\n",
              "      <th>inq_last_6mths</th>\n",
              "      <th>mths_since_last_delinq</th>\n",
              "      <th>mths_since_last_record</th>\n",
              "      <th>open_acc</th>\n",
              "      <th>pub_rec</th>\n",
              "      <th>revol_bal</th>\n",
              "      <th>revol_util</th>\n",
              "      <th>total_acc</th>\n",
              "      <th>out_prncp</th>\n",
              "      <th>out_prncp_inv</th>\n",
              "      <th>total_pymnt</th>\n",
              "      <th>total_pymnt_inv</th>\n",
              "      <th>total_rec_prncp</th>\n",
              "      <th>total_rec_int</th>\n",
              "      <th>total_rec_late_fee</th>\n",
              "      <th>recoveries</th>\n",
              "      <th>...</th>\n",
              "      <th>max_bal_bc</th>\n",
              "      <th>all_util</th>\n",
              "      <th>total_rev_hi_lim</th>\n",
              "      <th>inq_fi</th>\n",
              "      <th>total_cu_tl</th>\n",
              "      <th>inq_last_12m</th>\n",
              "      <th>acc_open_past_24mths</th>\n",
              "      <th>avg_cur_bal</th>\n",
              "      <th>bc_open_to_buy</th>\n",
              "      <th>bc_util</th>\n",
              "      <th>mo_sin_old_il_acct</th>\n",
              "      <th>mo_sin_old_rev_tl_op</th>\n",
              "      <th>mo_sin_rcnt_rev_tl_op</th>\n",
              "      <th>mo_sin_rcnt_tl</th>\n",
              "      <th>mort_acc</th>\n",
              "      <th>mths_since_recent_bc</th>\n",
              "      <th>mths_since_recent_bc_dlq</th>\n",
              "      <th>mths_since_recent_inq</th>\n",
              "      <th>mths_since_recent_revol_delinq</th>\n",
              "      <th>num_accts_ever_120_pd</th>\n",
              "      <th>num_actv_bc_tl</th>\n",
              "      <th>num_actv_rev_tl</th>\n",
              "      <th>num_bc_sats</th>\n",
              "      <th>num_bc_tl</th>\n",
              "      <th>num_il_tl</th>\n",
              "      <th>num_op_rev_tl</th>\n",
              "      <th>num_rev_accts</th>\n",
              "      <th>num_rev_tl_bal_gt_0</th>\n",
              "      <th>num_sats</th>\n",
              "      <th>num_tl_120dpd_2m</th>\n",
              "      <th>num_tl_30dpd</th>\n",
              "      <th>num_tl_90g_dpd_24m</th>\n",
              "      <th>num_tl_op_past_12m</th>\n",
              "      <th>pct_tl_nvr_dlq</th>\n",
              "      <th>percent_bc_gt_75</th>\n",
              "      <th>pub_rec_bankruptcies</th>\n",
              "      <th>tot_hi_cred_lim</th>\n",
              "      <th>total_bal_ex_mort</th>\n",
              "      <th>total_bc_limit</th>\n",
              "      <th>total_il_high_credit_limit</th>\n",
              "    </tr>\n",
              "    <tr>\n",
              "      <th>id</th>\n",
              "      <th></th>\n",
              "      <th></th>\n",
              "      <th></th>\n",
              "      <th></th>\n",
              "      <th></th>\n",
              "      <th></th>\n",
              "      <th></th>\n",
              "      <th></th>\n",
              "      <th></th>\n",
              "      <th></th>\n",
              "      <th></th>\n",
              "      <th></th>\n",
              "      <th></th>\n",
              "      <th></th>\n",
              "      <th></th>\n",
              "      <th></th>\n",
              "      <th></th>\n",
              "      <th></th>\n",
              "      <th></th>\n",
              "      <th></th>\n",
              "      <th></th>\n",
              "      <th></th>\n",
              "      <th></th>\n",
              "      <th></th>\n",
              "      <th></th>\n",
              "      <th></th>\n",
              "      <th></th>\n",
              "      <th></th>\n",
              "      <th></th>\n",
              "      <th></th>\n",
              "      <th></th>\n",
              "      <th></th>\n",
              "      <th></th>\n",
              "      <th></th>\n",
              "      <th></th>\n",
              "      <th></th>\n",
              "      <th></th>\n",
              "      <th></th>\n",
              "      <th></th>\n",
              "      <th></th>\n",
              "      <th></th>\n",
              "      <th></th>\n",
              "      <th></th>\n",
              "      <th></th>\n",
              "      <th></th>\n",
              "      <th></th>\n",
              "      <th></th>\n",
              "      <th></th>\n",
              "      <th></th>\n",
              "      <th></th>\n",
              "      <th></th>\n",
              "      <th></th>\n",
              "      <th></th>\n",
              "      <th></th>\n",
              "      <th></th>\n",
              "      <th></th>\n",
              "      <th></th>\n",
              "      <th></th>\n",
              "      <th></th>\n",
              "      <th></th>\n",
              "      <th></th>\n",
              "      <th></th>\n",
              "      <th></th>\n",
              "      <th></th>\n",
              "      <th></th>\n",
              "      <th></th>\n",
              "      <th></th>\n",
              "      <th></th>\n",
              "      <th></th>\n",
              "      <th></th>\n",
              "      <th></th>\n",
              "      <th></th>\n",
              "      <th></th>\n",
              "      <th></th>\n",
              "      <th></th>\n",
              "      <th></th>\n",
              "      <th></th>\n",
              "      <th></th>\n",
              "      <th></th>\n",
              "      <th></th>\n",
              "      <th></th>\n",
              "    </tr>\n",
              "  </thead>\n",
              "  <tbody>\n",
              "    <tr>\n",
              "      <th>1077501</th>\n",
              "      <td>1296599</td>\n",
              "      <td>5000</td>\n",
              "      <td>5000</td>\n",
              "      <td>4975.0</td>\n",
              "      <td>36 months</td>\n",
              "      <td>10.65%</td>\n",
              "      <td>162.87</td>\n",
              "      <td>B</td>\n",
              "      <td>B2</td>\n",
              "      <td>NaN</td>\n",
              "      <td>10+ years</td>\n",
              "      <td>RENT</td>\n",
              "      <td>24000.0</td>\n",
              "      <td>Verified</td>\n",
              "      <td>Dec-11</td>\n",
              "      <td>Fully Paid</td>\n",
              "      <td>Borrower added on 12/22/11 &gt; I need to upgrade my business technologies.&lt;br&gt;</td>\n",
              "      <td>credit_card</td>\n",
              "      <td>Computer</td>\n",
              "      <td>860xx</td>\n",
              "      <td>AZ</td>\n",
              "      <td>27.65</td>\n",
              "      <td>0</td>\n",
              "      <td>Jan-85</td>\n",
              "      <td>1</td>\n",
              "      <td>NaN</td>\n",
              "      <td>NaN</td>\n",
              "      <td>3</td>\n",
              "      <td>0</td>\n",
              "      <td>13648</td>\n",
              "      <td>83.70%</td>\n",
              "      <td>9</td>\n",
              "      <td>0.00</td>\n",
              "      <td>0.00</td>\n",
              "      <td>5863.155187</td>\n",
              "      <td>5833.84</td>\n",
              "      <td>5000.00</td>\n",
              "      <td>863.16</td>\n",
              "      <td>0.00</td>\n",
              "      <td>0.00</td>\n",
              "      <td>...</td>\n",
              "      <td>NaN</td>\n",
              "      <td>NaN</td>\n",
              "      <td>NaN</td>\n",
              "      <td>NaN</td>\n",
              "      <td>NaN</td>\n",
              "      <td>NaN</td>\n",
              "      <td>NaN</td>\n",
              "      <td>NaN</td>\n",
              "      <td>NaN</td>\n",
              "      <td>NaN</td>\n",
              "      <td>NaN</td>\n",
              "      <td>NaN</td>\n",
              "      <td>NaN</td>\n",
              "      <td>NaN</td>\n",
              "      <td>NaN</td>\n",
              "      <td>NaN</td>\n",
              "      <td>NaN</td>\n",
              "      <td>NaN</td>\n",
              "      <td>NaN</td>\n",
              "      <td>NaN</td>\n",
              "      <td>NaN</td>\n",
              "      <td>NaN</td>\n",
              "      <td>NaN</td>\n",
              "      <td>NaN</td>\n",
              "      <td>NaN</td>\n",
              "      <td>NaN</td>\n",
              "      <td>NaN</td>\n",
              "      <td>NaN</td>\n",
              "      <td>NaN</td>\n",
              "      <td>NaN</td>\n",
              "      <td>NaN</td>\n",
              "      <td>NaN</td>\n",
              "      <td>NaN</td>\n",
              "      <td>NaN</td>\n",
              "      <td>NaN</td>\n",
              "      <td>0.0</td>\n",
              "      <td>NaN</td>\n",
              "      <td>NaN</td>\n",
              "      <td>NaN</td>\n",
              "      <td>NaN</td>\n",
              "    </tr>\n",
              "    <tr>\n",
              "      <th>1077430</th>\n",
              "      <td>1314167</td>\n",
              "      <td>2500</td>\n",
              "      <td>2500</td>\n",
              "      <td>2500.0</td>\n",
              "      <td>60 months</td>\n",
              "      <td>15.27%</td>\n",
              "      <td>59.83</td>\n",
              "      <td>C</td>\n",
              "      <td>C4</td>\n",
              "      <td>Ryder</td>\n",
              "      <td>&lt; 1 year</td>\n",
              "      <td>RENT</td>\n",
              "      <td>30000.0</td>\n",
              "      <td>Source Verified</td>\n",
              "      <td>Dec-11</td>\n",
              "      <td>Charged Off</td>\n",
              "      <td>Borrower added on 12/22/11 &gt; I plan to use this money to finance the motorcycle i am looking at. I plan to have it paid off as soon as possible/when i sell my old bike. I only need this money because the deal im looking at is to good to pass up.&lt;br&gt;&lt;br&gt;  Borrower added on 12/22/11 &gt; I plan to use this money to finance the motorcycle i am looking at. I plan to have it paid off as soon as possible/when i sell my old bike.I only need this money because the deal im looking at is to good to pass up. I have finished college with an associates degree in business and its takingmeplaces&lt;br&gt;</td>\n",
              "      <td>car</td>\n",
              "      <td>bike</td>\n",
              "      <td>309xx</td>\n",
              "      <td>GA</td>\n",
              "      <td>1.00</td>\n",
              "      <td>0</td>\n",
              "      <td>Apr-99</td>\n",
              "      <td>5</td>\n",
              "      <td>NaN</td>\n",
              "      <td>NaN</td>\n",
              "      <td>3</td>\n",
              "      <td>0</td>\n",
              "      <td>1687</td>\n",
              "      <td>9.40%</td>\n",
              "      <td>4</td>\n",
              "      <td>0.00</td>\n",
              "      <td>0.00</td>\n",
              "      <td>1008.710000</td>\n",
              "      <td>1008.71</td>\n",
              "      <td>456.46</td>\n",
              "      <td>435.17</td>\n",
              "      <td>0.00</td>\n",
              "      <td>117.08</td>\n",
              "      <td>...</td>\n",
              "      <td>NaN</td>\n",
              "      <td>NaN</td>\n",
              "      <td>NaN</td>\n",
              "      <td>NaN</td>\n",
              "      <td>NaN</td>\n",
              "      <td>NaN</td>\n",
              "      <td>NaN</td>\n",
              "      <td>NaN</td>\n",
              "      <td>NaN</td>\n",
              "      <td>NaN</td>\n",
              "      <td>NaN</td>\n",
              "      <td>NaN</td>\n",
              "      <td>NaN</td>\n",
              "      <td>NaN</td>\n",
              "      <td>NaN</td>\n",
              "      <td>NaN</td>\n",
              "      <td>NaN</td>\n",
              "      <td>NaN</td>\n",
              "      <td>NaN</td>\n",
              "      <td>NaN</td>\n",
              "      <td>NaN</td>\n",
              "      <td>NaN</td>\n",
              "      <td>NaN</td>\n",
              "      <td>NaN</td>\n",
              "      <td>NaN</td>\n",
              "      <td>NaN</td>\n",
              "      <td>NaN</td>\n",
              "      <td>NaN</td>\n",
              "      <td>NaN</td>\n",
              "      <td>NaN</td>\n",
              "      <td>NaN</td>\n",
              "      <td>NaN</td>\n",
              "      <td>NaN</td>\n",
              "      <td>NaN</td>\n",
              "      <td>NaN</td>\n",
              "      <td>0.0</td>\n",
              "      <td>NaN</td>\n",
              "      <td>NaN</td>\n",
              "      <td>NaN</td>\n",
              "      <td>NaN</td>\n",
              "    </tr>\n",
              "    <tr>\n",
              "      <th>1077175</th>\n",
              "      <td>1313524</td>\n",
              "      <td>2400</td>\n",
              "      <td>2400</td>\n",
              "      <td>2400.0</td>\n",
              "      <td>36 months</td>\n",
              "      <td>15.96%</td>\n",
              "      <td>84.33</td>\n",
              "      <td>C</td>\n",
              "      <td>C5</td>\n",
              "      <td>NaN</td>\n",
              "      <td>10+ years</td>\n",
              "      <td>RENT</td>\n",
              "      <td>12252.0</td>\n",
              "      <td>Not Verified</td>\n",
              "      <td>Dec-11</td>\n",
              "      <td>Fully Paid</td>\n",
              "      <td>NaN</td>\n",
              "      <td>small_business</td>\n",
              "      <td>real estate business</td>\n",
              "      <td>606xx</td>\n",
              "      <td>IL</td>\n",
              "      <td>8.72</td>\n",
              "      <td>0</td>\n",
              "      <td>Nov-01</td>\n",
              "      <td>2</td>\n",
              "      <td>NaN</td>\n",
              "      <td>NaN</td>\n",
              "      <td>2</td>\n",
              "      <td>0</td>\n",
              "      <td>2956</td>\n",
              "      <td>98.50%</td>\n",
              "      <td>10</td>\n",
              "      <td>0.00</td>\n",
              "      <td>0.00</td>\n",
              "      <td>3005.666844</td>\n",
              "      <td>3005.67</td>\n",
              "      <td>2400.00</td>\n",
              "      <td>605.67</td>\n",
              "      <td>0.00</td>\n",
              "      <td>0.00</td>\n",
              "      <td>...</td>\n",
              "      <td>NaN</td>\n",
              "      <td>NaN</td>\n",
              "      <td>NaN</td>\n",
              "      <td>NaN</td>\n",
              "      <td>NaN</td>\n",
              "      <td>NaN</td>\n",
              "      <td>NaN</td>\n",
              "      <td>NaN</td>\n",
              "      <td>NaN</td>\n",
              "      <td>NaN</td>\n",
              "      <td>NaN</td>\n",
              "      <td>NaN</td>\n",
              "      <td>NaN</td>\n",
              "      <td>NaN</td>\n",
              "      <td>NaN</td>\n",
              "      <td>NaN</td>\n",
              "      <td>NaN</td>\n",
              "      <td>NaN</td>\n",
              "      <td>NaN</td>\n",
              "      <td>NaN</td>\n",
              "      <td>NaN</td>\n",
              "      <td>NaN</td>\n",
              "      <td>NaN</td>\n",
              "      <td>NaN</td>\n",
              "      <td>NaN</td>\n",
              "      <td>NaN</td>\n",
              "      <td>NaN</td>\n",
              "      <td>NaN</td>\n",
              "      <td>NaN</td>\n",
              "      <td>NaN</td>\n",
              "      <td>NaN</td>\n",
              "      <td>NaN</td>\n",
              "      <td>NaN</td>\n",
              "      <td>NaN</td>\n",
              "      <td>NaN</td>\n",
              "      <td>0.0</td>\n",
              "      <td>NaN</td>\n",
              "      <td>NaN</td>\n",
              "      <td>NaN</td>\n",
              "      <td>NaN</td>\n",
              "    </tr>\n",
              "    <tr>\n",
              "      <th>1076863</th>\n",
              "      <td>1277178</td>\n",
              "      <td>10000</td>\n",
              "      <td>10000</td>\n",
              "      <td>10000.0</td>\n",
              "      <td>36 months</td>\n",
              "      <td>13.49%</td>\n",
              "      <td>339.31</td>\n",
              "      <td>C</td>\n",
              "      <td>C1</td>\n",
              "      <td>AIR RESOURCES BOARD</td>\n",
              "      <td>10+ years</td>\n",
              "      <td>RENT</td>\n",
              "      <td>49200.0</td>\n",
              "      <td>Source Verified</td>\n",
              "      <td>Dec-11</td>\n",
              "      <td>Fully Paid</td>\n",
              "      <td>Borrower added on 12/21/11 &gt; to pay for property tax (borrow from friend, need to pay back) &amp; central A/C need to be replace. I'm very sorry to let my loan expired last time.&lt;br&gt;</td>\n",
              "      <td>other</td>\n",
              "      <td>personel</td>\n",
              "      <td>917xx</td>\n",
              "      <td>CA</td>\n",
              "      <td>20.00</td>\n",
              "      <td>0</td>\n",
              "      <td>Feb-96</td>\n",
              "      <td>1</td>\n",
              "      <td>35.0</td>\n",
              "      <td>NaN</td>\n",
              "      <td>10</td>\n",
              "      <td>0</td>\n",
              "      <td>5598</td>\n",
              "      <td>21%</td>\n",
              "      <td>37</td>\n",
              "      <td>0.00</td>\n",
              "      <td>0.00</td>\n",
              "      <td>12231.890000</td>\n",
              "      <td>12231.89</td>\n",
              "      <td>10000.00</td>\n",
              "      <td>2214.92</td>\n",
              "      <td>16.97</td>\n",
              "      <td>0.00</td>\n",
              "      <td>...</td>\n",
              "      <td>NaN</td>\n",
              "      <td>NaN</td>\n",
              "      <td>NaN</td>\n",
              "      <td>NaN</td>\n",
              "      <td>NaN</td>\n",
              "      <td>NaN</td>\n",
              "      <td>NaN</td>\n",
              "      <td>NaN</td>\n",
              "      <td>NaN</td>\n",
              "      <td>NaN</td>\n",
              "      <td>NaN</td>\n",
              "      <td>NaN</td>\n",
              "      <td>NaN</td>\n",
              "      <td>NaN</td>\n",
              "      <td>NaN</td>\n",
              "      <td>NaN</td>\n",
              "      <td>NaN</td>\n",
              "      <td>NaN</td>\n",
              "      <td>NaN</td>\n",
              "      <td>NaN</td>\n",
              "      <td>NaN</td>\n",
              "      <td>NaN</td>\n",
              "      <td>NaN</td>\n",
              "      <td>NaN</td>\n",
              "      <td>NaN</td>\n",
              "      <td>NaN</td>\n",
              "      <td>NaN</td>\n",
              "      <td>NaN</td>\n",
              "      <td>NaN</td>\n",
              "      <td>NaN</td>\n",
              "      <td>NaN</td>\n",
              "      <td>NaN</td>\n",
              "      <td>NaN</td>\n",
              "      <td>NaN</td>\n",
              "      <td>NaN</td>\n",
              "      <td>0.0</td>\n",
              "      <td>NaN</td>\n",
              "      <td>NaN</td>\n",
              "      <td>NaN</td>\n",
              "      <td>NaN</td>\n",
              "    </tr>\n",
              "    <tr>\n",
              "      <th>1075358</th>\n",
              "      <td>1311748</td>\n",
              "      <td>3000</td>\n",
              "      <td>3000</td>\n",
              "      <td>3000.0</td>\n",
              "      <td>60 months</td>\n",
              "      <td>12.69%</td>\n",
              "      <td>67.79</td>\n",
              "      <td>B</td>\n",
              "      <td>B5</td>\n",
              "      <td>University Medical Group</td>\n",
              "      <td>1 year</td>\n",
              "      <td>RENT</td>\n",
              "      <td>80000.0</td>\n",
              "      <td>Source Verified</td>\n",
              "      <td>Dec-11</td>\n",
              "      <td>Current</td>\n",
              "      <td>Borrower added on 12/21/11 &gt; I plan on combining three large interest bills together and freeing up some extra each month to pay toward other bills.  I've always been a good payor but have found myself needing to make adjustments to my budget due to a medical scare. My job is very stable, I love it.&lt;br&gt;</td>\n",
              "      <td>other</td>\n",
              "      <td>Personal</td>\n",
              "      <td>972xx</td>\n",
              "      <td>OR</td>\n",
              "      <td>17.94</td>\n",
              "      <td>0</td>\n",
              "      <td>Jan-96</td>\n",
              "      <td>0</td>\n",
              "      <td>38.0</td>\n",
              "      <td>NaN</td>\n",
              "      <td>15</td>\n",
              "      <td>0</td>\n",
              "      <td>27783</td>\n",
              "      <td>53.90%</td>\n",
              "      <td>38</td>\n",
              "      <td>524.06</td>\n",
              "      <td>524.06</td>\n",
              "      <td>3513.330000</td>\n",
              "      <td>3513.33</td>\n",
              "      <td>2475.94</td>\n",
              "      <td>1037.39</td>\n",
              "      <td>0.00</td>\n",
              "      <td>0.00</td>\n",
              "      <td>...</td>\n",
              "      <td>NaN</td>\n",
              "      <td>NaN</td>\n",
              "      <td>NaN</td>\n",
              "      <td>NaN</td>\n",
              "      <td>NaN</td>\n",
              "      <td>NaN</td>\n",
              "      <td>NaN</td>\n",
              "      <td>NaN</td>\n",
              "      <td>NaN</td>\n",
              "      <td>NaN</td>\n",
              "      <td>NaN</td>\n",
              "      <td>NaN</td>\n",
              "      <td>NaN</td>\n",
              "      <td>NaN</td>\n",
              "      <td>NaN</td>\n",
              "      <td>NaN</td>\n",
              "      <td>NaN</td>\n",
              "      <td>NaN</td>\n",
              "      <td>NaN</td>\n",
              "      <td>NaN</td>\n",
              "      <td>NaN</td>\n",
              "      <td>NaN</td>\n",
              "      <td>NaN</td>\n",
              "      <td>NaN</td>\n",
              "      <td>NaN</td>\n",
              "      <td>NaN</td>\n",
              "      <td>NaN</td>\n",
              "      <td>NaN</td>\n",
              "      <td>NaN</td>\n",
              "      <td>NaN</td>\n",
              "      <td>NaN</td>\n",
              "      <td>NaN</td>\n",
              "      <td>NaN</td>\n",
              "      <td>NaN</td>\n",
              "      <td>NaN</td>\n",
              "      <td>0.0</td>\n",
              "      <td>NaN</td>\n",
              "      <td>NaN</td>\n",
              "      <td>NaN</td>\n",
              "      <td>NaN</td>\n",
              "    </tr>\n",
              "  </tbody>\n",
              "</table>\n",
              "<p>5 rows × 100 columns</p>\n",
              "</div>"
            ],
            "text/plain": [
              "         member_id  loan_amnt  ...  total_bc_limit  total_il_high_credit_limit\n",
              "id                             ...                                            \n",
              "1077501    1296599       5000  ...             NaN                         NaN\n",
              "1077430    1314167       2500  ...             NaN                         NaN\n",
              "1077175    1313524       2400  ...             NaN                         NaN\n",
              "1076863    1277178      10000  ...             NaN                         NaN\n",
              "1075358    1311748       3000  ...             NaN                         NaN\n",
              "\n",
              "[5 rows x 100 columns]"
            ]
          },
          "metadata": {
            "tags": []
          },
          "execution_count": 86
        }
      ]
    },
    {
      "cell_type": "markdown",
      "metadata": {
        "id": "Ek4LQnEDHPQj",
        "colab_type": "text"
      },
      "source": [
        "Both the header and footer look fine.There are no extra rows."
      ]
    },
    {
      "cell_type": "markdown",
      "metadata": {
        "id": "Y-h1qrZERKZY",
        "colab_type": "text"
      },
      "source": [
        "###TREATING MISSING VALUES"
      ]
    },
    {
      "cell_type": "markdown",
      "metadata": {
        "id": "edPYhBug-UOv",
        "colab_type": "text"
      },
      "source": [
        "Lets oserve all the columns with non null and null values and get rid of the columns with only null"
      ]
    },
    {
      "cell_type": "code",
      "metadata": {
        "id": "d-2LqYghbzG1",
        "colab_type": "code",
        "outputId": "b603410b-82ad-4b73-8ed4-2eb2dab80745",
        "colab": {
          "base_uri": "https://localhost:8080/",
          "height": 1000
        }
      },
      "source": [
        "df.info(verbose=True,null_counts=True)"
      ],
      "execution_count": 87,
      "outputs": [
        {
          "output_type": "stream",
          "text": [
            "<class 'pandas.core.frame.DataFrame'>\n",
            "Int64Index: 39717 entries, 1077501 to 87023\n",
            "Data columns (total 100 columns):\n",
            " #   Column                          Non-Null Count  Dtype  \n",
            "---  ------                          --------------  -----  \n",
            " 0   member_id                       39717 non-null  int64  \n",
            " 1   loan_amnt                       39717 non-null  int64  \n",
            " 2   funded_amnt                     39717 non-null  int64  \n",
            " 3   funded_amnt_inv                 39717 non-null  float64\n",
            " 4   term                            39717 non-null  object \n",
            " 5   int_rate                        39717 non-null  object \n",
            " 6   installment                     39717 non-null  float64\n",
            " 7   grade                           39717 non-null  object \n",
            " 8   sub_grade                       39717 non-null  object \n",
            " 9   emp_title                       37258 non-null  object \n",
            " 10  emp_length                      38642 non-null  object \n",
            " 11  home_ownership                  39717 non-null  object \n",
            " 12  annual_inc                      39717 non-null  float64\n",
            " 13  verification_status             39717 non-null  object \n",
            " 14  issue_d                         39717 non-null  object \n",
            " 15  loan_status                     39717 non-null  object \n",
            " 16  desc                            26777 non-null  object \n",
            " 17  purpose                         39717 non-null  object \n",
            " 18  title                           39706 non-null  object \n",
            " 19  zip_code                        39717 non-null  object \n",
            " 20  addr_state                      39717 non-null  object \n",
            " 21  dti                             39717 non-null  float64\n",
            " 22  delinq_2yrs                     39717 non-null  int64  \n",
            " 23  earliest_cr_line                39717 non-null  object \n",
            " 24  inq_last_6mths                  39717 non-null  int64  \n",
            " 25  mths_since_last_delinq          14035 non-null  float64\n",
            " 26  mths_since_last_record          2786 non-null   float64\n",
            " 27  open_acc                        39717 non-null  int64  \n",
            " 28  pub_rec                         39717 non-null  int64  \n",
            " 29  revol_bal                       39717 non-null  int64  \n",
            " 30  revol_util                      39667 non-null  object \n",
            " 31  total_acc                       39717 non-null  int64  \n",
            " 32  out_prncp                       39717 non-null  float64\n",
            " 33  out_prncp_inv                   39717 non-null  float64\n",
            " 34  total_pymnt                     39717 non-null  float64\n",
            " 35  total_pymnt_inv                 39717 non-null  float64\n",
            " 36  total_rec_prncp                 39717 non-null  float64\n",
            " 37  total_rec_int                   39717 non-null  float64\n",
            " 38  total_rec_late_fee              39717 non-null  float64\n",
            " 39  recoveries                      39717 non-null  float64\n",
            " 40  collection_recovery_fee         39717 non-null  float64\n",
            " 41  last_pymnt_d                    39646 non-null  object \n",
            " 42  last_pymnt_amnt                 39717 non-null  float64\n",
            " 43  next_pymnt_d                    1140 non-null   object \n",
            " 44  last_credit_pull_d              39715 non-null  object \n",
            " 45  mths_since_last_major_derog     0 non-null      float64\n",
            " 46  annual_inc_joint                0 non-null      float64\n",
            " 47  dti_joint                       0 non-null      float64\n",
            " 48  verification_status_joint       0 non-null      float64\n",
            " 49  tot_coll_amt                    0 non-null      float64\n",
            " 50  tot_cur_bal                     0 non-null      float64\n",
            " 51  open_acc_6m                     0 non-null      float64\n",
            " 52  open_il_6m                      0 non-null      float64\n",
            " 53  open_il_12m                     0 non-null      float64\n",
            " 54  open_il_24m                     0 non-null      float64\n",
            " 55  mths_since_rcnt_il              0 non-null      float64\n",
            " 56  total_bal_il                    0 non-null      float64\n",
            " 57  il_util                         0 non-null      float64\n",
            " 58  open_rv_12m                     0 non-null      float64\n",
            " 59  open_rv_24m                     0 non-null      float64\n",
            " 60  max_bal_bc                      0 non-null      float64\n",
            " 61  all_util                        0 non-null      float64\n",
            " 62  total_rev_hi_lim                0 non-null      float64\n",
            " 63  inq_fi                          0 non-null      float64\n",
            " 64  total_cu_tl                     0 non-null      float64\n",
            " 65  inq_last_12m                    0 non-null      float64\n",
            " 66  acc_open_past_24mths            0 non-null      float64\n",
            " 67  avg_cur_bal                     0 non-null      float64\n",
            " 68  bc_open_to_buy                  0 non-null      float64\n",
            " 69  bc_util                         0 non-null      float64\n",
            " 70  mo_sin_old_il_acct              0 non-null      float64\n",
            " 71  mo_sin_old_rev_tl_op            0 non-null      float64\n",
            " 72  mo_sin_rcnt_rev_tl_op           0 non-null      float64\n",
            " 73  mo_sin_rcnt_tl                  0 non-null      float64\n",
            " 74  mort_acc                        0 non-null      float64\n",
            " 75  mths_since_recent_bc            0 non-null      float64\n",
            " 76  mths_since_recent_bc_dlq        0 non-null      float64\n",
            " 77  mths_since_recent_inq           0 non-null      float64\n",
            " 78  mths_since_recent_revol_delinq  0 non-null      float64\n",
            " 79  num_accts_ever_120_pd           0 non-null      float64\n",
            " 80  num_actv_bc_tl                  0 non-null      float64\n",
            " 81  num_actv_rev_tl                 0 non-null      float64\n",
            " 82  num_bc_sats                     0 non-null      float64\n",
            " 83  num_bc_tl                       0 non-null      float64\n",
            " 84  num_il_tl                       0 non-null      float64\n",
            " 85  num_op_rev_tl                   0 non-null      float64\n",
            " 86  num_rev_accts                   0 non-null      float64\n",
            " 87  num_rev_tl_bal_gt_0             0 non-null      float64\n",
            " 88  num_sats                        0 non-null      float64\n",
            " 89  num_tl_120dpd_2m                0 non-null      float64\n",
            " 90  num_tl_30dpd                    0 non-null      float64\n",
            " 91  num_tl_90g_dpd_24m              0 non-null      float64\n",
            " 92  num_tl_op_past_12m              0 non-null      float64\n",
            " 93  pct_tl_nvr_dlq                  0 non-null      float64\n",
            " 94  percent_bc_gt_75                0 non-null      float64\n",
            " 95  pub_rec_bankruptcies            39020 non-null  float64\n",
            " 96  tot_hi_cred_lim                 0 non-null      float64\n",
            " 97  total_bal_ex_mort               0 non-null      float64\n",
            " 98  total_bc_limit                  0 non-null      float64\n",
            " 99  total_il_high_credit_limit      0 non-null      float64\n",
            "dtypes: float64(71), int64(9), object(20)\n",
            "memory usage: 30.6+ MB\n"
          ],
          "name": "stdout"
        }
      ]
    },
    {
      "cell_type": "markdown",
      "metadata": {
        "id": "eS-D5FqFFO0y",
        "colab_type": "text"
      },
      "source": [
        "COLUMNS WITH ONLY NULL VALUES HAVE BEEN REMOVED.<br>\n",
        "COLUMNS WITH TOO MANY NULL VALUES HAVE BEEN REMOVED (next_pymnt_d)<br>\n",
        "ROWS WITH MINIMUM NULL VALUES  HAVE BEEN IGNORED IN SOME CASES<br>"
      ]
    },
    {
      "cell_type": "code",
      "metadata": {
        "id": "C8IyUHjib1Ki",
        "colab_type": "code",
        "colab": {}
      },
      "source": [
        "df.drop([ 'annual_inc_joint', 'dti_joint','mths_since_last_major_derog',\n",
        " 'verification_status_joint','tot_coll_amt', 'tot_cur_bal', 'open_acc_6m', 'open_il_6m', 'open_il_12m', 'open_il_24m', 'mths_since_rcnt_il',\n",
        " 'total_bal_il', 'il_util', 'open_rv_12m', 'open_rv_24m', 'max_bal_bc', 'all_util', 'total_rev_hi_lim', 'inq_fi', 'total_cu_tl', 'inq_last_12m', 'acc_open_past_24mths',\n",
        " 'avg_cur_bal', 'bc_open_to_buy', 'bc_util', 'num_tl_90g_dpd_24m', 'num_tl_op_past_12m', 'pct_tl_nvr_dlq',\n",
        "       'percent_bc_gt_75',   'mo_sin_old_il_acct', 'mo_sin_old_rev_tl_op', 'mo_sin_rcnt_rev_tl_op', 'mo_sin_rcnt_tl', 'mort_acc', 'mths_since_recent_bc', 'mths_since_recent_bc_dlq',\n",
        " 'mths_since_recent_inq', 'mths_since_recent_revol_delinq', 'num_accts_ever_120_pd', 'num_actv_bc_tl', 'num_actv_rev_tl', 'num_bc_sats', 'num_bc_tl',\n",
        " 'num_il_tl', 'num_op_rev_tl', 'num_rev_accts', 'num_rev_tl_bal_gt_0', 'num_sats', 'num_tl_120dpd_2m', 'num_tl_30dpd','tot_hi_cred_lim', 'total_bal_ex_mort', 'total_bc_limit',\n",
        "       'total_il_high_credit_limit','next_pymnt_d','mths_since_last_record'  ],axis =1,inplace = True)"
      ],
      "execution_count": 0,
      "outputs": []
    },
    {
      "cell_type": "code",
      "metadata": {
        "id": "gnz9XnhL51xG",
        "colab_type": "code",
        "colab": {}
      },
      "source": [
        "df = df[~df.title.isna()]\n",
        "#df = df[~df.pub_rec_bankruptcies.isna()]\n",
        "df = df[~df.last_pymnt_d.isna()]\n",
        "df = df[~df.last_credit_pull_d.isna()] "
      ],
      "execution_count": 0,
      "outputs": []
    },
    {
      "cell_type": "markdown",
      "metadata": {
        "id": "hktamp0xl5Tf",
        "colab_type": "text"
      },
      "source": [
        "Cleaning Columns and Rows - after removing the null values <br>CLEANING DESC COLUMN AND FORMATING INTEREST RATE ,ZIP CODE ,Term and other date columns<br>\n",
        "I'm surious to know if  emp_title or emp_length will give any thing interesting when it is not given."
      ]
    },
    {
      "cell_type": "code",
      "metadata": {
        "id": "pqQwKejNrehk",
        "colab_type": "code",
        "colab": {}
      },
      "source": [
        "df.desc.fillna(' ' ,inplace= True)\n",
        "df.revol_util.fillna(-1 ,inplace= True)#reomve if not useful\n",
        "df.mths_since_last_delinq.fillna(-1 ,inplace= True)#reomve if not useful\n",
        "df.emp_title.fillna('Not Given' ,inplace= True)#reomve if not useful\n",
        "df.emp_length.fillna('Not Given' ,inplace= True)#reomve if not useful\n",
        "df['desc'] = df.desc.str.replace('<br>' , '')\n",
        "df['desc'] =df.desc.str.replace('Borrower added on ' , '')\n",
        "df['desc'] = df.desc.str.replace('(1[0-2]|0[1-9])/(3[01]|[12][0-9]|0[1-9])/(1[0-2]|0[1-9])' , '')\n",
        "df['desc'] =df.desc.str.replace('>' ,'')"
      ],
      "execution_count": 0,
      "outputs": []
    },
    {
      "cell_type": "code",
      "metadata": {
        "id": "woVQHlDVAeLQ",
        "colab_type": "code",
        "colab": {}
      },
      "source": [
        "df['int_rate'] = df.int_rate.apply(lambda x : float(x.strip('%'))/100 )\n",
        "df['revol_util'] = df.revol_util.apply(lambda x : float(x.strip('%'))/100 if (x != -1 ) else -1) # -1 so that we can regonize the columns and ignore if necessary"
      ],
      "execution_count": 0,
      "outputs": []
    },
    {
      "cell_type": "code",
      "metadata": {
        "id": "_EnYRKkVnO4i",
        "colab_type": "code",
        "colab": {}
      },
      "source": [
        "df['zip_code'] = df.zip_code.str.replace('xx' ,'')"
      ],
      "execution_count": 0,
      "outputs": []
    },
    {
      "cell_type": "code",
      "metadata": {
        "id": "RBKvxAX8Xqmp",
        "colab_type": "code",
        "colab": {}
      },
      "source": [
        "df['term']= df.term.str.strip()"
      ],
      "execution_count": 0,
      "outputs": []
    },
    {
      "cell_type": "code",
      "metadata": {
        "id": "VVwsDR_8nAF2",
        "colab_type": "code",
        "colab": {}
      },
      "source": [
        "df['last_credit_pull_d'] =df.last_credit_pull_d.apply(lambda x : datetime.datetime.strptime(x, '%b-%y') if pd.isnull(x) == False else  datetime.date(9999, 12,31) )\n",
        "df['issue_d'] =df.issue_d.apply(lambda x : datetime.datetime.strptime(x, '%b-%y') if pd.isnull(x) == False else  datetime.date(9999, 12,31) )\n",
        "df['earliest_cr_line'] =df.earliest_cr_line.apply(lambda x : datetime.datetime.strptime(x, '%b-%y') if pd.isnull(x) == False else  datetime.date(9999, 12,31) )\n",
        "df['last_pymnt_d'] =df.last_pymnt_d.apply(lambda x : datetime.datetime.strptime(x, '%b-%y') if pd.isnull(x) == False else  datetime.date(9999, 12,31) )"
      ],
      "execution_count": 0,
      "outputs": []
    },
    {
      "cell_type": "code",
      "metadata": {
        "id": "NWE4s3RQrZB5",
        "colab_type": "code",
        "outputId": "99050e79-0af7-4004-8c0a-ba4f152c19ba",
        "colab": {
          "base_uri": "https://localhost:8080/",
          "height": 835
        }
      },
      "source": [
        "df.isna().sum()"
      ],
      "execution_count": 95,
      "outputs": [
        {
          "output_type": "execute_result",
          "data": {
            "text/plain": [
              "member_id                    0\n",
              "loan_amnt                    0\n",
              "funded_amnt                  0\n",
              "funded_amnt_inv              0\n",
              "term                         0\n",
              "int_rate                     0\n",
              "installment                  0\n",
              "grade                        0\n",
              "sub_grade                    0\n",
              "emp_title                    0\n",
              "emp_length                   0\n",
              "home_ownership               0\n",
              "annual_inc                   0\n",
              "verification_status          0\n",
              "issue_d                      0\n",
              "loan_status                  0\n",
              "desc                         0\n",
              "purpose                      0\n",
              "title                        0\n",
              "zip_code                     0\n",
              "addr_state                   0\n",
              "dti                          0\n",
              "delinq_2yrs                  0\n",
              "earliest_cr_line             0\n",
              "inq_last_6mths               0\n",
              "mths_since_last_delinq       0\n",
              "open_acc                     0\n",
              "pub_rec                      0\n",
              "revol_bal                    0\n",
              "revol_util                   0\n",
              "total_acc                    0\n",
              "out_prncp                    0\n",
              "out_prncp_inv                0\n",
              "total_pymnt                  0\n",
              "total_pymnt_inv              0\n",
              "total_rec_prncp              0\n",
              "total_rec_int                0\n",
              "total_rec_late_fee           0\n",
              "recoveries                   0\n",
              "collection_recovery_fee      0\n",
              "last_pymnt_d                 0\n",
              "last_pymnt_amnt              0\n",
              "last_credit_pull_d           0\n",
              "pub_rec_bankruptcies       696\n",
              "dtype: int64"
            ]
          },
          "metadata": {
            "tags": []
          },
          "execution_count": 95
        }
      ]
    },
    {
      "cell_type": "markdown",
      "metadata": {
        "id": "vujekz8bTqKy",
        "colab_type": "text"
      },
      "source": [
        "###CHECKING FOR OUTLIERS"
      ]
    },
    {
      "cell_type": "code",
      "metadata": {
        "id": "-lo5-ijhS7um",
        "colab_type": "code",
        "outputId": "2fce7b57-6ddb-424c-cab0-30d29cf66a44",
        "colab": {
          "base_uri": "https://localhost:8080/",
          "height": 266
        }
      },
      "source": [
        "sns.set(style=\"whitegrid\")\n",
        "sns.boxplot(y=df.loan_amnt)"
      ],
      "execution_count": 96,
      "outputs": [
        {
          "output_type": "execute_result",
          "data": {
            "text/plain": [
              "<matplotlib.axes._subplots.AxesSubplot at 0x7fb526b2b278>"
            ]
          },
          "metadata": {
            "tags": []
          },
          "execution_count": 96
        },
        {
          "output_type": "display_data",
          "data": {
            "image/png": "[encoded data removed]",
            "text/plain": [
              "<Figure size 432x288 with 1 Axes>"
            ]
          },
          "metadata": {
            "tags": []
          }
        }
      ]
    },
    {
      "cell_type": "code",
      "metadata": {
        "id": "zUDQ3abOTVLq",
        "colab_type": "code",
        "outputId": "48451a9e-5263-4737-fbf6-9a6283624464",
        "colab": {
          "base_uri": "https://localhost:8080/",
          "height": 308
        }
      },
      "source": [
        "df.describe()"
      ],
      "execution_count": 97,
      "outputs": [
        {
          "output_type": "execute_result",
          "data": {
            "text/html": [
              "<div>\n",
              "<style scoped>\n",
              "    .dataframe tbody tr th:only-of-type {\n",
              "        vertical-align: middle;\n",
              "    }\n",
              "\n",
              "    .dataframe tbody tr th {\n",
              "        vertical-align: top;\n",
              "    }\n",
              "\n",
              "    .dataframe thead th {\n",
              "        text-align: right;\n",
              "    }\n",
              "</style>\n",
              "<table border=\"1\" class=\"dataframe\">\n",
              "  <thead>\n",
              "    <tr style=\"text-align: right;\">\n",
              "      <th></th>\n",
              "      <th>member_id</th>\n",
              "      <th>loan_amnt</th>\n",
              "      <th>funded_amnt</th>\n",
              "      <th>funded_amnt_inv</th>\n",
              "      <th>int_rate</th>\n",
              "      <th>installment</th>\n",
              "      <th>annual_inc</th>\n",
              "      <th>dti</th>\n",
              "      <th>delinq_2yrs</th>\n",
              "      <th>inq_last_6mths</th>\n",
              "      <th>mths_since_last_delinq</th>\n",
              "      <th>open_acc</th>\n",
              "      <th>pub_rec</th>\n",
              "      <th>revol_bal</th>\n",
              "      <th>revol_util</th>\n",
              "      <th>total_acc</th>\n",
              "      <th>out_prncp</th>\n",
              "      <th>out_prncp_inv</th>\n",
              "      <th>total_pymnt</th>\n",
              "      <th>total_pymnt_inv</th>\n",
              "      <th>total_rec_prncp</th>\n",
              "      <th>total_rec_int</th>\n",
              "      <th>total_rec_late_fee</th>\n",
              "      <th>recoveries</th>\n",
              "      <th>collection_recovery_fee</th>\n",
              "      <th>last_pymnt_amnt</th>\n",
              "      <th>pub_rec_bankruptcies</th>\n",
              "    </tr>\n",
              "  </thead>\n",
              "  <tbody>\n",
              "    <tr>\n",
              "      <th>count</th>\n",
              "      <td>3.963300e+04</td>\n",
              "      <td>39633.000000</td>\n",
              "      <td>39633.000000</td>\n",
              "      <td>39633.000000</td>\n",
              "      <td>39633.000000</td>\n",
              "      <td>39633.000000</td>\n",
              "      <td>3.963300e+04</td>\n",
              "      <td>39633.000000</td>\n",
              "      <td>39633.000000</td>\n",
              "      <td>39633.000000</td>\n",
              "      <td>39633.000000</td>\n",
              "      <td>39633.000000</td>\n",
              "      <td>39633.000000</td>\n",
              "      <td>39633.000000</td>\n",
              "      <td>39633.000000</td>\n",
              "      <td>39633.000000</td>\n",
              "      <td>39633.000000</td>\n",
              "      <td>39633.000000</td>\n",
              "      <td>39633.000000</td>\n",
              "      <td>39633.000000</td>\n",
              "      <td>39633.000000</td>\n",
              "      <td>39633.000000</td>\n",
              "      <td>39633.000000</td>\n",
              "      <td>39633.000000</td>\n",
              "      <td>39633.000000</td>\n",
              "      <td>39633.000000</td>\n",
              "      <td>38937.000000</td>\n",
              "    </tr>\n",
              "    <tr>\n",
              "      <th>mean</th>\n",
              "      <td>8.505441e+05</td>\n",
              "      <td>11225.515353</td>\n",
              "      <td>10953.430853</td>\n",
              "      <td>10404.675689</td>\n",
              "      <td>0.120173</td>\n",
              "      <td>324.721103</td>\n",
              "      <td>6.901247e+04</td>\n",
              "      <td>13.318316</td>\n",
              "      <td>0.146267</td>\n",
              "      <td>0.868292</td>\n",
              "      <td>12.044534</td>\n",
              "      <td>9.298287</td>\n",
              "      <td>0.055005</td>\n",
              "      <td>13397.305553</td>\n",
              "      <td>0.486598</td>\n",
              "      <td>22.100724</td>\n",
              "      <td>51.336462</td>\n",
              "      <td>51.097838</td>\n",
              "      <td>12175.618293</td>\n",
              "      <td>11588.250434</td>\n",
              "      <td>9812.127455</td>\n",
              "      <td>2267.820503</td>\n",
              "      <td>1.365904</td>\n",
              "      <td>94.304512</td>\n",
              "      <td>12.299525</td>\n",
              "      <td>2684.297829</td>\n",
              "      <td>0.043198</td>\n",
              "    </tr>\n",
              "    <tr>\n",
              "      <th>std</th>\n",
              "      <td>2.657160e+05</td>\n",
              "      <td>7455.337318</td>\n",
              "      <td>7185.759778</td>\n",
              "      <td>7128.607170</td>\n",
              "      <td>0.037247</td>\n",
              "      <td>208.833545</td>\n",
              "      <td>6.384216e+04</td>\n",
              "      <td>6.677228</td>\n",
              "      <td>0.491169</td>\n",
              "      <td>1.069715</td>\n",
              "      <td>21.972346</td>\n",
              "      <td>4.400195</td>\n",
              "      <td>0.237106</td>\n",
              "      <td>15894.461113</td>\n",
              "      <td>0.287642</td>\n",
              "      <td>11.400749</td>\n",
              "      <td>375.562797</td>\n",
              "      <td>374.213029</td>\n",
              "      <td>9036.709284</td>\n",
              "      <td>8938.236885</td>\n",
              "      <td>7059.807662</td>\n",
              "      <td>2608.663170</td>\n",
              "      <td>7.297430</td>\n",
              "      <td>685.618852</td>\n",
              "      <td>148.352482</td>\n",
              "      <td>4450.175844</td>\n",
              "      <td>0.204188</td>\n",
              "    </tr>\n",
              "    <tr>\n",
              "      <th>min</th>\n",
              "      <td>7.069900e+04</td>\n",
              "      <td>500.000000</td>\n",
              "      <td>500.000000</td>\n",
              "      <td>0.000000</td>\n",
              "      <td>0.054200</td>\n",
              "      <td>15.690000</td>\n",
              "      <td>4.000000e+03</td>\n",
              "      <td>0.000000</td>\n",
              "      <td>0.000000</td>\n",
              "      <td>0.000000</td>\n",
              "      <td>-1.000000</td>\n",
              "      <td>2.000000</td>\n",
              "      <td>0.000000</td>\n",
              "      <td>0.000000</td>\n",
              "      <td>-1.000000</td>\n",
              "      <td>2.000000</td>\n",
              "      <td>0.000000</td>\n",
              "      <td>0.000000</td>\n",
              "      <td>33.730000</td>\n",
              "      <td>0.000000</td>\n",
              "      <td>0.000000</td>\n",
              "      <td>6.220000</td>\n",
              "      <td>0.000000</td>\n",
              "      <td>0.000000</td>\n",
              "      <td>0.000000</td>\n",
              "      <td>0.000000</td>\n",
              "      <td>0.000000</td>\n",
              "    </tr>\n",
              "    <tr>\n",
              "      <th>25%</th>\n",
              "      <td>6.668720e+05</td>\n",
              "      <td>5500.000000</td>\n",
              "      <td>5400.000000</td>\n",
              "      <td>5000.000000</td>\n",
              "      <td>0.092500</td>\n",
              "      <td>167.080000</td>\n",
              "      <td>4.050000e+04</td>\n",
              "      <td>8.190000</td>\n",
              "      <td>0.000000</td>\n",
              "      <td>0.000000</td>\n",
              "      <td>-1.000000</td>\n",
              "      <td>6.000000</td>\n",
              "      <td>0.000000</td>\n",
              "      <td>3711.000000</td>\n",
              "      <td>0.253000</td>\n",
              "      <td>14.000000</td>\n",
              "      <td>0.000000</td>\n",
              "      <td>0.000000</td>\n",
              "      <td>5594.008440</td>\n",
              "      <td>5138.680000</td>\n",
              "      <td>4648.890000</td>\n",
              "      <td>665.160000</td>\n",
              "      <td>0.000000</td>\n",
              "      <td>0.000000</td>\n",
              "      <td>0.000000</td>\n",
              "      <td>219.860000</td>\n",
              "      <td>0.000000</td>\n",
              "    </tr>\n",
              "    <tr>\n",
              "      <th>50%</th>\n",
              "      <td>8.508800e+05</td>\n",
              "      <td>10000.000000</td>\n",
              "      <td>9600.000000</td>\n",
              "      <td>8975.000000</td>\n",
              "      <td>0.118300</td>\n",
              "      <td>280.610000</td>\n",
              "      <td>5.900000e+04</td>\n",
              "      <td>13.410000</td>\n",
              "      <td>0.000000</td>\n",
              "      <td>1.000000</td>\n",
              "      <td>-1.000000</td>\n",
              "      <td>9.000000</td>\n",
              "      <td>0.000000</td>\n",
              "      <td>8862.000000</td>\n",
              "      <td>0.492000</td>\n",
              "      <td>20.000000</td>\n",
              "      <td>0.000000</td>\n",
              "      <td>0.000000</td>\n",
              "      <td>9930.508634</td>\n",
              "      <td>9308.160000</td>\n",
              "      <td>8000.000000</td>\n",
              "      <td>1353.290000</td>\n",
              "      <td>0.000000</td>\n",
              "      <td>0.000000</td>\n",
              "      <td>0.000000</td>\n",
              "      <td>548.660000</td>\n",
              "      <td>0.000000</td>\n",
              "    </tr>\n",
              "    <tr>\n",
              "      <th>75%</th>\n",
              "      <td>1.047368e+06</td>\n",
              "      <td>15000.000000</td>\n",
              "      <td>15000.000000</td>\n",
              "      <td>14400.000000</td>\n",
              "      <td>0.145900</td>\n",
              "      <td>430.780000</td>\n",
              "      <td>8.240400e+04</td>\n",
              "      <td>18.600000</td>\n",
              "      <td>0.000000</td>\n",
              "      <td>1.000000</td>\n",
              "      <td>21.000000</td>\n",
              "      <td>12.000000</td>\n",
              "      <td>0.000000</td>\n",
              "      <td>17076.000000</td>\n",
              "      <td>0.723000</td>\n",
              "      <td>29.000000</td>\n",
              "      <td>0.000000</td>\n",
              "      <td>0.000000</td>\n",
              "      <td>16553.741870</td>\n",
              "      <td>15815.910000</td>\n",
              "      <td>13703.960000</td>\n",
              "      <td>2838.130000</td>\n",
              "      <td>0.000000</td>\n",
              "      <td>0.000000</td>\n",
              "      <td>0.000000</td>\n",
              "      <td>3307.040000</td>\n",
              "      <td>0.000000</td>\n",
              "    </tr>\n",
              "    <tr>\n",
              "      <th>max</th>\n",
              "      <td>1.314167e+06</td>\n",
              "      <td>35000.000000</td>\n",
              "      <td>35000.000000</td>\n",
              "      <td>35000.000000</td>\n",
              "      <td>0.245900</td>\n",
              "      <td>1305.190000</td>\n",
              "      <td>6.000000e+06</td>\n",
              "      <td>29.990000</td>\n",
              "      <td>11.000000</td>\n",
              "      <td>8.000000</td>\n",
              "      <td>120.000000</td>\n",
              "      <td>44.000000</td>\n",
              "      <td>4.000000</td>\n",
              "      <td>149588.000000</td>\n",
              "      <td>0.999000</td>\n",
              "      <td>90.000000</td>\n",
              "      <td>6311.470000</td>\n",
              "      <td>6307.370000</td>\n",
              "      <td>58563.679930</td>\n",
              "      <td>58563.680000</td>\n",
              "      <td>35000.020000</td>\n",
              "      <td>23563.680000</td>\n",
              "      <td>180.200000</td>\n",
              "      <td>29623.350000</td>\n",
              "      <td>7002.190000</td>\n",
              "      <td>36115.200000</td>\n",
              "      <td>2.000000</td>\n",
              "    </tr>\n",
              "  </tbody>\n",
              "</table>\n",
              "</div>"
            ],
            "text/plain": [
              "          member_id     loan_amnt  ...  last_pymnt_amnt  pub_rec_bankruptcies\n",
              "count  3.963300e+04  39633.000000  ...     39633.000000          38937.000000\n",
              "mean   8.505441e+05  11225.515353  ...      2684.297829              0.043198\n",
              "std    2.657160e+05   7455.337318  ...      4450.175844              0.204188\n",
              "min    7.069900e+04    500.000000  ...         0.000000              0.000000\n",
              "25%    6.668720e+05   5500.000000  ...       219.860000              0.000000\n",
              "50%    8.508800e+05  10000.000000  ...       548.660000              0.000000\n",
              "75%    1.047368e+06  15000.000000  ...      3307.040000              0.000000\n",
              "max    1.314167e+06  35000.000000  ...     36115.200000              2.000000\n",
              "\n",
              "[8 rows x 27 columns]"
            ]
          },
          "metadata": {
            "tags": []
          },
          "execution_count": 97
        }
      ]
    },
    {
      "cell_type": "markdown",
      "metadata": {
        "id": "YamFfLtNUP1c",
        "colab_type": "text"
      },
      "source": [
        "DIGGING DEEPER ON ANNUAL INCOME\n",
        "<BR>--out_prncp\tout_prncp_inv<br>\ttotal_pymnt\ttotal_pymnt_inv\ttotal_rec_prncp\ttotal_rec_int,revol_bal"
      ]
    },
    {
      "cell_type": "code",
      "metadata": {
        "id": "K6iMLvd9To_y",
        "colab_type": "code",
        "outputId": "d780d78b-5350-48be-dc27-3a49aa35b667",
        "colab": {
          "base_uri": "https://localhost:8080/",
          "height": 277
        }
      },
      "source": [
        "sns.set(style=\"whitegrid\")\n",
        "sns.boxplot(y=df.annual_inc)"
      ],
      "execution_count": 98,
      "outputs": [
        {
          "output_type": "execute_result",
          "data": {
            "text/plain": [
              "<matplotlib.axes._subplots.AxesSubplot at 0x7fb528bf5d68>"
            ]
          },
          "metadata": {
            "tags": []
          },
          "execution_count": 98
        },
        {
          "output_type": "display_data",
          "data": {
            "image/png": "[encoded data removed]",
            "text/plain": [
              "<Figure size 432x288 with 1 Axes>"
            ]
          },
          "metadata": {
            "tags": []
          }
        }
      ]
    },
    {
      "cell_type": "code",
      "metadata": {
        "id": "X5Ceap9nVj0d",
        "colab_type": "code",
        "outputId": "f0d10dbf-c063-4bd0-ada9-02eb0f2a7577",
        "colab": {
          "base_uri": "https://localhost:8080/",
          "height": 254
        }
      },
      "source": [
        "df.total_pymnt.quantile([0,0.001,0.01,.025,.05,.1, .25, .5, .75,.975 ,.99,1],)"
      ],
      "execution_count": 99,
      "outputs": [
        {
          "output_type": "execute_result",
          "data": {
            "text/plain": [
              "0.000       33.730000\n",
              "0.001      202.011200\n",
              "0.010      851.378800\n",
              "0.025     1288.413729\n",
              "0.050     1940.316000\n",
              "0.100     3003.606592\n",
              "0.250     5594.008440\n",
              "0.500     9930.508634\n",
              "0.750    16553.741870\n",
              "0.975    35502.336006\n",
              "0.990    42222.797961\n",
              "1.000    58563.679930\n",
              "Name: total_pymnt, dtype: float64"
            ]
          },
          "metadata": {
            "tags": []
          },
          "execution_count": 99
        }
      ]
    },
    {
      "cell_type": "code",
      "metadata": {
        "id": "4UcRD2fgVzQH",
        "colab_type": "code",
        "outputId": "f20b91bb-bdbd-4241-8428-788e9d388a6a",
        "colab": {
          "base_uri": "https://localhost:8080/",
          "height": 254
        }
      },
      "source": [
        "df.annual_inc.quantile([0,0.001,0.01,.025,.05,.1, .25, .5, .75,.975 ,.99 ,1],)"
      ],
      "execution_count": 100,
      "outputs": [
        {
          "output_type": "execute_result",
          "data": {
            "text/plain": [
              "0.000       4000.000\n",
              "0.001       8407.584\n",
              "0.010      14400.000\n",
              "0.025      19200.000\n",
              "0.050      24000.000\n",
              "0.100      30000.000\n",
              "0.250      40500.000\n",
              "0.500      59000.000\n",
              "0.750      82404.000\n",
              "0.975     175000.000\n",
              "0.990     235000.000\n",
              "1.000    6000000.000\n",
              "Name: annual_inc, dtype: float64"
            ]
          },
          "metadata": {
            "tags": []
          },
          "execution_count": 100
        }
      ]
    },
    {
      "cell_type": "code",
      "metadata": {
        "id": "rXiIqUsEl_no",
        "colab_type": "code",
        "colab": {}
      },
      "source": [
        "df = df[df.annual_inc.between(df.annual_inc.quantile(0), df.annual_inc.quantile(.99))]"
      ],
      "execution_count": 0,
      "outputs": []
    },
    {
      "cell_type": "code",
      "metadata": {
        "id": "4DZv8AXZm-89",
        "colab_type": "code",
        "outputId": "8652f799-843c-441a-b236-981763e83236",
        "colab": {
          "base_uri": "https://localhost:8080/",
          "height": 266
        }
      },
      "source": [
        "sns.set(style=\"whitegrid\")\n",
        "sns.boxplot(y=df.annual_inc)\n",
        "\n"
      ],
      "execution_count": 102,
      "outputs": [
        {
          "output_type": "execute_result",
          "data": {
            "text/plain": [
              "<matplotlib.axes._subplots.AxesSubplot at 0x7fb526e94550>"
            ]
          },
          "metadata": {
            "tags": []
          },
          "execution_count": 102
        },
        {
          "output_type": "display_data",
          "data": {
            "image/png": "[encoded data removed]",
            "text/plain": [
              "<Figure size 432x288 with 1 Axes>"
            ]
          },
          "metadata": {
            "tags": []
          }
        }
      ]
    },
    {
      "cell_type": "markdown",
      "metadata": {
        "id": "Zxa-aRkZELiM",
        "colab_type": "text"
      },
      "source": [
        "##UNIVARIATE ANALYSIS\n"
      ]
    },
    {
      "cell_type": "code",
      "metadata": {
        "id": "LXl34YY4KAjx",
        "colab_type": "code",
        "outputId": "8a29408c-3553-490e-c130-e7165dbd0f18",
        "colab": {
          "base_uri": "https://localhost:8080/",
          "height": 405
        }
      },
      "source": [
        "plt.subplots(figsize=(22,6)) \n",
        "plt.subplot(1,3,1)\n",
        "sns.distplot(df.loan_amnt,fit = norm)\n",
        "plt.xlabel('Loan Amount')\n",
        "plt.subplot(1,3,2)\n",
        "sns.distplot(df.funded_amnt,fit = norm )\n",
        "plt.xlabel('Funded Amount')\n",
        "plt.subplot(1,3,3)\n",
        "sns.distplot(df.funded_amnt_inv,fit = norm)\n",
        "plt.xlabel('Investor Funded Amount')\n",
        "plt.show()"
      ],
      "execution_count": 110,
      "outputs": [
        {
          "output_type": "display_data",
          "data": {
            "image/png": "[encoded data removed]",
            "text/plain": [
              "<Figure size 1584x432 with 3 Axes>"
            ]
          },
          "metadata": {
            "tags": []
          }
        }
      ]
    },
    {
      "cell_type": "code",
      "metadata": {
        "id": "k9cPM53PLwn7",
        "colab_type": "code",
        "outputId": "b45b61d7-e2ea-46ff-98cf-b052cb728eae",
        "colab": {
          "base_uri": "https://localhost:8080/",
          "height": 377
        }
      },
      "source": [
        "plt.subplots(figsize=(22,6)) \n",
        "plt.subplot(1,2,1)\n",
        "df[df.term == '60 months'].loan_amnt.hist()\n",
        "plt.subplot(1,2,2)\n",
        "df[df.term == '36 months'].loan_amnt.hist()\n",
        "plt.show()"
      ],
      "execution_count": 109,
      "outputs": [
        {
          "output_type": "display_data",
          "data": {
            "image/png": "[encoded data removed]",
            "text/plain": [
              "<Figure size 1584x432 with 2 Axes>"
            ]
          },
          "metadata": {
            "tags": []
          }
        }
      ]
    },
    {
      "cell_type": "code",
      "metadata": {
        "id": "2SYpeMtNKe4N",
        "colab_type": "code",
        "outputId": "a5edc8a5-c8eb-44a3-dbeb-f70284f38538",
        "colab": {
          "base_uri": "https://localhost:8080/",
          "height": 365
        }
      },
      "source": [
        "sns.catplot(x=\"loan_status\", y=\"loan_amnt\", hue=\"term\", kind=\"box\", data=df);"
      ],
      "execution_count": 116,
      "outputs": [
        {
          "output_type": "display_data",
          "data": {
            "image/png": "[encoded data removed]",
            "text/plain": [
              "<Figure size 458.725x360 with 1 Axes>"
            ]
          },
          "metadata": {
            "tags": []
          }
        }
      ]
    },
    {
      "cell_type": "code",
      "metadata": {
        "id": "-j40S_XkNGRA",
        "colab_type": "code",
        "colab": {}
      },
      "source": [
        "pd.crosstab(index=  [df.verification_status],columns = df.loan_status, values= df.loan_amnt , aggfunc ='count' , normalize= 'index'  )"
      ],
      "execution_count": 0,
      "outputs": []
    },
    {
      "cell_type": "markdown",
      "metadata": {
        "id": "4njmBBz5EEqT",
        "colab_type": "text"
      },
      "source": [
        "Checking impact  of loan amount "
      ]
    },
    {
      "cell_type": "code",
      "metadata": {
        "id": "IyVD-nehjNny",
        "colab_type": "code",
        "colab": {}
      },
      "source": [
        "sns.set(style=\"whitegrid\")\n",
        "sns.boxplot(y=df.loan_amnt , x= df.loan_status)"
      ],
      "execution_count": 0,
      "outputs": []
    },
    {
      "cell_type": "markdown",
      "metadata": {
        "id": "vmss3n-9A3Fi",
        "colab_type": "text"
      },
      "source": [
        "Loan amount doesnt seem to have major impact on status , although loan amount is more varied in case of charged off loans."
      ]
    },
    {
      "cell_type": "markdown",
      "metadata": {
        "id": "203jBfKhB28i",
        "colab_type": "text"
      },
      "source": [
        "LETS OBSERVE IMPACT OF ANNUAL INCOME ON LOAN STATUS"
      ]
    },
    {
      "cell_type": "code",
      "metadata": {
        "id": "PF6iBuEnB8ol",
        "colab_type": "code",
        "colab": {}
      },
      "source": [
        "df.annual_inc.describe()"
      ],
      "execution_count": 0,
      "outputs": []
    },
    {
      "cell_type": "code",
      "metadata": {
        "id": "MdFRPX5jODCr",
        "colab_type": "code",
        "colab": {}
      },
      "source": [
        "df.annual_inc.hist()"
      ],
      "execution_count": 0,
      "outputs": []
    },
    {
      "cell_type": "code",
      "metadata": {
        "id": "EiCRT3d3jNkv",
        "colab_type": "code",
        "colab": {}
      },
      "source": [
        "sns.set(style=\"whitegrid\")\n",
        "sns.boxplot(y=df.annual_inc , x= df.loan_status)"
      ],
      "execution_count": 0,
      "outputs": []
    },
    {
      "cell_type": "markdown",
      "metadata": {
        "id": "9DglOL9bCIjI",
        "colab_type": "text"
      },
      "source": [
        "the annual income seems to be on the lower side in case of charged off loans"
      ]
    },
    {
      "cell_type": "markdown",
      "metadata": {
        "id": "koyvcE3FCwZT",
        "colab_type": "text"
      },
      "source": [
        "CHECKING THE IMPACT OF dti on LOAN STATUS"
      ]
    },
    {
      "cell_type": "code",
      "metadata": {
        "id": "y_eqAX4bjNGP",
        "colab_type": "code",
        "colab": {}
      },
      "source": [
        "df.dti.describe()"
      ],
      "execution_count": 0,
      "outputs": []
    },
    {
      "cell_type": "code",
      "metadata": {
        "id": "WFi7l5U_jNRn",
        "colab_type": "code",
        "colab": {}
      },
      "source": [
        "sns.set(style=\"whitegrid\")\n",
        "sns.boxplot(y=df.dti , x= df.loan_status) "
      ],
      "execution_count": 0,
      "outputs": []
    },
    {
      "cell_type": "markdown",
      "metadata": {
        "id": "oUCSAcrXC80h",
        "colab_type": "text"
      },
      "source": [
        "CHECKING THE IMPACT OF LAST 6 MONTHS ENQUIRY on LOAN STATUS"
      ]
    },
    {
      "cell_type": "code",
      "metadata": {
        "id": "UDOg-Qt_jMj8",
        "colab_type": "code",
        "colab": {}
      },
      "source": [
        "df.inq_last_6mths.hist()"
      ],
      "execution_count": 0,
      "outputs": []
    },
    {
      "cell_type": "code",
      "metadata": {
        "id": "Jidd8JpAjM5k",
        "colab_type": "code",
        "colab": {}
      },
      "source": [
        "sns.set(style=\"whitegrid\")\n",
        "sns.boxplot(y=df.inq_last_6mths , x= df.loan_status) "
      ],
      "execution_count": 0,
      "outputs": []
    },
    {
      "cell_type": "markdown",
      "metadata": {
        "id": "y82x9iKrDE_G",
        "colab_type": "text"
      },
      "source": [
        "chances of loan being charged off seems to increase with increase in enquiries"
      ]
    },
    {
      "cell_type": "markdown",
      "metadata": {
        "id": "LkacEDZ3DbWC",
        "colab_type": "text"
      },
      "source": [
        "checking impact of interest rate"
      ]
    },
    {
      "cell_type": "code",
      "metadata": {
        "id": "pVlEXY1-DsgM",
        "colab_type": "code",
        "colab": {}
      },
      "source": [
        "df.int_rate.describe()"
      ],
      "execution_count": 0,
      "outputs": []
    },
    {
      "cell_type": "code",
      "metadata": {
        "id": "n5blZAi-N31X",
        "colab_type": "code",
        "colab": {}
      },
      "source": [
        "df.int_rate.hist()"
      ],
      "execution_count": 0,
      "outputs": []
    },
    {
      "cell_type": "code",
      "metadata": {
        "id": "tlpF1t8v_Puh",
        "colab_type": "code",
        "colab": {}
      },
      "source": [
        "sns.set(style=\"whitegrid\")\n",
        "sns.boxplot(y=df.int_rate , x= df.loan_status) "
      ],
      "execution_count": 0,
      "outputs": []
    },
    {
      "cell_type": "markdown",
      "metadata": {
        "id": "hok669MWDzEx",
        "colab_type": "text"
      },
      "source": [
        "Increase in intrest rate  increases the chances of loan being charged off"
      ]
    },
    {
      "cell_type": "markdown",
      "metadata": {
        "id": "3oQ3VdEWMLOc",
        "colab_type": "text"
      },
      "source": [
        "checking impact of utilization rate"
      ]
    },
    {
      "cell_type": "code",
      "metadata": {
        "id": "rpjT_7OpMTOR",
        "colab_type": "code",
        "colab": {}
      },
      "source": [
        "df.revol_util.hist()"
      ],
      "execution_count": 0,
      "outputs": []
    },
    {
      "cell_type": "code",
      "metadata": {
        "id": "9QSq7hy8_Pqx",
        "colab_type": "code",
        "colab": {}
      },
      "source": [
        "sns.set(style=\"whitegrid\")\n",
        "sns.boxplot(y=df.revol_util , x= df.loan_status) "
      ],
      "execution_count": 0,
      "outputs": []
    },
    {
      "cell_type": "markdown",
      "metadata": {
        "id": "KNTy8gw6MgmJ",
        "colab_type": "text"
      },
      "source": [
        "Increase in utilization of revolving line  increases the chances of loan being charged off"
      ]
    },
    {
      "cell_type": "code",
      "metadata": {
        "id": "85R7bdI2_Pj9",
        "colab_type": "code",
        "colab": {}
      },
      "source": [
        "sns.set(style=\"whitegrid\")\n",
        "sns.boxplot(y=df.total_pymnt , x= df.loan_status) "
      ],
      "execution_count": 0,
      "outputs": []
    },
    {
      "cell_type": "code",
      "metadata": {
        "id": "qK6SsuYc_Pgk",
        "colab_type": "code",
        "colab": {}
      },
      "source": [
        "sns.set(style=\"whitegrid\")\n",
        "sns.boxplot(y=df.total_pymnt , x= df.loan_status) "
      ],
      "execution_count": 0,
      "outputs": []
    },
    {
      "cell_type": "code",
      "metadata": {
        "id": "jckxSmRxI_rH",
        "colab_type": "code",
        "colab": {}
      },
      "source": [
        "#df.groupby(['grade','loan_status'])['loan_amnt'].describe()\n",
        "pd.crosstab(index = [df.grade] , columns = df.loan_status , values = df.loan_amnt, aggfunc = 'count' , normalize= 'index')"
      ],
      "execution_count": 0,
      "outputs": []
    },
    {
      "cell_type": "code",
      "metadata": {
        "id": "m71ebOjb_Pcj",
        "colab_type": "code",
        "colab": {}
      },
      "source": [
        "pd.crosstab([df.purpose],df.loan_status,values=df.loan_amnt,aggfunc='count',\n",
        "           normalize='index')"
      ],
      "execution_count": 0,
      "outputs": []
    },
    {
      "cell_type": "code",
      "metadata": {
        "id": "TIBw_EnF_PW_",
        "colab_type": "code",
        "colab": {}
      },
      "source": [
        "pd.crosstab([df.addr_state],df.loan_status,values=df.loan_amnt,aggfunc='count' ,normalize= 'index')"
      ],
      "execution_count": 0,
      "outputs": []
    },
    {
      "cell_type": "code",
      "metadata": {
        "id": "fkIwU0og_PHL",
        "colab_type": "code",
        "colab": {}
      },
      "source": [
        ""
      ],
      "execution_count": 0,
      "outputs": []
    },
    {
      "cell_type": "markdown",
      "metadata": {
        "id": "xnCKy40JGswl",
        "colab_type": "text"
      },
      "source": [
        "##BIVARIATE ANALYSIS"
      ]
    },
    {
      "cell_type": "code",
      "metadata": {
        "id": "NsQcIVRhIn-r",
        "colab_type": "code",
        "colab": {}
      },
      "source": [
        "\n",
        "pd.crosstab(index = [df.term] , columns = df.loan_status , values = df.loan_amnt, aggfunc = 'count' , normalize= 'index')"
      ],
      "execution_count": 0,
      "outputs": []
    },
    {
      "cell_type": "code",
      "metadata": {
        "id": "6Ky_xFrWJIP6",
        "colab_type": "code",
        "colab": {}
      },
      "source": [
        "pd.crosstab(index = [df.term ,df.grade] , columns = df.loan_status , values = df.loan_amnt, aggfunc = 'count' , normalize= 'index')"
      ],
      "execution_count": 0,
      "outputs": []
    },
    {
      "cell_type": "code",
      "metadata": {
        "id": "9_U2G-btJS7C",
        "colab_type": "code",
        "colab": {}
      },
      "source": [
        "pd.crosstab(index = [df.grade,df.sub_grade] , columns = [df.loan_status,df.term ] , values = df.loan_amnt, aggfunc = 'count' , normalize= 'index')"
      ],
      "execution_count": 0,
      "outputs": []
    },
    {
      "cell_type": "code",
      "metadata": {
        "id": "s_q4CpZwMgWa",
        "colab_type": "code",
        "colab": {}
      },
      "source": [
        "df.groupby(['home_ownership','loan_status'])['loan_amnt'].describe()"
      ],
      "execution_count": 0,
      "outputs": []
    },
    {
      "cell_type": "code",
      "metadata": {
        "id": "AK6ZlEKIMkhF",
        "colab_type": "code",
        "colab": {}
      },
      "source": [
        "pd.crosstab(index=  [df.term,df.home_ownership],columns = df.loan_status, values= df.loan_amnt , aggfunc ='count' , normalize= 'index'  )"
      ],
      "execution_count": 0,
      "outputs": []
    },
    {
      "cell_type": "code",
      "metadata": {
        "id": "8ZYdpWsfVdul",
        "colab_type": "code",
        "colab": {}
      },
      "source": [
        "#pd.crosstab(index= [df.verification_status ] ,columns= [df.loan_status] , values= df.loan_amnt ,aggfunc= 'count',normalize= 'index')"
      ],
      "execution_count": 0,
      "outputs": []
    },
    {
      "cell_type": "code",
      "metadata": {
        "id": "0-cC3X3INl0x",
        "colab_type": "code",
        "colab": {}
      },
      "source": [
        "pd.crosstab(index= [df.verification_status,df.home_ownership,df.term ] ,columns= [df.loan_status] , values= df.loan_amnt ,aggfunc= 'count',normalize= 'index')"
      ],
      "execution_count": 0,
      "outputs": []
    },
    {
      "cell_type": "code",
      "metadata": {
        "id": "AwP21Zz7OQpV",
        "colab_type": "code",
        "colab": {}
      },
      "source": [
        "pd.crosstab([df.purpose ,df.term ],[df.loan_status],values=df.loan_amnt,aggfunc='count',\n",
        "           normalize='index')"
      ],
      "execution_count": 0,
      "outputs": []
    },
    {
      "cell_type": "markdown",
      "metadata": {
        "id": "qkiLx6MpPcxW",
        "colab_type": "text"
      },
      "source": [
        "Long term loans for vacation , education ,small business ,credit card or for no reasons is a bad idea"
      ]
    },
    {
      "cell_type": "code",
      "metadata": {
        "id": "rVVay299668l",
        "colab_type": "code",
        "colab": {}
      },
      "source": [
        ""
      ],
      "execution_count": 0,
      "outputs": []
    },
    {
      "cell_type": "code",
      "metadata": {
        "id": "YC-d5MDy7RMh",
        "colab_type": "code",
        "colab": {}
      },
      "source": [
        "rs = np.random.RandomState(0)\n",
        "cor = df[['annual_inc','collection_recovery_fee','dti','inq_last_6mths','installment','last_pymnt_amnt','loan_amnt','open_acc','out_prncp','out_prncp_inv','pub_rec','pub_rec_bankruptcies','revol_bal','revol_util','total_acc','total_pymnt','total_pymnt_inv','total_rec_int','total_rec_late_fee','total_rec_prncp']].corr()\n",
        "cor.style.background_gradient(cmap='coolwarm')"
      ],
      "execution_count": 0,
      "outputs": []
    },
    {
      "cell_type": "code",
      "metadata": {
        "id": "kuAgC2tAP0bn",
        "colab_type": "code",
        "colab": {}
      },
      "source": [
        "pd.crosstab([df.purpose],df.loan_status,values=df.loan_amnt,aggfunc='count',\n",
        "           normalize='index')"
      ],
      "execution_count": 0,
      "outputs": []
    },
    {
      "cell_type": "code",
      "metadata": {
        "id": "7sJbGfLEWUTm",
        "colab_type": "code",
        "colab": {}
      },
      "source": [
        "plt.scatter(x=df.annual_inc, y=df.loan_amnt)"
      ],
      "execution_count": 0,
      "outputs": []
    },
    {
      "cell_type": "markdown",
      "metadata": {
        "id": "m-Xp4W6lZWmq",
        "colab_type": "text"
      },
      "source": [
        "deriving a metric -length of description"
      ]
    },
    {
      "cell_type": "markdown",
      "metadata": {
        "id": "bLAR_RCOHKCO",
        "colab_type": "text"
      },
      "source": [
        "Lets check if length of description has any effect on the outcome"
      ]
    },
    {
      "cell_type": "code",
      "metadata": {
        "id": "Fv5Nn1RLbobJ",
        "colab_type": "code",
        "colab": {}
      },
      "source": [
        "df['desc_len'] = df.desc.apply(lambda c :len(c))"
      ],
      "execution_count": 0,
      "outputs": []
    },
    {
      "cell_type": "code",
      "metadata": {
        "id": "b_9F2AG4ZBEF",
        "colab_type": "code",
        "colab": {}
      },
      "source": [
        "df.desc_len.describe()"
      ],
      "execution_count": 0,
      "outputs": []
    },
    {
      "cell_type": "code",
      "metadata": {
        "id": "XeOo4G60Zxhx",
        "colab_type": "code",
        "colab": {}
      },
      "source": [
        "df.desc_len.quantile([.1, .25, .5, .75,.80,.90,.95]) "
      ],
      "execution_count": 0,
      "outputs": []
    },
    {
      "cell_type": "code",
      "metadata": {
        "id": "qzZoXrKQZ55Y",
        "colab_type": "code",
        "colab": {}
      },
      "source": [
        "df['desc_len_bin'] = pd.qcut(df.desc_len, 200, labels=False,duplicates = 'drop')"
      ],
      "execution_count": 0,
      "outputs": []
    },
    {
      "cell_type": "code",
      "metadata": {
        "id": "kVCNEA6vdtjp",
        "colab_type": "code",
        "colab": {}
      },
      "source": [
        "\n",
        "pd.crosstab([df.desc_len_bin],df.loan_status,values=df.loan_amnt,aggfunc='count',\n",
        "           normalize='index')"
      ],
      "execution_count": 0,
      "outputs": []
    },
    {
      "cell_type": "markdown",
      "metadata": {
        "id": "Zv0VgjRdZRO2",
        "colab_type": "text"
      },
      "source": [
        "Binning Interest rates into quartiles"
      ]
    },
    {
      "cell_type": "code",
      "metadata": {
        "id": "_Lvn1BKmaBBi",
        "colab_type": "code",
        "colab": {}
      },
      "source": [
        "df.int_rate.quantile([0.25,0.5,0.75,1])"
      ],
      "execution_count": 0,
      "outputs": []
    },
    {
      "cell_type": "code",
      "metadata": {
        "id": "Q8u5QSaVF-Pr",
        "colab_type": "code",
        "colab": {}
      },
      "source": [
        "df['interest_bin'] = pd.qcut(df.int_rate, 4, labels=['<0.09' , '<.12' , '<.15' , '<.25'],duplicates = 'drop')"
      ],
      "execution_count": 0,
      "outputs": []
    },
    {
      "cell_type": "code",
      "metadata": {
        "id": "Ht5JQreMGCot",
        "colab_type": "code",
        "colab": {}
      },
      "source": [
        "pd.crosstab([df.interest_bin],df.loan_status,values=df.loan_amnt,aggfunc='count',\n",
        "           normalize='index')"
      ],
      "execution_count": 0,
      "outputs": []
    },
    {
      "cell_type": "markdown",
      "metadata": {
        "id": "g_bshmPBbcsW",
        "colab_type": "text"
      },
      "source": [
        "As the interest rates grow higher the chances of charging off  the loan increases."
      ]
    },
    {
      "cell_type": "code",
      "metadata": {
        "id": "D78TSKgvZmNm",
        "colab_type": "code",
        "colab": {}
      },
      "source": [
        "pd.crosstab([df.emp_length , df.interest_bin ],df.loan_status,values=df.loan_amnt,aggfunc='count',\n",
        "           normalize='index')"
      ],
      "execution_count": 0,
      "outputs": []
    },
    {
      "cell_type": "code",
      "metadata": {
        "id": "dDgho7IzboVm",
        "colab_type": "code",
        "colab": {}
      },
      "source": [
        "pd.crosstab([df.grade , df.interest_bin ],df.loan_status,values=df.loan_amnt,aggfunc='count',\n",
        "           normalize='index')"
      ],
      "execution_count": 0,
      "outputs": []
    },
    {
      "cell_type": "code",
      "metadata": {
        "id": "Ras3EU-OcOIO",
        "colab_type": "code",
        "colab": {}
      },
      "source": [
        "df.open_acc.quantile([0, .1,.2,0.3 ,.4,.5,.6, .7,.8,0.99,1])"
      ],
      "execution_count": 0,
      "outputs": []
    },
    {
      "cell_type": "code",
      "metadata": {
        "id": "bCKQ1IkagbNc",
        "colab_type": "code",
        "colab": {}
      },
      "source": [
        "df['open_acc_bin'] = pd.qcut(df.open_acc, 10, labels=False,duplicates = 'drop')"
      ],
      "execution_count": 0,
      "outputs": []
    },
    {
      "cell_type": "code",
      "metadata": {
        "id": "sl8VCbikhfwx",
        "colab_type": "code",
        "colab": {}
      },
      "source": [
        "df60 = df[df.term == '60 months']"
      ],
      "execution_count": 0,
      "outputs": []
    },
    {
      "cell_type": "markdown",
      "metadata": {
        "id": "lvQLgr3rb36S",
        "colab_type": "text"
      },
      "source": [
        "CHECK ON FICO SCORE "
      ]
    },
    {
      "cell_type": "code",
      "metadata": {
        "id": "cIRPqpqtilDj",
        "colab_type": "code",
        "colab": {}
      },
      "source": [
        "df['fico']=df.desc.apply(lambda x : 1 if re.search('fico' ,x ) else 0 )"
      ],
      "execution_count": 0,
      "outputs": []
    },
    {
      "cell_type": "code",
      "metadata": {
        "id": "t7mcouu8atKv",
        "colab_type": "code",
        "colab": {}
      },
      "source": [
        "#df[df.fico == 1]\n",
        "pd.crosstab([df.fico  ],df.loan_status,values=df.loan_amnt,aggfunc='count',\n",
        "           normalize='index')"
      ],
      "execution_count": 0,
      "outputs": []
    },
    {
      "cell_type": "code",
      "metadata": {
        "id": "zc9VizAWe8gb",
        "colab_type": "code",
        "colab": {}
      },
      "source": [
        "dff =df[df.fico == 1]\n",
        "pd.crosstab([dff.purpose  ],dff.loan_status,values=dff.loan_amnt,aggfunc='count',\n",
        "           normalize='columns')"
      ],
      "execution_count": 0,
      "outputs": []
    },
    {
      "cell_type": "markdown",
      "metadata": {
        "id": "p9s3qvC5cEHJ",
        "colab_type": "text"
      },
      "source": [
        "Higher chances of loan getting charged off if fico is mentioned on desc<br>\n",
        "The cases where charged off is higher are mostly(~88%) debt consolidation/other when Fico is mentioned."
      ]
    },
    {
      "cell_type": "markdown",
      "metadata": {
        "id": "J_uB7kT8gIlo",
        "colab_type": "text"
      },
      "source": [
        "DTI Score analysis"
      ]
    },
    {
      "cell_type": "code",
      "metadata": {
        "id": "VzoeUlUPbYcg",
        "colab_type": "code",
        "colab": {}
      },
      "source": [
        "df.dti.describe()"
      ],
      "execution_count": 0,
      "outputs": []
    },
    {
      "cell_type": "code",
      "metadata": {
        "id": "P16J2FFlc5n6",
        "colab_type": "code",
        "colab": {}
      },
      "source": [
        "df.dti.quantile([0,.2,.4,.6, .8,1])"
      ],
      "execution_count": 0,
      "outputs": []
    },
    {
      "cell_type": "code",
      "metadata": {
        "id": "dkav-UoAi-1K",
        "colab_type": "code",
        "colab": {}
      },
      "source": [
        "df['dti_bin'] = pd.qcut(df.dti, 4, labels=False,duplicates = 'drop')\n",
        "pd.crosstab([df.dti_bin],df.loan_status,values=df.loan_amnt,aggfunc='count',normalize= 'index')"
      ],
      "execution_count": 0,
      "outputs": []
    },
    {
      "cell_type": "markdown",
      "metadata": {
        "id": "16O7gcJVv_TW",
        "colab_type": "text"
      },
      "source": [
        "As Dti increases , there is a slight increase in loan chared off"
      ]
    },
    {
      "cell_type": "code",
      "metadata": {
        "id": "8EUNdY5Cu2tU",
        "colab_type": "code",
        "colab": {}
      },
      "source": [
        "df['pub_rec_exists']= df.pub_rec.apply(lambda x: 1 if x>0 else 0)\n",
        "pd.crosstab([df.pub_rec_exists],df.loan_status,values=df.loan_amnt,aggfunc='count',normalize= 'index')"
      ],
      "execution_count": 0,
      "outputs": []
    },
    {
      "cell_type": "code",
      "metadata": {
        "id": "5fm9vTxbx3By",
        "colab_type": "code",
        "colab": {}
      },
      "source": [
        "pd.crosstab([df.pub_rec_bankruptcies ,df.pub_rec_exists ],df.loan_status,values=df.loan_amnt,aggfunc='count',normalize= 'index')"
      ],
      "execution_count": 0,
      "outputs": []
    },
    {
      "cell_type": "markdown",
      "metadata": {
        "id": "syHdPkakyfD1",
        "colab_type": "text"
      },
      "source": [
        "The chances of loan charge off is higher if banrupsies are present , even where no bankrupsy , any public record will increase chances of loan getting wrtten off"
      ]
    },
    {
      "cell_type": "code",
      "metadata": {
        "id": "jCqQ_ke9yR2u",
        "colab_type": "code",
        "colab": {}
      },
      "source": [
        ""
      ],
      "execution_count": 0,
      "outputs": []
    }
  ]
}