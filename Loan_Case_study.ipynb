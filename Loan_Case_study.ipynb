{
  "nbformat": 4,
  "nbformat_minor": 0,
  "metadata": {
    "colab": {
      "name": "Loan Case study.ipynb",
      "provenance": [],
      "collapsed_sections": [],
      "toc_visible": true,
      "include_colab_link": true
    },
    "kernelspec": {
      "name": "python3",
      "display_name": "Python 3"
    }
  },
  "cells": [
    {
      "cell_type": "markdown",
      "metadata": {
        "id": "view-in-github",
        "colab_type": "text"
      },
      "source": [
        "<a href=\"https://colab.research.google.com/github/karthikmnkrishna/Loan-default-prediction/blob/Build/Loan_Case_study.ipynb\" target=\"_parent\"><img src=\"https://colab.research.google.com/assets/colab-badge.svg\" alt=\"Open In Colab\"/></a>"
      ]
    },
    {
      "cell_type": "markdown",
      "metadata": {
        "id": "f5Im-okUGa8c",
        "colab_type": "text"
      },
      "source": [
        "#LOAN CASE STUDY"
      ]
    },
    {
      "cell_type": "markdown",
      "metadata": {
        "id": "PizLGXxkGfwt",
        "colab_type": "text"
      },
      "source": [
        "##DATA & LIBRARIES IMPORT"
      ]
    },
    {
      "cell_type": "code",
      "metadata": {
        "id": "BVsb410cbHwl",
        "colab_type": "code",
        "outputId": "5b46bacd-24e5-4cdc-81af-b6c5852446e9",
        "colab": {
          "base_uri": "https://localhost:8080/",
          "height": 74
        }
      },
      "source": [
        "import pandas as pd\n",
        "import numpy as np\n",
        "import matplotlib.pyplot as plt\n",
        "import seaborn as sns\n",
        "import datetime"
      ],
      "execution_count": 0,
      "outputs": [
        {
          "output_type": "stream",
          "text": [
            "/usr/local/lib/python3.6/dist-packages/statsmodels/tools/_testing.py:19: FutureWarning: pandas.util.testing is deprecated. Use the functions in the public API at pandas.testing instead.\n",
            "  import pandas.util.testing as tm\n"
          ],
          "name": "stderr"
        }
      ]
    },
    {
      "cell_type": "code",
      "metadata": {
        "id": "MDRLkDrQbVg5",
        "colab_type": "code",
        "outputId": "bffd6fa0-f482-448e-8eb0-c2aa9bc04d9d",
        "colab": {
          "base_uri": "https://localhost:8080/",
          "height": 92
        }
      },
      "source": [
        "df = pd.read_csv('/content/drive/My Drive/Masters/loan.csv')\n",
        "print(df.shape)"
      ],
      "execution_count": 0,
      "outputs": [
        {
          "output_type": "stream",
          "text": [
            "(39717, 111)\n"
          ],
          "name": "stdout"
        },
        {
          "output_type": "stream",
          "text": [
            "/usr/local/lib/python3.6/dist-packages/IPython/core/interactiveshell.py:2718: DtypeWarning: Columns (47) have mixed types.Specify dtype option on import or set low_memory=False.\n",
            "  interactivity=interactivity, compiler=compiler, result=result)\n"
          ],
          "name": "stderr"
        }
      ]
    },
    {
      "cell_type": "markdown",
      "metadata": {
        "id": "mLU_vqp2-Elt",
        "colab_type": "text"
      },
      "source": [
        "## DATA CLEANING AND FORMATING"
      ]
    },
    {
      "cell_type": "markdown",
      "metadata": {
        "id": "cE0RE8G4FUcS",
        "colab_type": "text"
      },
      "source": [
        "###Checking if there is any incosistency in column names"
      ]
    },
    {
      "cell_type": "code",
      "metadata": {
        "id": "uEnqFOsMEqIt",
        "colab_type": "code",
        "outputId": "2972db96-9f7e-489b-eaf8-dc183672a5bf",
        "colab": {
          "base_uri": "https://localhost:8080/",
          "height": 617
        }
      },
      "source": [
        "df.columns.values"
      ],
      "execution_count": 0,
      "outputs": [
        {
          "output_type": "execute_result",
          "data": {
            "text/plain": [
              "array(['id', 'member_id', 'loan_amnt', 'funded_amnt', 'funded_amnt_inv',\n",
              "       'term', 'int_rate', 'installment', 'grade', 'sub_grade',\n",
              "       'emp_title', 'emp_length', 'home_ownership', 'annual_inc',\n",
              "       'verification_status', 'issue_d', 'loan_status', 'pymnt_plan',\n",
              "       'url', 'desc', 'purpose', 'title', 'zip_code', 'addr_state', 'dti',\n",
              "       'delinq_2yrs', 'earliest_cr_line', 'inq_last_6mths',\n",
              "       'mths_since_last_delinq', 'mths_since_last_record', 'open_acc',\n",
              "       'pub_rec', 'revol_bal', 'revol_util', 'total_acc',\n",
              "       'initial_list_status', 'out_prncp', 'out_prncp_inv', 'total_pymnt',\n",
              "       'total_pymnt_inv', 'total_rec_prncp', 'total_rec_int',\n",
              "       'total_rec_late_fee', 'recoveries', 'collection_recovery_fee',\n",
              "       'last_pymnt_d', 'last_pymnt_amnt', 'next_pymnt_d',\n",
              "       'last_credit_pull_d', 'collections_12_mths_ex_med',\n",
              "       'mths_since_last_major_derog', 'policy_code', 'application_type',\n",
              "       'annual_inc_joint', 'dti_joint', 'verification_status_joint',\n",
              "       'acc_now_delinq', 'tot_coll_amt', 'tot_cur_bal', 'open_acc_6m',\n",
              "       'open_il_6m', 'open_il_12m', 'open_il_24m', 'mths_since_rcnt_il',\n",
              "       'total_bal_il', 'il_util', 'open_rv_12m', 'open_rv_24m',\n",
              "       'max_bal_bc', 'all_util', 'total_rev_hi_lim', 'inq_fi',\n",
              "       'total_cu_tl', 'inq_last_12m', 'acc_open_past_24mths',\n",
              "       'avg_cur_bal', 'bc_open_to_buy', 'bc_util',\n",
              "       'chargeoff_within_12_mths', 'delinq_amnt', 'mo_sin_old_il_acct',\n",
              "       'mo_sin_old_rev_tl_op', 'mo_sin_rcnt_rev_tl_op', 'mo_sin_rcnt_tl',\n",
              "       'mort_acc', 'mths_since_recent_bc', 'mths_since_recent_bc_dlq',\n",
              "       'mths_since_recent_inq', 'mths_since_recent_revol_delinq',\n",
              "       'num_accts_ever_120_pd', 'num_actv_bc_tl', 'num_actv_rev_tl',\n",
              "       'num_bc_sats', 'num_bc_tl', 'num_il_tl', 'num_op_rev_tl',\n",
              "       'num_rev_accts', 'num_rev_tl_bal_gt_0', 'num_sats',\n",
              "       'num_tl_120dpd_2m', 'num_tl_30dpd', 'num_tl_90g_dpd_24m',\n",
              "       'num_tl_op_past_12m', 'pct_tl_nvr_dlq', 'percent_bc_gt_75',\n",
              "       'pub_rec_bankruptcies', 'tax_liens', 'tot_hi_cred_lim',\n",
              "       'total_bal_ex_mort', 'total_bc_limit',\n",
              "       'total_il_high_credit_limit'], dtype=object)"
            ]
          },
          "metadata": {
            "tags": []
          },
          "execution_count": 3
        }
      ]
    },
    {
      "cell_type": "markdown",
      "metadata": {
        "id": "1l9u7vLeP8Sq",
        "colab_type": "text"
      },
      "source": [
        "The column names have no formating issue"
      ]
    },
    {
      "cell_type": "markdown",
      "metadata": {
        "id": "EvX5VFO3sPMh",
        "colab_type": "text"
      },
      "source": [
        "Checking for columns that have only a single value,and hence may not be considered for analysis"
      ]
    },
    {
      "cell_type": "code",
      "metadata": {
        "id": "X1tzrI1Mx4ON",
        "colab_type": "code",
        "outputId": "7b49ae5e-54de-4569-dd7a-b1d3e5650beb",
        "colab": {
          "base_uri": "https://localhost:8080/",
          "height": 337
        }
      },
      "source": [
        "df.describe()"
      ],
      "execution_count": 0,
      "outputs": [
        {
          "output_type": "execute_result",
          "data": {
            "text/html": [
              "<div>\n",
              "<style scoped>\n",
              "    .dataframe tbody tr th:only-of-type {\n",
              "        vertical-align: middle;\n",
              "    }\n",
              "\n",
              "    .dataframe tbody tr th {\n",
              "        vertical-align: top;\n",
              "    }\n",
              "\n",
              "    .dataframe thead th {\n",
              "        text-align: right;\n",
              "    }\n",
              "</style>\n",
              "<table border=\"1\" class=\"dataframe\">\n",
              "  <thead>\n",
              "    <tr style=\"text-align: right;\">\n",
              "      <th></th>\n",
              "      <th>id</th>\n",
              "      <th>member_id</th>\n",
              "      <th>loan_amnt</th>\n",
              "      <th>funded_amnt</th>\n",
              "      <th>funded_amnt_inv</th>\n",
              "      <th>installment</th>\n",
              "      <th>annual_inc</th>\n",
              "      <th>dti</th>\n",
              "      <th>delinq_2yrs</th>\n",
              "      <th>inq_last_6mths</th>\n",
              "      <th>mths_since_last_delinq</th>\n",
              "      <th>mths_since_last_record</th>\n",
              "      <th>open_acc</th>\n",
              "      <th>pub_rec</th>\n",
              "      <th>revol_bal</th>\n",
              "      <th>total_acc</th>\n",
              "      <th>out_prncp</th>\n",
              "      <th>out_prncp_inv</th>\n",
              "      <th>total_pymnt</th>\n",
              "      <th>total_pymnt_inv</th>\n",
              "      <th>total_rec_prncp</th>\n",
              "      <th>total_rec_int</th>\n",
              "      <th>total_rec_late_fee</th>\n",
              "      <th>recoveries</th>\n",
              "      <th>collection_recovery_fee</th>\n",
              "      <th>last_pymnt_amnt</th>\n",
              "      <th>collections_12_mths_ex_med</th>\n",
              "      <th>mths_since_last_major_derog</th>\n",
              "      <th>policy_code</th>\n",
              "      <th>annual_inc_joint</th>\n",
              "      <th>dti_joint</th>\n",
              "      <th>verification_status_joint</th>\n",
              "      <th>acc_now_delinq</th>\n",
              "      <th>tot_coll_amt</th>\n",
              "      <th>tot_cur_bal</th>\n",
              "      <th>open_acc_6m</th>\n",
              "      <th>open_il_6m</th>\n",
              "      <th>open_il_12m</th>\n",
              "      <th>open_il_24m</th>\n",
              "      <th>mths_since_rcnt_il</th>\n",
              "      <th>...</th>\n",
              "      <th>inq_fi</th>\n",
              "      <th>total_cu_tl</th>\n",
              "      <th>inq_last_12m</th>\n",
              "      <th>acc_open_past_24mths</th>\n",
              "      <th>avg_cur_bal</th>\n",
              "      <th>bc_open_to_buy</th>\n",
              "      <th>bc_util</th>\n",
              "      <th>chargeoff_within_12_mths</th>\n",
              "      <th>delinq_amnt</th>\n",
              "      <th>mo_sin_old_il_acct</th>\n",
              "      <th>mo_sin_old_rev_tl_op</th>\n",
              "      <th>mo_sin_rcnt_rev_tl_op</th>\n",
              "      <th>mo_sin_rcnt_tl</th>\n",
              "      <th>mort_acc</th>\n",
              "      <th>mths_since_recent_bc</th>\n",
              "      <th>mths_since_recent_bc_dlq</th>\n",
              "      <th>mths_since_recent_inq</th>\n",
              "      <th>mths_since_recent_revol_delinq</th>\n",
              "      <th>num_accts_ever_120_pd</th>\n",
              "      <th>num_actv_bc_tl</th>\n",
              "      <th>num_actv_rev_tl</th>\n",
              "      <th>num_bc_sats</th>\n",
              "      <th>num_bc_tl</th>\n",
              "      <th>num_il_tl</th>\n",
              "      <th>num_op_rev_tl</th>\n",
              "      <th>num_rev_accts</th>\n",
              "      <th>num_rev_tl_bal_gt_0</th>\n",
              "      <th>num_sats</th>\n",
              "      <th>num_tl_120dpd_2m</th>\n",
              "      <th>num_tl_30dpd</th>\n",
              "      <th>num_tl_90g_dpd_24m</th>\n",
              "      <th>num_tl_op_past_12m</th>\n",
              "      <th>pct_tl_nvr_dlq</th>\n",
              "      <th>percent_bc_gt_75</th>\n",
              "      <th>pub_rec_bankruptcies</th>\n",
              "      <th>tax_liens</th>\n",
              "      <th>tot_hi_cred_lim</th>\n",
              "      <th>total_bal_ex_mort</th>\n",
              "      <th>total_bc_limit</th>\n",
              "      <th>total_il_high_credit_limit</th>\n",
              "    </tr>\n",
              "  </thead>\n",
              "  <tbody>\n",
              "    <tr>\n",
              "      <th>count</th>\n",
              "      <td>3.971700e+04</td>\n",
              "      <td>3.971700e+04</td>\n",
              "      <td>39717.000000</td>\n",
              "      <td>39717.000000</td>\n",
              "      <td>39717.000000</td>\n",
              "      <td>39717.000000</td>\n",
              "      <td>3.971700e+04</td>\n",
              "      <td>39717.000000</td>\n",
              "      <td>39717.000000</td>\n",
              "      <td>39717.000000</td>\n",
              "      <td>14035.000000</td>\n",
              "      <td>2786.000000</td>\n",
              "      <td>39717.000000</td>\n",
              "      <td>39717.000000</td>\n",
              "      <td>39717.000000</td>\n",
              "      <td>39717.000000</td>\n",
              "      <td>39717.000000</td>\n",
              "      <td>39717.000000</td>\n",
              "      <td>39717.000000</td>\n",
              "      <td>39717.000000</td>\n",
              "      <td>39717.000000</td>\n",
              "      <td>39717.000000</td>\n",
              "      <td>39717.000000</td>\n",
              "      <td>39717.000000</td>\n",
              "      <td>39717.000000</td>\n",
              "      <td>39717.000000</td>\n",
              "      <td>39661.0</td>\n",
              "      <td>0.0</td>\n",
              "      <td>39717.0</td>\n",
              "      <td>0.0</td>\n",
              "      <td>0.0</td>\n",
              "      <td>0.0</td>\n",
              "      <td>39717.0</td>\n",
              "      <td>0.0</td>\n",
              "      <td>0.0</td>\n",
              "      <td>0.0</td>\n",
              "      <td>0.0</td>\n",
              "      <td>0.0</td>\n",
              "      <td>0.0</td>\n",
              "      <td>0.0</td>\n",
              "      <td>...</td>\n",
              "      <td>0.0</td>\n",
              "      <td>0.0</td>\n",
              "      <td>0.0</td>\n",
              "      <td>0.0</td>\n",
              "      <td>0.0</td>\n",
              "      <td>0.0</td>\n",
              "      <td>0.0</td>\n",
              "      <td>39661.0</td>\n",
              "      <td>39717.0</td>\n",
              "      <td>0.0</td>\n",
              "      <td>0.0</td>\n",
              "      <td>0.0</td>\n",
              "      <td>0.0</td>\n",
              "      <td>0.0</td>\n",
              "      <td>0.0</td>\n",
              "      <td>0.0</td>\n",
              "      <td>0.0</td>\n",
              "      <td>0.0</td>\n",
              "      <td>0.0</td>\n",
              "      <td>0.0</td>\n",
              "      <td>0.0</td>\n",
              "      <td>0.0</td>\n",
              "      <td>0.0</td>\n",
              "      <td>0.0</td>\n",
              "      <td>0.0</td>\n",
              "      <td>0.0</td>\n",
              "      <td>0.0</td>\n",
              "      <td>0.0</td>\n",
              "      <td>0.0</td>\n",
              "      <td>0.0</td>\n",
              "      <td>0.0</td>\n",
              "      <td>0.0</td>\n",
              "      <td>0.0</td>\n",
              "      <td>0.0</td>\n",
              "      <td>39020.000000</td>\n",
              "      <td>39678.0</td>\n",
              "      <td>0.0</td>\n",
              "      <td>0.0</td>\n",
              "      <td>0.0</td>\n",
              "      <td>0.0</td>\n",
              "    </tr>\n",
              "    <tr>\n",
              "      <th>mean</th>\n",
              "      <td>6.831319e+05</td>\n",
              "      <td>8.504636e+05</td>\n",
              "      <td>11219.443815</td>\n",
              "      <td>10947.713196</td>\n",
              "      <td>10397.448868</td>\n",
              "      <td>324.561922</td>\n",
              "      <td>6.896893e+04</td>\n",
              "      <td>13.315130</td>\n",
              "      <td>0.146512</td>\n",
              "      <td>0.869200</td>\n",
              "      <td>35.900962</td>\n",
              "      <td>69.698134</td>\n",
              "      <td>9.294408</td>\n",
              "      <td>0.055065</td>\n",
              "      <td>13382.528086</td>\n",
              "      <td>22.088828</td>\n",
              "      <td>51.227887</td>\n",
              "      <td>50.989768</td>\n",
              "      <td>12153.596544</td>\n",
              "      <td>11567.149118</td>\n",
              "      <td>9793.348813</td>\n",
              "      <td>2263.663172</td>\n",
              "      <td>1.363015</td>\n",
              "      <td>95.221624</td>\n",
              "      <td>12.406112</td>\n",
              "      <td>2678.826162</td>\n",
              "      <td>0.0</td>\n",
              "      <td>NaN</td>\n",
              "      <td>1.0</td>\n",
              "      <td>NaN</td>\n",
              "      <td>NaN</td>\n",
              "      <td>NaN</td>\n",
              "      <td>0.0</td>\n",
              "      <td>NaN</td>\n",
              "      <td>NaN</td>\n",
              "      <td>NaN</td>\n",
              "      <td>NaN</td>\n",
              "      <td>NaN</td>\n",
              "      <td>NaN</td>\n",
              "      <td>NaN</td>\n",
              "      <td>...</td>\n",
              "      <td>NaN</td>\n",
              "      <td>NaN</td>\n",
              "      <td>NaN</td>\n",
              "      <td>NaN</td>\n",
              "      <td>NaN</td>\n",
              "      <td>NaN</td>\n",
              "      <td>NaN</td>\n",
              "      <td>0.0</td>\n",
              "      <td>0.0</td>\n",
              "      <td>NaN</td>\n",
              "      <td>NaN</td>\n",
              "      <td>NaN</td>\n",
              "      <td>NaN</td>\n",
              "      <td>NaN</td>\n",
              "      <td>NaN</td>\n",
              "      <td>NaN</td>\n",
              "      <td>NaN</td>\n",
              "      <td>NaN</td>\n",
              "      <td>NaN</td>\n",
              "      <td>NaN</td>\n",
              "      <td>NaN</td>\n",
              "      <td>NaN</td>\n",
              "      <td>NaN</td>\n",
              "      <td>NaN</td>\n",
              "      <td>NaN</td>\n",
              "      <td>NaN</td>\n",
              "      <td>NaN</td>\n",
              "      <td>NaN</td>\n",
              "      <td>NaN</td>\n",
              "      <td>NaN</td>\n",
              "      <td>NaN</td>\n",
              "      <td>NaN</td>\n",
              "      <td>NaN</td>\n",
              "      <td>NaN</td>\n",
              "      <td>0.043260</td>\n",
              "      <td>0.0</td>\n",
              "      <td>NaN</td>\n",
              "      <td>NaN</td>\n",
              "      <td>NaN</td>\n",
              "      <td>NaN</td>\n",
              "    </tr>\n",
              "    <tr>\n",
              "      <th>std</th>\n",
              "      <td>2.106941e+05</td>\n",
              "      <td>2.656783e+05</td>\n",
              "      <td>7456.670694</td>\n",
              "      <td>7187.238670</td>\n",
              "      <td>7128.450439</td>\n",
              "      <td>208.874874</td>\n",
              "      <td>6.379377e+04</td>\n",
              "      <td>6.678594</td>\n",
              "      <td>0.491812</td>\n",
              "      <td>1.070219</td>\n",
              "      <td>22.020060</td>\n",
              "      <td>43.822529</td>\n",
              "      <td>4.400282</td>\n",
              "      <td>0.237200</td>\n",
              "      <td>15885.016641</td>\n",
              "      <td>11.401709</td>\n",
              "      <td>375.172839</td>\n",
              "      <td>373.824457</td>\n",
              "      <td>9042.040766</td>\n",
              "      <td>8942.672613</td>\n",
              "      <td>7065.522127</td>\n",
              "      <td>2608.111964</td>\n",
              "      <td>7.289979</td>\n",
              "      <td>688.744771</td>\n",
              "      <td>148.671593</td>\n",
              "      <td>4447.136012</td>\n",
              "      <td>0.0</td>\n",
              "      <td>NaN</td>\n",
              "      <td>0.0</td>\n",
              "      <td>NaN</td>\n",
              "      <td>NaN</td>\n",
              "      <td>NaN</td>\n",
              "      <td>0.0</td>\n",
              "      <td>NaN</td>\n",
              "      <td>NaN</td>\n",
              "      <td>NaN</td>\n",
              "      <td>NaN</td>\n",
              "      <td>NaN</td>\n",
              "      <td>NaN</td>\n",
              "      <td>NaN</td>\n",
              "      <td>...</td>\n",
              "      <td>NaN</td>\n",
              "      <td>NaN</td>\n",
              "      <td>NaN</td>\n",
              "      <td>NaN</td>\n",
              "      <td>NaN</td>\n",
              "      <td>NaN</td>\n",
              "      <td>NaN</td>\n",
              "      <td>0.0</td>\n",
              "      <td>0.0</td>\n",
              "      <td>NaN</td>\n",
              "      <td>NaN</td>\n",
              "      <td>NaN</td>\n",
              "      <td>NaN</td>\n",
              "      <td>NaN</td>\n",
              "      <td>NaN</td>\n",
              "      <td>NaN</td>\n",
              "      <td>NaN</td>\n",
              "      <td>NaN</td>\n",
              "      <td>NaN</td>\n",
              "      <td>NaN</td>\n",
              "      <td>NaN</td>\n",
              "      <td>NaN</td>\n",
              "      <td>NaN</td>\n",
              "      <td>NaN</td>\n",
              "      <td>NaN</td>\n",
              "      <td>NaN</td>\n",
              "      <td>NaN</td>\n",
              "      <td>NaN</td>\n",
              "      <td>NaN</td>\n",
              "      <td>NaN</td>\n",
              "      <td>NaN</td>\n",
              "      <td>NaN</td>\n",
              "      <td>NaN</td>\n",
              "      <td>NaN</td>\n",
              "      <td>0.204324</td>\n",
              "      <td>0.0</td>\n",
              "      <td>NaN</td>\n",
              "      <td>NaN</td>\n",
              "      <td>NaN</td>\n",
              "      <td>NaN</td>\n",
              "    </tr>\n",
              "    <tr>\n",
              "      <th>min</th>\n",
              "      <td>5.473400e+04</td>\n",
              "      <td>7.069900e+04</td>\n",
              "      <td>500.000000</td>\n",
              "      <td>500.000000</td>\n",
              "      <td>0.000000</td>\n",
              "      <td>15.690000</td>\n",
              "      <td>4.000000e+03</td>\n",
              "      <td>0.000000</td>\n",
              "      <td>0.000000</td>\n",
              "      <td>0.000000</td>\n",
              "      <td>0.000000</td>\n",
              "      <td>0.000000</td>\n",
              "      <td>2.000000</td>\n",
              "      <td>0.000000</td>\n",
              "      <td>0.000000</td>\n",
              "      <td>2.000000</td>\n",
              "      <td>0.000000</td>\n",
              "      <td>0.000000</td>\n",
              "      <td>0.000000</td>\n",
              "      <td>0.000000</td>\n",
              "      <td>0.000000</td>\n",
              "      <td>0.000000</td>\n",
              "      <td>0.000000</td>\n",
              "      <td>0.000000</td>\n",
              "      <td>0.000000</td>\n",
              "      <td>0.000000</td>\n",
              "      <td>0.0</td>\n",
              "      <td>NaN</td>\n",
              "      <td>1.0</td>\n",
              "      <td>NaN</td>\n",
              "      <td>NaN</td>\n",
              "      <td>NaN</td>\n",
              "      <td>0.0</td>\n",
              "      <td>NaN</td>\n",
              "      <td>NaN</td>\n",
              "      <td>NaN</td>\n",
              "      <td>NaN</td>\n",
              "      <td>NaN</td>\n",
              "      <td>NaN</td>\n",
              "      <td>NaN</td>\n",
              "      <td>...</td>\n",
              "      <td>NaN</td>\n",
              "      <td>NaN</td>\n",
              "      <td>NaN</td>\n",
              "      <td>NaN</td>\n",
              "      <td>NaN</td>\n",
              "      <td>NaN</td>\n",
              "      <td>NaN</td>\n",
              "      <td>0.0</td>\n",
              "      <td>0.0</td>\n",
              "      <td>NaN</td>\n",
              "      <td>NaN</td>\n",
              "      <td>NaN</td>\n",
              "      <td>NaN</td>\n",
              "      <td>NaN</td>\n",
              "      <td>NaN</td>\n",
              "      <td>NaN</td>\n",
              "      <td>NaN</td>\n",
              "      <td>NaN</td>\n",
              "      <td>NaN</td>\n",
              "      <td>NaN</td>\n",
              "      <td>NaN</td>\n",
              "      <td>NaN</td>\n",
              "      <td>NaN</td>\n",
              "      <td>NaN</td>\n",
              "      <td>NaN</td>\n",
              "      <td>NaN</td>\n",
              "      <td>NaN</td>\n",
              "      <td>NaN</td>\n",
              "      <td>NaN</td>\n",
              "      <td>NaN</td>\n",
              "      <td>NaN</td>\n",
              "      <td>NaN</td>\n",
              "      <td>NaN</td>\n",
              "      <td>NaN</td>\n",
              "      <td>0.000000</td>\n",
              "      <td>0.0</td>\n",
              "      <td>NaN</td>\n",
              "      <td>NaN</td>\n",
              "      <td>NaN</td>\n",
              "      <td>NaN</td>\n",
              "    </tr>\n",
              "    <tr>\n",
              "      <th>25%</th>\n",
              "      <td>5.162210e+05</td>\n",
              "      <td>6.667800e+05</td>\n",
              "      <td>5500.000000</td>\n",
              "      <td>5400.000000</td>\n",
              "      <td>5000.000000</td>\n",
              "      <td>167.020000</td>\n",
              "      <td>4.040400e+04</td>\n",
              "      <td>8.170000</td>\n",
              "      <td>0.000000</td>\n",
              "      <td>0.000000</td>\n",
              "      <td>18.000000</td>\n",
              "      <td>22.000000</td>\n",
              "      <td>6.000000</td>\n",
              "      <td>0.000000</td>\n",
              "      <td>3703.000000</td>\n",
              "      <td>13.000000</td>\n",
              "      <td>0.000000</td>\n",
              "      <td>0.000000</td>\n",
              "      <td>5576.930000</td>\n",
              "      <td>5112.310000</td>\n",
              "      <td>4600.000000</td>\n",
              "      <td>662.180000</td>\n",
              "      <td>0.000000</td>\n",
              "      <td>0.000000</td>\n",
              "      <td>0.000000</td>\n",
              "      <td>218.680000</td>\n",
              "      <td>0.0</td>\n",
              "      <td>NaN</td>\n",
              "      <td>1.0</td>\n",
              "      <td>NaN</td>\n",
              "      <td>NaN</td>\n",
              "      <td>NaN</td>\n",
              "      <td>0.0</td>\n",
              "      <td>NaN</td>\n",
              "      <td>NaN</td>\n",
              "      <td>NaN</td>\n",
              "      <td>NaN</td>\n",
              "      <td>NaN</td>\n",
              "      <td>NaN</td>\n",
              "      <td>NaN</td>\n",
              "      <td>...</td>\n",
              "      <td>NaN</td>\n",
              "      <td>NaN</td>\n",
              "      <td>NaN</td>\n",
              "      <td>NaN</td>\n",
              "      <td>NaN</td>\n",
              "      <td>NaN</td>\n",
              "      <td>NaN</td>\n",
              "      <td>0.0</td>\n",
              "      <td>0.0</td>\n",
              "      <td>NaN</td>\n",
              "      <td>NaN</td>\n",
              "      <td>NaN</td>\n",
              "      <td>NaN</td>\n",
              "      <td>NaN</td>\n",
              "      <td>NaN</td>\n",
              "      <td>NaN</td>\n",
              "      <td>NaN</td>\n",
              "      <td>NaN</td>\n",
              "      <td>NaN</td>\n",
              "      <td>NaN</td>\n",
              "      <td>NaN</td>\n",
              "      <td>NaN</td>\n",
              "      <td>NaN</td>\n",
              "      <td>NaN</td>\n",
              "      <td>NaN</td>\n",
              "      <td>NaN</td>\n",
              "      <td>NaN</td>\n",
              "      <td>NaN</td>\n",
              "      <td>NaN</td>\n",
              "      <td>NaN</td>\n",
              "      <td>NaN</td>\n",
              "      <td>NaN</td>\n",
              "      <td>NaN</td>\n",
              "      <td>NaN</td>\n",
              "      <td>0.000000</td>\n",
              "      <td>0.0</td>\n",
              "      <td>NaN</td>\n",
              "      <td>NaN</td>\n",
              "      <td>NaN</td>\n",
              "      <td>NaN</td>\n",
              "    </tr>\n",
              "    <tr>\n",
              "      <th>50%</th>\n",
              "      <td>6.656650e+05</td>\n",
              "      <td>8.508120e+05</td>\n",
              "      <td>10000.000000</td>\n",
              "      <td>9600.000000</td>\n",
              "      <td>8975.000000</td>\n",
              "      <td>280.220000</td>\n",
              "      <td>5.900000e+04</td>\n",
              "      <td>13.400000</td>\n",
              "      <td>0.000000</td>\n",
              "      <td>1.000000</td>\n",
              "      <td>34.000000</td>\n",
              "      <td>90.000000</td>\n",
              "      <td>9.000000</td>\n",
              "      <td>0.000000</td>\n",
              "      <td>8850.000000</td>\n",
              "      <td>20.000000</td>\n",
              "      <td>0.000000</td>\n",
              "      <td>0.000000</td>\n",
              "      <td>9899.640319</td>\n",
              "      <td>9287.150000</td>\n",
              "      <td>8000.000000</td>\n",
              "      <td>1348.910000</td>\n",
              "      <td>0.000000</td>\n",
              "      <td>0.000000</td>\n",
              "      <td>0.000000</td>\n",
              "      <td>546.140000</td>\n",
              "      <td>0.0</td>\n",
              "      <td>NaN</td>\n",
              "      <td>1.0</td>\n",
              "      <td>NaN</td>\n",
              "      <td>NaN</td>\n",
              "      <td>NaN</td>\n",
              "      <td>0.0</td>\n",
              "      <td>NaN</td>\n",
              "      <td>NaN</td>\n",
              "      <td>NaN</td>\n",
              "      <td>NaN</td>\n",
              "      <td>NaN</td>\n",
              "      <td>NaN</td>\n",
              "      <td>NaN</td>\n",
              "      <td>...</td>\n",
              "      <td>NaN</td>\n",
              "      <td>NaN</td>\n",
              "      <td>NaN</td>\n",
              "      <td>NaN</td>\n",
              "      <td>NaN</td>\n",
              "      <td>NaN</td>\n",
              "      <td>NaN</td>\n",
              "      <td>0.0</td>\n",
              "      <td>0.0</td>\n",
              "      <td>NaN</td>\n",
              "      <td>NaN</td>\n",
              "      <td>NaN</td>\n",
              "      <td>NaN</td>\n",
              "      <td>NaN</td>\n",
              "      <td>NaN</td>\n",
              "      <td>NaN</td>\n",
              "      <td>NaN</td>\n",
              "      <td>NaN</td>\n",
              "      <td>NaN</td>\n",
              "      <td>NaN</td>\n",
              "      <td>NaN</td>\n",
              "      <td>NaN</td>\n",
              "      <td>NaN</td>\n",
              "      <td>NaN</td>\n",
              "      <td>NaN</td>\n",
              "      <td>NaN</td>\n",
              "      <td>NaN</td>\n",
              "      <td>NaN</td>\n",
              "      <td>NaN</td>\n",
              "      <td>NaN</td>\n",
              "      <td>NaN</td>\n",
              "      <td>NaN</td>\n",
              "      <td>NaN</td>\n",
              "      <td>NaN</td>\n",
              "      <td>0.000000</td>\n",
              "      <td>0.0</td>\n",
              "      <td>NaN</td>\n",
              "      <td>NaN</td>\n",
              "      <td>NaN</td>\n",
              "      <td>NaN</td>\n",
              "    </tr>\n",
              "    <tr>\n",
              "      <th>75%</th>\n",
              "      <td>8.377550e+05</td>\n",
              "      <td>1.047339e+06</td>\n",
              "      <td>15000.000000</td>\n",
              "      <td>15000.000000</td>\n",
              "      <td>14400.000000</td>\n",
              "      <td>430.780000</td>\n",
              "      <td>8.230000e+04</td>\n",
              "      <td>18.600000</td>\n",
              "      <td>0.000000</td>\n",
              "      <td>1.000000</td>\n",
              "      <td>52.000000</td>\n",
              "      <td>104.000000</td>\n",
              "      <td>12.000000</td>\n",
              "      <td>0.000000</td>\n",
              "      <td>17058.000000</td>\n",
              "      <td>29.000000</td>\n",
              "      <td>0.000000</td>\n",
              "      <td>0.000000</td>\n",
              "      <td>16534.433040</td>\n",
              "      <td>15798.810000</td>\n",
              "      <td>13653.260000</td>\n",
              "      <td>2833.400000</td>\n",
              "      <td>0.000000</td>\n",
              "      <td>0.000000</td>\n",
              "      <td>0.000000</td>\n",
              "      <td>3293.160000</td>\n",
              "      <td>0.0</td>\n",
              "      <td>NaN</td>\n",
              "      <td>1.0</td>\n",
              "      <td>NaN</td>\n",
              "      <td>NaN</td>\n",
              "      <td>NaN</td>\n",
              "      <td>0.0</td>\n",
              "      <td>NaN</td>\n",
              "      <td>NaN</td>\n",
              "      <td>NaN</td>\n",
              "      <td>NaN</td>\n",
              "      <td>NaN</td>\n",
              "      <td>NaN</td>\n",
              "      <td>NaN</td>\n",
              "      <td>...</td>\n",
              "      <td>NaN</td>\n",
              "      <td>NaN</td>\n",
              "      <td>NaN</td>\n",
              "      <td>NaN</td>\n",
              "      <td>NaN</td>\n",
              "      <td>NaN</td>\n",
              "      <td>NaN</td>\n",
              "      <td>0.0</td>\n",
              "      <td>0.0</td>\n",
              "      <td>NaN</td>\n",
              "      <td>NaN</td>\n",
              "      <td>NaN</td>\n",
              "      <td>NaN</td>\n",
              "      <td>NaN</td>\n",
              "      <td>NaN</td>\n",
              "      <td>NaN</td>\n",
              "      <td>NaN</td>\n",
              "      <td>NaN</td>\n",
              "      <td>NaN</td>\n",
              "      <td>NaN</td>\n",
              "      <td>NaN</td>\n",
              "      <td>NaN</td>\n",
              "      <td>NaN</td>\n",
              "      <td>NaN</td>\n",
              "      <td>NaN</td>\n",
              "      <td>NaN</td>\n",
              "      <td>NaN</td>\n",
              "      <td>NaN</td>\n",
              "      <td>NaN</td>\n",
              "      <td>NaN</td>\n",
              "      <td>NaN</td>\n",
              "      <td>NaN</td>\n",
              "      <td>NaN</td>\n",
              "      <td>NaN</td>\n",
              "      <td>0.000000</td>\n",
              "      <td>0.0</td>\n",
              "      <td>NaN</td>\n",
              "      <td>NaN</td>\n",
              "      <td>NaN</td>\n",
              "      <td>NaN</td>\n",
              "    </tr>\n",
              "    <tr>\n",
              "      <th>max</th>\n",
              "      <td>1.077501e+06</td>\n",
              "      <td>1.314167e+06</td>\n",
              "      <td>35000.000000</td>\n",
              "      <td>35000.000000</td>\n",
              "      <td>35000.000000</td>\n",
              "      <td>1305.190000</td>\n",
              "      <td>6.000000e+06</td>\n",
              "      <td>29.990000</td>\n",
              "      <td>11.000000</td>\n",
              "      <td>8.000000</td>\n",
              "      <td>120.000000</td>\n",
              "      <td>129.000000</td>\n",
              "      <td>44.000000</td>\n",
              "      <td>4.000000</td>\n",
              "      <td>149588.000000</td>\n",
              "      <td>90.000000</td>\n",
              "      <td>6311.470000</td>\n",
              "      <td>6307.370000</td>\n",
              "      <td>58563.679930</td>\n",
              "      <td>58563.680000</td>\n",
              "      <td>35000.020000</td>\n",
              "      <td>23563.680000</td>\n",
              "      <td>180.200000</td>\n",
              "      <td>29623.350000</td>\n",
              "      <td>7002.190000</td>\n",
              "      <td>36115.200000</td>\n",
              "      <td>0.0</td>\n",
              "      <td>NaN</td>\n",
              "      <td>1.0</td>\n",
              "      <td>NaN</td>\n",
              "      <td>NaN</td>\n",
              "      <td>NaN</td>\n",
              "      <td>0.0</td>\n",
              "      <td>NaN</td>\n",
              "      <td>NaN</td>\n",
              "      <td>NaN</td>\n",
              "      <td>NaN</td>\n",
              "      <td>NaN</td>\n",
              "      <td>NaN</td>\n",
              "      <td>NaN</td>\n",
              "      <td>...</td>\n",
              "      <td>NaN</td>\n",
              "      <td>NaN</td>\n",
              "      <td>NaN</td>\n",
              "      <td>NaN</td>\n",
              "      <td>NaN</td>\n",
              "      <td>NaN</td>\n",
              "      <td>NaN</td>\n",
              "      <td>0.0</td>\n",
              "      <td>0.0</td>\n",
              "      <td>NaN</td>\n",
              "      <td>NaN</td>\n",
              "      <td>NaN</td>\n",
              "      <td>NaN</td>\n",
              "      <td>NaN</td>\n",
              "      <td>NaN</td>\n",
              "      <td>NaN</td>\n",
              "      <td>NaN</td>\n",
              "      <td>NaN</td>\n",
              "      <td>NaN</td>\n",
              "      <td>NaN</td>\n",
              "      <td>NaN</td>\n",
              "      <td>NaN</td>\n",
              "      <td>NaN</td>\n",
              "      <td>NaN</td>\n",
              "      <td>NaN</td>\n",
              "      <td>NaN</td>\n",
              "      <td>NaN</td>\n",
              "      <td>NaN</td>\n",
              "      <td>NaN</td>\n",
              "      <td>NaN</td>\n",
              "      <td>NaN</td>\n",
              "      <td>NaN</td>\n",
              "      <td>NaN</td>\n",
              "      <td>NaN</td>\n",
              "      <td>2.000000</td>\n",
              "      <td>0.0</td>\n",
              "      <td>NaN</td>\n",
              "      <td>NaN</td>\n",
              "      <td>NaN</td>\n",
              "      <td>NaN</td>\n",
              "    </tr>\n",
              "  </tbody>\n",
              "</table>\n",
              "<p>8 rows × 87 columns</p>\n",
              "</div>"
            ],
            "text/plain": [
              "                 id     member_id  ...  total_bc_limit  total_il_high_credit_limit\n",
              "count  3.971700e+04  3.971700e+04  ...             0.0                         0.0\n",
              "mean   6.831319e+05  8.504636e+05  ...             NaN                         NaN\n",
              "std    2.106941e+05  2.656783e+05  ...             NaN                         NaN\n",
              "min    5.473400e+04  7.069900e+04  ...             NaN                         NaN\n",
              "25%    5.162210e+05  6.667800e+05  ...             NaN                         NaN\n",
              "50%    6.656650e+05  8.508120e+05  ...             NaN                         NaN\n",
              "75%    8.377550e+05  1.047339e+06  ...             NaN                         NaN\n",
              "max    1.077501e+06  1.314167e+06  ...             NaN                         NaN\n",
              "\n",
              "[8 rows x 87 columns]"
            ]
          },
          "metadata": {
            "tags": []
          },
          "execution_count": 4
        }
      ]
    },
    {
      "cell_type": "code",
      "metadata": {
        "id": "n7lGxpgxkU6f",
        "colab_type": "code",
        "outputId": "47641702-e18e-4d7c-f383-9bbb888e5299",
        "colab": {
          "base_uri": "https://localhost:8080/",
          "height": 72
        }
      },
      "source": [
        "df.groupby(['acc_now_delinq','application_type','collections_12_mths_ex_med','initial_list_status','policy_code','pymnt_plan','chargeoff_within_12_mths','delinq_amnt','tax_liens']).count()['id']"
      ],
      "execution_count": 0,
      "outputs": [
        {
          "output_type": "execute_result",
          "data": {
            "text/plain": [
              "acc_now_delinq  application_type  collections_12_mths_ex_med  initial_list_status  policy_code  pymnt_plan  chargeoff_within_12_mths  delinq_amnt  tax_liens\n",
              "0               INDIVIDUAL        0.0                         f                    1            n           0.0                       0            0.0          39661\n",
              "Name: id, dtype: int64"
            ]
          },
          "metadata": {
            "tags": []
          },
          "execution_count": 5
        }
      ]
    },
    {
      "cell_type": "code",
      "metadata": {
        "id": "qbULb-qcsg0I",
        "colab_type": "code",
        "colab": {}
      },
      "source": [
        "df.drop(['acc_now_delinq','collections_12_mths_ex_med','initial_list_status','policy_code','application_type','pymnt_plan','chargeoff_within_12_mths','delinq_amnt','tax_liens','url'] ,axis = 1,inplace= True) #REMOVING URL, AS IT SEEMS TO BE A REPITION OF ID COLUMN "
      ],
      "execution_count": 0,
      "outputs": []
    },
    {
      "cell_type": "markdown",
      "metadata": {
        "id": "PoIBjtxaH1fv",
        "colab_type": "text"
      },
      "source": [
        "Setting index as id . it seems to be the primary keys as it has all unique values and the description vouches our assumption"
      ]
    },
    {
      "cell_type": "code",
      "metadata": {
        "id": "_59m8BBDzdfe",
        "colab_type": "code",
        "colab": {}
      },
      "source": [
        "df.set_index('id',inplace =True)"
      ],
      "execution_count": 0,
      "outputs": []
    },
    {
      "cell_type": "markdown",
      "metadata": {
        "id": "pSCbUdudGJTr",
        "colab_type": "text"
      },
      "source": [
        "###Checking Rows for redundancy/inconsistency"
      ]
    },
    {
      "cell_type": "code",
      "metadata": {
        "id": "i2odulxAcUk-",
        "colab_type": "code",
        "outputId": "fa48ca24-5b2f-4cf4-b3ea-4d55c3bb7808",
        "colab": {
          "base_uri": "https://localhost:8080/",
          "height": 1000
        }
      },
      "source": [
        "pd.set_option(\"max_colwidth\", None)\n",
        "df.head()"
      ],
      "execution_count": 0,
      "outputs": [
        {
          "output_type": "execute_result",
          "data": {
            "text/html": [
              "<div>\n",
              "<style scoped>\n",
              "    .dataframe tbody tr th:only-of-type {\n",
              "        vertical-align: middle;\n",
              "    }\n",
              "\n",
              "    .dataframe tbody tr th {\n",
              "        vertical-align: top;\n",
              "    }\n",
              "\n",
              "    .dataframe thead th {\n",
              "        text-align: right;\n",
              "    }\n",
              "</style>\n",
              "<table border=\"1\" class=\"dataframe\">\n",
              "  <thead>\n",
              "    <tr style=\"text-align: right;\">\n",
              "      <th></th>\n",
              "      <th>member_id</th>\n",
              "      <th>loan_amnt</th>\n",
              "      <th>funded_amnt</th>\n",
              "      <th>funded_amnt_inv</th>\n",
              "      <th>term</th>\n",
              "      <th>int_rate</th>\n",
              "      <th>installment</th>\n",
              "      <th>grade</th>\n",
              "      <th>sub_grade</th>\n",
              "      <th>emp_title</th>\n",
              "      <th>emp_length</th>\n",
              "      <th>home_ownership</th>\n",
              "      <th>annual_inc</th>\n",
              "      <th>verification_status</th>\n",
              "      <th>issue_d</th>\n",
              "      <th>loan_status</th>\n",
              "      <th>desc</th>\n",
              "      <th>purpose</th>\n",
              "      <th>title</th>\n",
              "      <th>zip_code</th>\n",
              "      <th>addr_state</th>\n",
              "      <th>dti</th>\n",
              "      <th>delinq_2yrs</th>\n",
              "      <th>earliest_cr_line</th>\n",
              "      <th>inq_last_6mths</th>\n",
              "      <th>mths_since_last_delinq</th>\n",
              "      <th>mths_since_last_record</th>\n",
              "      <th>open_acc</th>\n",
              "      <th>pub_rec</th>\n",
              "      <th>revol_bal</th>\n",
              "      <th>revol_util</th>\n",
              "      <th>total_acc</th>\n",
              "      <th>out_prncp</th>\n",
              "      <th>out_prncp_inv</th>\n",
              "      <th>total_pymnt</th>\n",
              "      <th>total_pymnt_inv</th>\n",
              "      <th>total_rec_prncp</th>\n",
              "      <th>total_rec_int</th>\n",
              "      <th>total_rec_late_fee</th>\n",
              "      <th>recoveries</th>\n",
              "      <th>...</th>\n",
              "      <th>max_bal_bc</th>\n",
              "      <th>all_util</th>\n",
              "      <th>total_rev_hi_lim</th>\n",
              "      <th>inq_fi</th>\n",
              "      <th>total_cu_tl</th>\n",
              "      <th>inq_last_12m</th>\n",
              "      <th>acc_open_past_24mths</th>\n",
              "      <th>avg_cur_bal</th>\n",
              "      <th>bc_open_to_buy</th>\n",
              "      <th>bc_util</th>\n",
              "      <th>mo_sin_old_il_acct</th>\n",
              "      <th>mo_sin_old_rev_tl_op</th>\n",
              "      <th>mo_sin_rcnt_rev_tl_op</th>\n",
              "      <th>mo_sin_rcnt_tl</th>\n",
              "      <th>mort_acc</th>\n",
              "      <th>mths_since_recent_bc</th>\n",
              "      <th>mths_since_recent_bc_dlq</th>\n",
              "      <th>mths_since_recent_inq</th>\n",
              "      <th>mths_since_recent_revol_delinq</th>\n",
              "      <th>num_accts_ever_120_pd</th>\n",
              "      <th>num_actv_bc_tl</th>\n",
              "      <th>num_actv_rev_tl</th>\n",
              "      <th>num_bc_sats</th>\n",
              "      <th>num_bc_tl</th>\n",
              "      <th>num_il_tl</th>\n",
              "      <th>num_op_rev_tl</th>\n",
              "      <th>num_rev_accts</th>\n",
              "      <th>num_rev_tl_bal_gt_0</th>\n",
              "      <th>num_sats</th>\n",
              "      <th>num_tl_120dpd_2m</th>\n",
              "      <th>num_tl_30dpd</th>\n",
              "      <th>num_tl_90g_dpd_24m</th>\n",
              "      <th>num_tl_op_past_12m</th>\n",
              "      <th>pct_tl_nvr_dlq</th>\n",
              "      <th>percent_bc_gt_75</th>\n",
              "      <th>pub_rec_bankruptcies</th>\n",
              "      <th>tot_hi_cred_lim</th>\n",
              "      <th>total_bal_ex_mort</th>\n",
              "      <th>total_bc_limit</th>\n",
              "      <th>total_il_high_credit_limit</th>\n",
              "    </tr>\n",
              "    <tr>\n",
              "      <th>id</th>\n",
              "      <th></th>\n",
              "      <th></th>\n",
              "      <th></th>\n",
              "      <th></th>\n",
              "      <th></th>\n",
              "      <th></th>\n",
              "      <th></th>\n",
              "      <th></th>\n",
              "      <th></th>\n",
              "      <th></th>\n",
              "      <th></th>\n",
              "      <th></th>\n",
              "      <th></th>\n",
              "      <th></th>\n",
              "      <th></th>\n",
              "      <th></th>\n",
              "      <th></th>\n",
              "      <th></th>\n",
              "      <th></th>\n",
              "      <th></th>\n",
              "      <th></th>\n",
              "      <th></th>\n",
              "      <th></th>\n",
              "      <th></th>\n",
              "      <th></th>\n",
              "      <th></th>\n",
              "      <th></th>\n",
              "      <th></th>\n",
              "      <th></th>\n",
              "      <th></th>\n",
              "      <th></th>\n",
              "      <th></th>\n",
              "      <th></th>\n",
              "      <th></th>\n",
              "      <th></th>\n",
              "      <th></th>\n",
              "      <th></th>\n",
              "      <th></th>\n",
              "      <th></th>\n",
              "      <th></th>\n",
              "      <th></th>\n",
              "      <th></th>\n",
              "      <th></th>\n",
              "      <th></th>\n",
              "      <th></th>\n",
              "      <th></th>\n",
              "      <th></th>\n",
              "      <th></th>\n",
              "      <th></th>\n",
              "      <th></th>\n",
              "      <th></th>\n",
              "      <th></th>\n",
              "      <th></th>\n",
              "      <th></th>\n",
              "      <th></th>\n",
              "      <th></th>\n",
              "      <th></th>\n",
              "      <th></th>\n",
              "      <th></th>\n",
              "      <th></th>\n",
              "      <th></th>\n",
              "      <th></th>\n",
              "      <th></th>\n",
              "      <th></th>\n",
              "      <th></th>\n",
              "      <th></th>\n",
              "      <th></th>\n",
              "      <th></th>\n",
              "      <th></th>\n",
              "      <th></th>\n",
              "      <th></th>\n",
              "      <th></th>\n",
              "      <th></th>\n",
              "      <th></th>\n",
              "      <th></th>\n",
              "      <th></th>\n",
              "      <th></th>\n",
              "      <th></th>\n",
              "      <th></th>\n",
              "      <th></th>\n",
              "      <th></th>\n",
              "    </tr>\n",
              "  </thead>\n",
              "  <tbody>\n",
              "    <tr>\n",
              "      <th>1077501</th>\n",
              "      <td>1296599</td>\n",
              "      <td>5000</td>\n",
              "      <td>5000</td>\n",
              "      <td>4975.0</td>\n",
              "      <td>36 months</td>\n",
              "      <td>10.65%</td>\n",
              "      <td>162.87</td>\n",
              "      <td>B</td>\n",
              "      <td>B2</td>\n",
              "      <td>NaN</td>\n",
              "      <td>10+ years</td>\n",
              "      <td>RENT</td>\n",
              "      <td>24000.0</td>\n",
              "      <td>Verified</td>\n",
              "      <td>Dec-11</td>\n",
              "      <td>Fully Paid</td>\n",
              "      <td>Borrower added on 12/22/11 &gt; I need to upgrade my business technologies.&lt;br&gt;</td>\n",
              "      <td>credit_card</td>\n",
              "      <td>Computer</td>\n",
              "      <td>860xx</td>\n",
              "      <td>AZ</td>\n",
              "      <td>27.65</td>\n",
              "      <td>0</td>\n",
              "      <td>Jan-85</td>\n",
              "      <td>1</td>\n",
              "      <td>NaN</td>\n",
              "      <td>NaN</td>\n",
              "      <td>3</td>\n",
              "      <td>0</td>\n",
              "      <td>13648</td>\n",
              "      <td>83.70%</td>\n",
              "      <td>9</td>\n",
              "      <td>0.00</td>\n",
              "      <td>0.00</td>\n",
              "      <td>5863.155187</td>\n",
              "      <td>5833.84</td>\n",
              "      <td>5000.00</td>\n",
              "      <td>863.16</td>\n",
              "      <td>0.00</td>\n",
              "      <td>0.00</td>\n",
              "      <td>...</td>\n",
              "      <td>NaN</td>\n",
              "      <td>NaN</td>\n",
              "      <td>NaN</td>\n",
              "      <td>NaN</td>\n",
              "      <td>NaN</td>\n",
              "      <td>NaN</td>\n",
              "      <td>NaN</td>\n",
              "      <td>NaN</td>\n",
              "      <td>NaN</td>\n",
              "      <td>NaN</td>\n",
              "      <td>NaN</td>\n",
              "      <td>NaN</td>\n",
              "      <td>NaN</td>\n",
              "      <td>NaN</td>\n",
              "      <td>NaN</td>\n",
              "      <td>NaN</td>\n",
              "      <td>NaN</td>\n",
              "      <td>NaN</td>\n",
              "      <td>NaN</td>\n",
              "      <td>NaN</td>\n",
              "      <td>NaN</td>\n",
              "      <td>NaN</td>\n",
              "      <td>NaN</td>\n",
              "      <td>NaN</td>\n",
              "      <td>NaN</td>\n",
              "      <td>NaN</td>\n",
              "      <td>NaN</td>\n",
              "      <td>NaN</td>\n",
              "      <td>NaN</td>\n",
              "      <td>NaN</td>\n",
              "      <td>NaN</td>\n",
              "      <td>NaN</td>\n",
              "      <td>NaN</td>\n",
              "      <td>NaN</td>\n",
              "      <td>NaN</td>\n",
              "      <td>0.0</td>\n",
              "      <td>NaN</td>\n",
              "      <td>NaN</td>\n",
              "      <td>NaN</td>\n",
              "      <td>NaN</td>\n",
              "    </tr>\n",
              "    <tr>\n",
              "      <th>1077430</th>\n",
              "      <td>1314167</td>\n",
              "      <td>2500</td>\n",
              "      <td>2500</td>\n",
              "      <td>2500.0</td>\n",
              "      <td>60 months</td>\n",
              "      <td>15.27%</td>\n",
              "      <td>59.83</td>\n",
              "      <td>C</td>\n",
              "      <td>C4</td>\n",
              "      <td>Ryder</td>\n",
              "      <td>&lt; 1 year</td>\n",
              "      <td>RENT</td>\n",
              "      <td>30000.0</td>\n",
              "      <td>Source Verified</td>\n",
              "      <td>Dec-11</td>\n",
              "      <td>Charged Off</td>\n",
              "      <td>Borrower added on 12/22/11 &gt; I plan to use this money to finance the motorcycle i am looking at. I plan to have it paid off as soon as possible/when i sell my old bike. I only need this money because the deal im looking at is to good to pass up.&lt;br&gt;&lt;br&gt;  Borrower added on 12/22/11 &gt; I plan to use this money to finance the motorcycle i am looking at. I plan to have it paid off as soon as possible/when i sell my old bike.I only need this money because the deal im looking at is to good to pass up. I have finished college with an associates degree in business and its takingmeplaces&lt;br&gt;</td>\n",
              "      <td>car</td>\n",
              "      <td>bike</td>\n",
              "      <td>309xx</td>\n",
              "      <td>GA</td>\n",
              "      <td>1.00</td>\n",
              "      <td>0</td>\n",
              "      <td>Apr-99</td>\n",
              "      <td>5</td>\n",
              "      <td>NaN</td>\n",
              "      <td>NaN</td>\n",
              "      <td>3</td>\n",
              "      <td>0</td>\n",
              "      <td>1687</td>\n",
              "      <td>9.40%</td>\n",
              "      <td>4</td>\n",
              "      <td>0.00</td>\n",
              "      <td>0.00</td>\n",
              "      <td>1008.710000</td>\n",
              "      <td>1008.71</td>\n",
              "      <td>456.46</td>\n",
              "      <td>435.17</td>\n",
              "      <td>0.00</td>\n",
              "      <td>117.08</td>\n",
              "      <td>...</td>\n",
              "      <td>NaN</td>\n",
              "      <td>NaN</td>\n",
              "      <td>NaN</td>\n",
              "      <td>NaN</td>\n",
              "      <td>NaN</td>\n",
              "      <td>NaN</td>\n",
              "      <td>NaN</td>\n",
              "      <td>NaN</td>\n",
              "      <td>NaN</td>\n",
              "      <td>NaN</td>\n",
              "      <td>NaN</td>\n",
              "      <td>NaN</td>\n",
              "      <td>NaN</td>\n",
              "      <td>NaN</td>\n",
              "      <td>NaN</td>\n",
              "      <td>NaN</td>\n",
              "      <td>NaN</td>\n",
              "      <td>NaN</td>\n",
              "      <td>NaN</td>\n",
              "      <td>NaN</td>\n",
              "      <td>NaN</td>\n",
              "      <td>NaN</td>\n",
              "      <td>NaN</td>\n",
              "      <td>NaN</td>\n",
              "      <td>NaN</td>\n",
              "      <td>NaN</td>\n",
              "      <td>NaN</td>\n",
              "      <td>NaN</td>\n",
              "      <td>NaN</td>\n",
              "      <td>NaN</td>\n",
              "      <td>NaN</td>\n",
              "      <td>NaN</td>\n",
              "      <td>NaN</td>\n",
              "      <td>NaN</td>\n",
              "      <td>NaN</td>\n",
              "      <td>0.0</td>\n",
              "      <td>NaN</td>\n",
              "      <td>NaN</td>\n",
              "      <td>NaN</td>\n",
              "      <td>NaN</td>\n",
              "    </tr>\n",
              "    <tr>\n",
              "      <th>1077175</th>\n",
              "      <td>1313524</td>\n",
              "      <td>2400</td>\n",
              "      <td>2400</td>\n",
              "      <td>2400.0</td>\n",
              "      <td>36 months</td>\n",
              "      <td>15.96%</td>\n",
              "      <td>84.33</td>\n",
              "      <td>C</td>\n",
              "      <td>C5</td>\n",
              "      <td>NaN</td>\n",
              "      <td>10+ years</td>\n",
              "      <td>RENT</td>\n",
              "      <td>12252.0</td>\n",
              "      <td>Not Verified</td>\n",
              "      <td>Dec-11</td>\n",
              "      <td>Fully Paid</td>\n",
              "      <td>NaN</td>\n",
              "      <td>small_business</td>\n",
              "      <td>real estate business</td>\n",
              "      <td>606xx</td>\n",
              "      <td>IL</td>\n",
              "      <td>8.72</td>\n",
              "      <td>0</td>\n",
              "      <td>Nov-01</td>\n",
              "      <td>2</td>\n",
              "      <td>NaN</td>\n",
              "      <td>NaN</td>\n",
              "      <td>2</td>\n",
              "      <td>0</td>\n",
              "      <td>2956</td>\n",
              "      <td>98.50%</td>\n",
              "      <td>10</td>\n",
              "      <td>0.00</td>\n",
              "      <td>0.00</td>\n",
              "      <td>3005.666844</td>\n",
              "      <td>3005.67</td>\n",
              "      <td>2400.00</td>\n",
              "      <td>605.67</td>\n",
              "      <td>0.00</td>\n",
              "      <td>0.00</td>\n",
              "      <td>...</td>\n",
              "      <td>NaN</td>\n",
              "      <td>NaN</td>\n",
              "      <td>NaN</td>\n",
              "      <td>NaN</td>\n",
              "      <td>NaN</td>\n",
              "      <td>NaN</td>\n",
              "      <td>NaN</td>\n",
              "      <td>NaN</td>\n",
              "      <td>NaN</td>\n",
              "      <td>NaN</td>\n",
              "      <td>NaN</td>\n",
              "      <td>NaN</td>\n",
              "      <td>NaN</td>\n",
              "      <td>NaN</td>\n",
              "      <td>NaN</td>\n",
              "      <td>NaN</td>\n",
              "      <td>NaN</td>\n",
              "      <td>NaN</td>\n",
              "      <td>NaN</td>\n",
              "      <td>NaN</td>\n",
              "      <td>NaN</td>\n",
              "      <td>NaN</td>\n",
              "      <td>NaN</td>\n",
              "      <td>NaN</td>\n",
              "      <td>NaN</td>\n",
              "      <td>NaN</td>\n",
              "      <td>NaN</td>\n",
              "      <td>NaN</td>\n",
              "      <td>NaN</td>\n",
              "      <td>NaN</td>\n",
              "      <td>NaN</td>\n",
              "      <td>NaN</td>\n",
              "      <td>NaN</td>\n",
              "      <td>NaN</td>\n",
              "      <td>NaN</td>\n",
              "      <td>0.0</td>\n",
              "      <td>NaN</td>\n",
              "      <td>NaN</td>\n",
              "      <td>NaN</td>\n",
              "      <td>NaN</td>\n",
              "    </tr>\n",
              "    <tr>\n",
              "      <th>1076863</th>\n",
              "      <td>1277178</td>\n",
              "      <td>10000</td>\n",
              "      <td>10000</td>\n",
              "      <td>10000.0</td>\n",
              "      <td>36 months</td>\n",
              "      <td>13.49%</td>\n",
              "      <td>339.31</td>\n",
              "      <td>C</td>\n",
              "      <td>C1</td>\n",
              "      <td>AIR RESOURCES BOARD</td>\n",
              "      <td>10+ years</td>\n",
              "      <td>RENT</td>\n",
              "      <td>49200.0</td>\n",
              "      <td>Source Verified</td>\n",
              "      <td>Dec-11</td>\n",
              "      <td>Fully Paid</td>\n",
              "      <td>Borrower added on 12/21/11 &gt; to pay for property tax (borrow from friend, need to pay back) &amp; central A/C need to be replace. I'm very sorry to let my loan expired last time.&lt;br&gt;</td>\n",
              "      <td>other</td>\n",
              "      <td>personel</td>\n",
              "      <td>917xx</td>\n",
              "      <td>CA</td>\n",
              "      <td>20.00</td>\n",
              "      <td>0</td>\n",
              "      <td>Feb-96</td>\n",
              "      <td>1</td>\n",
              "      <td>35.0</td>\n",
              "      <td>NaN</td>\n",
              "      <td>10</td>\n",
              "      <td>0</td>\n",
              "      <td>5598</td>\n",
              "      <td>21%</td>\n",
              "      <td>37</td>\n",
              "      <td>0.00</td>\n",
              "      <td>0.00</td>\n",
              "      <td>12231.890000</td>\n",
              "      <td>12231.89</td>\n",
              "      <td>10000.00</td>\n",
              "      <td>2214.92</td>\n",
              "      <td>16.97</td>\n",
              "      <td>0.00</td>\n",
              "      <td>...</td>\n",
              "      <td>NaN</td>\n",
              "      <td>NaN</td>\n",
              "      <td>NaN</td>\n",
              "      <td>NaN</td>\n",
              "      <td>NaN</td>\n",
              "      <td>NaN</td>\n",
              "      <td>NaN</td>\n",
              "      <td>NaN</td>\n",
              "      <td>NaN</td>\n",
              "      <td>NaN</td>\n",
              "      <td>NaN</td>\n",
              "      <td>NaN</td>\n",
              "      <td>NaN</td>\n",
              "      <td>NaN</td>\n",
              "      <td>NaN</td>\n",
              "      <td>NaN</td>\n",
              "      <td>NaN</td>\n",
              "      <td>NaN</td>\n",
              "      <td>NaN</td>\n",
              "      <td>NaN</td>\n",
              "      <td>NaN</td>\n",
              "      <td>NaN</td>\n",
              "      <td>NaN</td>\n",
              "      <td>NaN</td>\n",
              "      <td>NaN</td>\n",
              "      <td>NaN</td>\n",
              "      <td>NaN</td>\n",
              "      <td>NaN</td>\n",
              "      <td>NaN</td>\n",
              "      <td>NaN</td>\n",
              "      <td>NaN</td>\n",
              "      <td>NaN</td>\n",
              "      <td>NaN</td>\n",
              "      <td>NaN</td>\n",
              "      <td>NaN</td>\n",
              "      <td>0.0</td>\n",
              "      <td>NaN</td>\n",
              "      <td>NaN</td>\n",
              "      <td>NaN</td>\n",
              "      <td>NaN</td>\n",
              "    </tr>\n",
              "    <tr>\n",
              "      <th>1075358</th>\n",
              "      <td>1311748</td>\n",
              "      <td>3000</td>\n",
              "      <td>3000</td>\n",
              "      <td>3000.0</td>\n",
              "      <td>60 months</td>\n",
              "      <td>12.69%</td>\n",
              "      <td>67.79</td>\n",
              "      <td>B</td>\n",
              "      <td>B5</td>\n",
              "      <td>University Medical Group</td>\n",
              "      <td>1 year</td>\n",
              "      <td>RENT</td>\n",
              "      <td>80000.0</td>\n",
              "      <td>Source Verified</td>\n",
              "      <td>Dec-11</td>\n",
              "      <td>Current</td>\n",
              "      <td>Borrower added on 12/21/11 &gt; I plan on combining three large interest bills together and freeing up some extra each month to pay toward other bills.  I've always been a good payor but have found myself needing to make adjustments to my budget due to a medical scare. My job is very stable, I love it.&lt;br&gt;</td>\n",
              "      <td>other</td>\n",
              "      <td>Personal</td>\n",
              "      <td>972xx</td>\n",
              "      <td>OR</td>\n",
              "      <td>17.94</td>\n",
              "      <td>0</td>\n",
              "      <td>Jan-96</td>\n",
              "      <td>0</td>\n",
              "      <td>38.0</td>\n",
              "      <td>NaN</td>\n",
              "      <td>15</td>\n",
              "      <td>0</td>\n",
              "      <td>27783</td>\n",
              "      <td>53.90%</td>\n",
              "      <td>38</td>\n",
              "      <td>524.06</td>\n",
              "      <td>524.06</td>\n",
              "      <td>3513.330000</td>\n",
              "      <td>3513.33</td>\n",
              "      <td>2475.94</td>\n",
              "      <td>1037.39</td>\n",
              "      <td>0.00</td>\n",
              "      <td>0.00</td>\n",
              "      <td>...</td>\n",
              "      <td>NaN</td>\n",
              "      <td>NaN</td>\n",
              "      <td>NaN</td>\n",
              "      <td>NaN</td>\n",
              "      <td>NaN</td>\n",
              "      <td>NaN</td>\n",
              "      <td>NaN</td>\n",
              "      <td>NaN</td>\n",
              "      <td>NaN</td>\n",
              "      <td>NaN</td>\n",
              "      <td>NaN</td>\n",
              "      <td>NaN</td>\n",
              "      <td>NaN</td>\n",
              "      <td>NaN</td>\n",
              "      <td>NaN</td>\n",
              "      <td>NaN</td>\n",
              "      <td>NaN</td>\n",
              "      <td>NaN</td>\n",
              "      <td>NaN</td>\n",
              "      <td>NaN</td>\n",
              "      <td>NaN</td>\n",
              "      <td>NaN</td>\n",
              "      <td>NaN</td>\n",
              "      <td>NaN</td>\n",
              "      <td>NaN</td>\n",
              "      <td>NaN</td>\n",
              "      <td>NaN</td>\n",
              "      <td>NaN</td>\n",
              "      <td>NaN</td>\n",
              "      <td>NaN</td>\n",
              "      <td>NaN</td>\n",
              "      <td>NaN</td>\n",
              "      <td>NaN</td>\n",
              "      <td>NaN</td>\n",
              "      <td>NaN</td>\n",
              "      <td>0.0</td>\n",
              "      <td>NaN</td>\n",
              "      <td>NaN</td>\n",
              "      <td>NaN</td>\n",
              "      <td>NaN</td>\n",
              "    </tr>\n",
              "  </tbody>\n",
              "</table>\n",
              "<p>5 rows × 100 columns</p>\n",
              "</div>"
            ],
            "text/plain": [
              "         member_id  loan_amnt  ...  total_bc_limit  total_il_high_credit_limit\n",
              "id                             ...                                            \n",
              "1077501    1296599       5000  ...             NaN                         NaN\n",
              "1077430    1314167       2500  ...             NaN                         NaN\n",
              "1077175    1313524       2400  ...             NaN                         NaN\n",
              "1076863    1277178      10000  ...             NaN                         NaN\n",
              "1075358    1311748       3000  ...             NaN                         NaN\n",
              "\n",
              "[5 rows x 100 columns]"
            ]
          },
          "metadata": {
            "tags": []
          },
          "execution_count": 8
        }
      ]
    },
    {
      "cell_type": "markdown",
      "metadata": {
        "id": "Ek4LQnEDHPQj",
        "colab_type": "text"
      },
      "source": [
        "Both the header and footer look fine.There are no extra rows."
      ]
    },
    {
      "cell_type": "markdown",
      "metadata": {
        "id": "Y-h1qrZERKZY",
        "colab_type": "text"
      },
      "source": [
        "###TREATING MISSING VALUES"
      ]
    },
    {
      "cell_type": "markdown",
      "metadata": {
        "id": "edPYhBug-UOv",
        "colab_type": "text"
      },
      "source": [
        "Lets oserve all the columns with non null and null values and get rid of the columns with only null"
      ]
    },
    {
      "cell_type": "code",
      "metadata": {
        "id": "d-2LqYghbzG1",
        "colab_type": "code",
        "outputId": "27f530a2-68f5-459a-efd0-886afb15764f",
        "colab": {
          "base_uri": "https://localhost:8080/",
          "height": 1000
        }
      },
      "source": [
        "df.info(verbose=True,null_counts=True)"
      ],
      "execution_count": 0,
      "outputs": [
        {
          "output_type": "stream",
          "text": [
            "<class 'pandas.core.frame.DataFrame'>\n",
            "Int64Index: 39717 entries, 1077501 to 87023\n",
            "Data columns (total 100 columns):\n",
            " #   Column                          Non-Null Count  Dtype  \n",
            "---  ------                          --------------  -----  \n",
            " 0   member_id                       39717 non-null  int64  \n",
            " 1   loan_amnt                       39717 non-null  int64  \n",
            " 2   funded_amnt                     39717 non-null  int64  \n",
            " 3   funded_amnt_inv                 39717 non-null  float64\n",
            " 4   term                            39717 non-null  object \n",
            " 5   int_rate                        39717 non-null  object \n",
            " 6   installment                     39717 non-null  float64\n",
            " 7   grade                           39717 non-null  object \n",
            " 8   sub_grade                       39717 non-null  object \n",
            " 9   emp_title                       37258 non-null  object \n",
            " 10  emp_length                      38642 non-null  object \n",
            " 11  home_ownership                  39717 non-null  object \n",
            " 12  annual_inc                      39717 non-null  float64\n",
            " 13  verification_status             39717 non-null  object \n",
            " 14  issue_d                         39717 non-null  object \n",
            " 15  loan_status                     39717 non-null  object \n",
            " 16  desc                            26777 non-null  object \n",
            " 17  purpose                         39717 non-null  object \n",
            " 18  title                           39706 non-null  object \n",
            " 19  zip_code                        39717 non-null  object \n",
            " 20  addr_state                      39717 non-null  object \n",
            " 21  dti                             39717 non-null  float64\n",
            " 22  delinq_2yrs                     39717 non-null  int64  \n",
            " 23  earliest_cr_line                39717 non-null  object \n",
            " 24  inq_last_6mths                  39717 non-null  int64  \n",
            " 25  mths_since_last_delinq          14035 non-null  float64\n",
            " 26  mths_since_last_record          2786 non-null   float64\n",
            " 27  open_acc                        39717 non-null  int64  \n",
            " 28  pub_rec                         39717 non-null  int64  \n",
            " 29  revol_bal                       39717 non-null  int64  \n",
            " 30  revol_util                      39667 non-null  object \n",
            " 31  total_acc                       39717 non-null  int64  \n",
            " 32  out_prncp                       39717 non-null  float64\n",
            " 33  out_prncp_inv                   39717 non-null  float64\n",
            " 34  total_pymnt                     39717 non-null  float64\n",
            " 35  total_pymnt_inv                 39717 non-null  float64\n",
            " 36  total_rec_prncp                 39717 non-null  float64\n",
            " 37  total_rec_int                   39717 non-null  float64\n",
            " 38  total_rec_late_fee              39717 non-null  float64\n",
            " 39  recoveries                      39717 non-null  float64\n",
            " 40  collection_recovery_fee         39717 non-null  float64\n",
            " 41  last_pymnt_d                    39646 non-null  object \n",
            " 42  last_pymnt_amnt                 39717 non-null  float64\n",
            " 43  next_pymnt_d                    1140 non-null   object \n",
            " 44  last_credit_pull_d              39715 non-null  object \n",
            " 45  mths_since_last_major_derog     0 non-null      float64\n",
            " 46  annual_inc_joint                0 non-null      float64\n",
            " 47  dti_joint                       0 non-null      float64\n",
            " 48  verification_status_joint       0 non-null      float64\n",
            " 49  tot_coll_amt                    0 non-null      float64\n",
            " 50  tot_cur_bal                     0 non-null      float64\n",
            " 51  open_acc_6m                     0 non-null      float64\n",
            " 52  open_il_6m                      0 non-null      float64\n",
            " 53  open_il_12m                     0 non-null      float64\n",
            " 54  open_il_24m                     0 non-null      float64\n",
            " 55  mths_since_rcnt_il              0 non-null      float64\n",
            " 56  total_bal_il                    0 non-null      float64\n",
            " 57  il_util                         0 non-null      float64\n",
            " 58  open_rv_12m                     0 non-null      float64\n",
            " 59  open_rv_24m                     0 non-null      float64\n",
            " 60  max_bal_bc                      0 non-null      float64\n",
            " 61  all_util                        0 non-null      float64\n",
            " 62  total_rev_hi_lim                0 non-null      float64\n",
            " 63  inq_fi                          0 non-null      float64\n",
            " 64  total_cu_tl                     0 non-null      float64\n",
            " 65  inq_last_12m                    0 non-null      float64\n",
            " 66  acc_open_past_24mths            0 non-null      float64\n",
            " 67  avg_cur_bal                     0 non-null      float64\n",
            " 68  bc_open_to_buy                  0 non-null      float64\n",
            " 69  bc_util                         0 non-null      float64\n",
            " 70  mo_sin_old_il_acct              0 non-null      float64\n",
            " 71  mo_sin_old_rev_tl_op            0 non-null      float64\n",
            " 72  mo_sin_rcnt_rev_tl_op           0 non-null      float64\n",
            " 73  mo_sin_rcnt_tl                  0 non-null      float64\n",
            " 74  mort_acc                        0 non-null      float64\n",
            " 75  mths_since_recent_bc            0 non-null      float64\n",
            " 76  mths_since_recent_bc_dlq        0 non-null      float64\n",
            " 77  mths_since_recent_inq           0 non-null      float64\n",
            " 78  mths_since_recent_revol_delinq  0 non-null      float64\n",
            " 79  num_accts_ever_120_pd           0 non-null      float64\n",
            " 80  num_actv_bc_tl                  0 non-null      float64\n",
            " 81  num_actv_rev_tl                 0 non-null      float64\n",
            " 82  num_bc_sats                     0 non-null      float64\n",
            " 83  num_bc_tl                       0 non-null      float64\n",
            " 84  num_il_tl                       0 non-null      float64\n",
            " 85  num_op_rev_tl                   0 non-null      float64\n",
            " 86  num_rev_accts                   0 non-null      float64\n",
            " 87  num_rev_tl_bal_gt_0             0 non-null      float64\n",
            " 88  num_sats                        0 non-null      float64\n",
            " 89  num_tl_120dpd_2m                0 non-null      float64\n",
            " 90  num_tl_30dpd                    0 non-null      float64\n",
            " 91  num_tl_90g_dpd_24m              0 non-null      float64\n",
            " 92  num_tl_op_past_12m              0 non-null      float64\n",
            " 93  pct_tl_nvr_dlq                  0 non-null      float64\n",
            " 94  percent_bc_gt_75                0 non-null      float64\n",
            " 95  pub_rec_bankruptcies            39020 non-null  float64\n",
            " 96  tot_hi_cred_lim                 0 non-null      float64\n",
            " 97  total_bal_ex_mort               0 non-null      float64\n",
            " 98  total_bc_limit                  0 non-null      float64\n",
            " 99  total_il_high_credit_limit      0 non-null      float64\n",
            "dtypes: float64(71), int64(9), object(20)\n",
            "memory usage: 30.6+ MB\n"
          ],
          "name": "stdout"
        }
      ]
    },
    {
      "cell_type": "markdown",
      "metadata": {
        "id": "eS-D5FqFFO0y",
        "colab_type": "text"
      },
      "source": [
        "COLUMNS WITH ONLY NULL VALUES HAVE BEEN REMOVED.<br>\n",
        "COLUMNS WITH TOO MANY NULL VALUES HAVE BEEN REMOVED (next_pymnt_d)<br>\n",
        "ROWS WITH MINIMUM NULL VALUES  HAVE BEEN IGNORED IN SOME CASES<br>"
      ]
    },
    {
      "cell_type": "code",
      "metadata": {
        "id": "C8IyUHjib1Ki",
        "colab_type": "code",
        "colab": {}
      },
      "source": [
        "df.drop([ 'annual_inc_joint', 'dti_joint','mths_since_last_major_derog',\n",
        " 'verification_status_joint','tot_coll_amt', 'tot_cur_bal', 'open_acc_6m', 'open_il_6m', 'open_il_12m', 'open_il_24m', 'mths_since_rcnt_il',\n",
        " 'total_bal_il', 'il_util', 'open_rv_12m', 'open_rv_24m', 'max_bal_bc', 'all_util', 'total_rev_hi_lim', 'inq_fi', 'total_cu_tl', 'inq_last_12m', 'acc_open_past_24mths',\n",
        " 'avg_cur_bal', 'bc_open_to_buy', 'bc_util', 'num_tl_90g_dpd_24m', 'num_tl_op_past_12m', 'pct_tl_nvr_dlq',\n",
        "       'percent_bc_gt_75',   'mo_sin_old_il_acct', 'mo_sin_old_rev_tl_op', 'mo_sin_rcnt_rev_tl_op', 'mo_sin_rcnt_tl', 'mort_acc', 'mths_since_recent_bc', 'mths_since_recent_bc_dlq',\n",
        " 'mths_since_recent_inq', 'mths_since_recent_revol_delinq', 'num_accts_ever_120_pd', 'num_actv_bc_tl', 'num_actv_rev_tl', 'num_bc_sats', 'num_bc_tl',\n",
        " 'num_il_tl', 'num_op_rev_tl', 'num_rev_accts', 'num_rev_tl_bal_gt_0', 'num_sats', 'num_tl_120dpd_2m', 'num_tl_30dpd','tot_hi_cred_lim', 'total_bal_ex_mort', 'total_bc_limit',\n",
        "       'total_il_high_credit_limit','next_pymnt_d','mths_since_last_record'  ],axis =1,inplace = True)"
      ],
      "execution_count": 0,
      "outputs": []
    },
    {
      "cell_type": "code",
      "metadata": {
        "id": "gnz9XnhL51xG",
        "colab_type": "code",
        "colab": {}
      },
      "source": [
        "df = df[~df.title.isna()]\n",
        "df = df[~df.pub_rec_bankruptcies.isna()]\n",
        "df = df[~df.last_pymnt_d.isna()]\n",
        "df = df[~df.last_credit_pull_d.isna()] "
      ],
      "execution_count": 0,
      "outputs": []
    },
    {
      "cell_type": "markdown",
      "metadata": {
        "id": "hktamp0xl5Tf",
        "colab_type": "text"
      },
      "source": [
        "Cleaning Columns and Rows - after removing the null values <br>CLEANING DESC COLUMN AND FORMATING INTEREST RATE ,ZIP CODE ,Term and other date columns<br>\n",
        "I'm surious to know if  emp_title or emp_length will give any thing interesting when it is not given."
      ]
    },
    {
      "cell_type": "code",
      "metadata": {
        "id": "pqQwKejNrehk",
        "colab_type": "code",
        "colab": {}
      },
      "source": [
        "df.desc.fillna(' ' ,inplace= True)\n",
        "df.revol_util.fillna(-1 ,inplace= True)#reomve if not useful\n",
        "df.mths_since_last_delinq.fillna(-1 ,inplace= True)#reomve if not useful\n",
        "df.emp_title.fillna('Not Given' ,inplace= True)#reomve if not useful\n",
        "df.emp_length.fillna('Not Given' ,inplace= True)#reomve if not useful\n",
        "df['desc'] = df.desc.str.replace('<br>' , '')\n",
        "df['desc'] =df.desc.str.replace('Borrower added on ' , '')\n",
        "df['desc'] = df.desc.str.replace('(1[0-2]|0[1-9])/(3[01]|[12][0-9]|0[1-9])/(1[0-2]|0[1-9])' , '')\n",
        "df['desc'] =df.desc.str.replace('>' ,'')"
      ],
      "execution_count": 0,
      "outputs": []
    },
    {
      "cell_type": "code",
      "metadata": {
        "id": "woVQHlDVAeLQ",
        "colab_type": "code",
        "colab": {}
      },
      "source": [
        "df['int_rate'] = df.int_rate.apply(lambda x : float(x.strip('%'))/100 )\n",
        "df['revol_util'] = df.revol_util.apply(lambda x : float(x.strip('%'))/100 if (x != -1 ) else -1) # -1 so that we can regonize the columns and ignore if necessary"
      ],
      "execution_count": 0,
      "outputs": []
    },
    {
      "cell_type": "code",
      "metadata": {
        "id": "_EnYRKkVnO4i",
        "colab_type": "code",
        "colab": {}
      },
      "source": [
        "df['zip_code'] = df.zip_code.str.replace('xx' ,'')"
      ],
      "execution_count": 0,
      "outputs": []
    },
    {
      "cell_type": "code",
      "metadata": {
        "id": "RBKvxAX8Xqmp",
        "colab_type": "code",
        "colab": {}
      },
      "source": [
        "df['term']= df.term.str.strip()"
      ],
      "execution_count": 0,
      "outputs": []
    },
    {
      "cell_type": "code",
      "metadata": {
        "id": "VVwsDR_8nAF2",
        "colab_type": "code",
        "colab": {}
      },
      "source": [
        "df['last_credit_pull_d'] =df.last_credit_pull_d.apply(lambda x : datetime.datetime.strptime(x, '%b-%y') if pd.isnull(x) == False else  datetime.date(9999, 12,31) )\n",
        "df['issue_d'] =df.issue_d.apply(lambda x : datetime.datetime.strptime(x, '%b-%y') if pd.isnull(x) == False else  datetime.date(9999, 12,31) )\n",
        "df['earliest_cr_line'] =df.earliest_cr_line.apply(lambda x : datetime.datetime.strptime(x, '%b-%y') if pd.isnull(x) == False else  datetime.date(9999, 12,31) )\n",
        "df['last_pymnt_d'] =df.last_pymnt_d.apply(lambda x : datetime.datetime.strptime(x, '%b-%y') if pd.isnull(x) == False else  datetime.date(9999, 12,31) )"
      ],
      "execution_count": 0,
      "outputs": []
    },
    {
      "cell_type": "code",
      "metadata": {
        "id": "NWE4s3RQrZB5",
        "colab_type": "code",
        "outputId": "f4c100b0-6b72-4b18-81cc-6d0ce7c2d81b",
        "colab": {
          "base_uri": "https://localhost:8080/",
          "height": 835
        }
      },
      "source": [
        "df.isna().sum()"
      ],
      "execution_count": 0,
      "outputs": [
        {
          "output_type": "execute_result",
          "data": {
            "text/plain": [
              "member_id                  0\n",
              "loan_amnt                  0\n",
              "funded_amnt                0\n",
              "funded_amnt_inv            0\n",
              "term                       0\n",
              "int_rate                   0\n",
              "installment                0\n",
              "grade                      0\n",
              "sub_grade                  0\n",
              "emp_title                  0\n",
              "emp_length                 0\n",
              "home_ownership             0\n",
              "annual_inc                 0\n",
              "verification_status        0\n",
              "issue_d                    0\n",
              "loan_status                0\n",
              "desc                       0\n",
              "purpose                    0\n",
              "title                      0\n",
              "zip_code                   0\n",
              "addr_state                 0\n",
              "dti                        0\n",
              "delinq_2yrs                0\n",
              "earliest_cr_line           0\n",
              "inq_last_6mths             0\n",
              "mths_since_last_delinq     0\n",
              "open_acc                   0\n",
              "pub_rec                    0\n",
              "revol_bal                  0\n",
              "revol_util                 0\n",
              "total_acc                  0\n",
              "out_prncp                  0\n",
              "out_prncp_inv              0\n",
              "total_pymnt                0\n",
              "total_pymnt_inv            0\n",
              "total_rec_prncp            0\n",
              "total_rec_int              0\n",
              "total_rec_late_fee         0\n",
              "recoveries                 0\n",
              "collection_recovery_fee    0\n",
              "last_pymnt_d               0\n",
              "last_pymnt_amnt            0\n",
              "last_credit_pull_d         0\n",
              "pub_rec_bankruptcies       0\n",
              "dtype: int64"
            ]
          },
          "metadata": {
            "tags": []
          },
          "execution_count": 17
        }
      ]
    },
    {
      "cell_type": "markdown",
      "metadata": {
        "id": "vujekz8bTqKy",
        "colab_type": "text"
      },
      "source": [
        "###CHECKING FOR OUTLIERS"
      ]
    },
    {
      "cell_type": "code",
      "metadata": {
        "id": "-lo5-ijhS7um",
        "colab_type": "code",
        "outputId": "6d92f101-5336-4b69-e6aa-406124efbe12",
        "colab": {
          "base_uri": "https://localhost:8080/",
          "height": 266
        }
      },
      "source": [
        "sns.set(style=\"whitegrid\")\n",
        "sns.boxplot(y=df.loan_amnt)"
      ],
      "execution_count": 0,
      "outputs": [
        {
          "output_type": "execute_result",
          "data": {
            "text/plain": [
              "<matplotlib.axes._subplots.AxesSubplot at 0x7f351e67de80>"
            ]
          },
          "metadata": {
            "tags": []
          },
          "execution_count": 18
        },
        {
          "output_type": "display_data",
          "data": {
            "image/png": "[encoded data removed]",
            "text/plain": [
              "<Figure size 432x288 with 1 Axes>"
            ]
          },
          "metadata": {
            "tags": []
          }
        }
      ]
    },
    {
      "cell_type": "code",
      "metadata": {
        "id": "zUDQ3abOTVLq",
        "colab_type": "code",
        "outputId": "784cdddd-6241-4796-a8d0-314ed670d859",
        "colab": {
          "base_uri": "https://localhost:8080/",
          "height": 308
        }
      },
      "source": [
        "df.describe()"
      ],
      "execution_count": 0,
      "outputs": [
        {
          "output_type": "execute_result",
          "data": {
            "text/html": [
              "<div>\n",
              "<style scoped>\n",
              "    .dataframe tbody tr th:only-of-type {\n",
              "        vertical-align: middle;\n",
              "    }\n",
              "\n",
              "    .dataframe tbody tr th {\n",
              "        vertical-align: top;\n",
              "    }\n",
              "\n",
              "    .dataframe thead th {\n",
              "        text-align: right;\n",
              "    }\n",
              "</style>\n",
              "<table border=\"1\" class=\"dataframe\">\n",
              "  <thead>\n",
              "    <tr style=\"text-align: right;\">\n",
              "      <th></th>\n",
              "      <th>member_id</th>\n",
              "      <th>loan_amnt</th>\n",
              "      <th>funded_amnt</th>\n",
              "      <th>funded_amnt_inv</th>\n",
              "      <th>int_rate</th>\n",
              "      <th>installment</th>\n",
              "      <th>annual_inc</th>\n",
              "      <th>dti</th>\n",
              "      <th>delinq_2yrs</th>\n",
              "      <th>inq_last_6mths</th>\n",
              "      <th>mths_since_last_delinq</th>\n",
              "      <th>open_acc</th>\n",
              "      <th>pub_rec</th>\n",
              "      <th>revol_bal</th>\n",
              "      <th>revol_util</th>\n",
              "      <th>total_acc</th>\n",
              "      <th>out_prncp</th>\n",
              "      <th>out_prncp_inv</th>\n",
              "      <th>total_pymnt</th>\n",
              "      <th>total_pymnt_inv</th>\n",
              "      <th>total_rec_prncp</th>\n",
              "      <th>total_rec_int</th>\n",
              "      <th>total_rec_late_fee</th>\n",
              "      <th>recoveries</th>\n",
              "      <th>collection_recovery_fee</th>\n",
              "      <th>last_pymnt_amnt</th>\n",
              "      <th>pub_rec_bankruptcies</th>\n",
              "    </tr>\n",
              "  </thead>\n",
              "  <tbody>\n",
              "    <tr>\n",
              "      <th>count</th>\n",
              "      <td>3.893700e+04</td>\n",
              "      <td>38937.000000</td>\n",
              "      <td>38937.000000</td>\n",
              "      <td>38937.000000</td>\n",
              "      <td>38937.000000</td>\n",
              "      <td>38937.000000</td>\n",
              "      <td>3.893700e+04</td>\n",
              "      <td>38937.000000</td>\n",
              "      <td>38937.000000</td>\n",
              "      <td>38937.000000</td>\n",
              "      <td>38937.000000</td>\n",
              "      <td>38937.000000</td>\n",
              "      <td>38937.000000</td>\n",
              "      <td>38937.000000</td>\n",
              "      <td>38937.000000</td>\n",
              "      <td>38937.000000</td>\n",
              "      <td>38937.000000</td>\n",
              "      <td>38937.000000</td>\n",
              "      <td>38937.000000</td>\n",
              "      <td>38937.000000</td>\n",
              "      <td>38937.000000</td>\n",
              "      <td>38937.000000</td>\n",
              "      <td>38937.000000</td>\n",
              "      <td>38937.000000</td>\n",
              "      <td>38937.000000</td>\n",
              "      <td>38937.000000</td>\n",
              "      <td>38937.000000</td>\n",
              "    </tr>\n",
              "    <tr>\n",
              "      <th>mean</th>\n",
              "      <td>8.620738e+05</td>\n",
              "      <td>11247.970439</td>\n",
              "      <td>10973.287618</td>\n",
              "      <td>10548.512595</td>\n",
              "      <td>0.120418</td>\n",
              "      <td>324.756877</td>\n",
              "      <td>6.900425e+04</td>\n",
              "      <td>13.362382</td>\n",
              "      <td>0.145363</td>\n",
              "      <td>0.865732</td>\n",
              "      <td>12.030074</td>\n",
              "      <td>9.296428</td>\n",
              "      <td>0.055449</td>\n",
              "      <td>13392.270180</td>\n",
              "      <td>0.487790</td>\n",
              "      <td>22.152272</td>\n",
              "      <td>52.254103</td>\n",
              "      <td>52.011213</td>\n",
              "      <td>12211.472950</td>\n",
              "      <td>11750.108575</td>\n",
              "      <td>9834.079083</td>\n",
              "      <td>2281.970220</td>\n",
              "      <td>1.328033</td>\n",
              "      <td>94.095695</td>\n",
              "      <td>12.102286</td>\n",
              "      <td>2704.282732</td>\n",
              "      <td>0.043198</td>\n",
              "    </tr>\n",
              "    <tr>\n",
              "      <th>std</th>\n",
              "      <td>2.534601e+05</td>\n",
              "      <td>7471.739408</td>\n",
              "      <td>7199.326345</td>\n",
              "      <td>7104.374465</td>\n",
              "      <td>0.037430</td>\n",
              "      <td>208.820843</td>\n",
              "      <td>6.320403e+04</td>\n",
              "      <td>6.669048</td>\n",
              "      <td>0.489809</td>\n",
              "      <td>1.066685</td>\n",
              "      <td>21.990996</td>\n",
              "      <td>4.382289</td>\n",
              "      <td>0.237989</td>\n",
              "      <td>15848.581819</td>\n",
              "      <td>0.287468</td>\n",
              "      <td>11.395272</td>\n",
              "      <td>378.841331</td>\n",
              "      <td>377.479914</td>\n",
              "      <td>9067.533732</td>\n",
              "      <td>8929.109967</td>\n",
              "      <td>7078.255720</td>\n",
              "      <td>2625.009916</td>\n",
              "      <td>7.139203</td>\n",
              "      <td>684.381010</td>\n",
              "      <td>146.925319</td>\n",
              "      <td>4467.082745</td>\n",
              "      <td>0.204188</td>\n",
              "    </tr>\n",
              "    <tr>\n",
              "      <th>min</th>\n",
              "      <td>8.036400e+04</td>\n",
              "      <td>500.000000</td>\n",
              "      <td>500.000000</td>\n",
              "      <td>0.000000</td>\n",
              "      <td>0.054200</td>\n",
              "      <td>16.080000</td>\n",
              "      <td>4.000000e+03</td>\n",
              "      <td>0.000000</td>\n",
              "      <td>0.000000</td>\n",
              "      <td>0.000000</td>\n",
              "      <td>-1.000000</td>\n",
              "      <td>2.000000</td>\n",
              "      <td>0.000000</td>\n",
              "      <td>0.000000</td>\n",
              "      <td>-1.000000</td>\n",
              "      <td>2.000000</td>\n",
              "      <td>0.000000</td>\n",
              "      <td>0.000000</td>\n",
              "      <td>33.730000</td>\n",
              "      <td>0.000000</td>\n",
              "      <td>0.000000</td>\n",
              "      <td>6.220000</td>\n",
              "      <td>0.000000</td>\n",
              "      <td>0.000000</td>\n",
              "      <td>0.000000</td>\n",
              "      <td>0.010000</td>\n",
              "      <td>0.000000</td>\n",
              "    </tr>\n",
              "    <tr>\n",
              "      <th>25%</th>\n",
              "      <td>6.758090e+05</td>\n",
              "      <td>5500.000000</td>\n",
              "      <td>5400.000000</td>\n",
              "      <td>5000.000000</td>\n",
              "      <td>0.092500</td>\n",
              "      <td>167.340000</td>\n",
              "      <td>4.080000e+04</td>\n",
              "      <td>8.240000</td>\n",
              "      <td>0.000000</td>\n",
              "      <td>0.000000</td>\n",
              "      <td>-1.000000</td>\n",
              "      <td>6.000000</td>\n",
              "      <td>0.000000</td>\n",
              "      <td>3728.000000</td>\n",
              "      <td>0.255000</td>\n",
              "      <td>14.000000</td>\n",
              "      <td>0.000000</td>\n",
              "      <td>0.000000</td>\n",
              "      <td>5598.284713</td>\n",
              "      <td>5315.780000</td>\n",
              "      <td>4650.000000</td>\n",
              "      <td>666.730000</td>\n",
              "      <td>0.000000</td>\n",
              "      <td>0.000000</td>\n",
              "      <td>0.000000</td>\n",
              "      <td>221.190000</td>\n",
              "      <td>0.000000</td>\n",
              "    </tr>\n",
              "    <tr>\n",
              "      <th>50%</th>\n",
              "      <td>8.582830e+05</td>\n",
              "      <td>10000.000000</td>\n",
              "      <td>9700.000000</td>\n",
              "      <td>9000.000000</td>\n",
              "      <td>0.118600</td>\n",
              "      <td>280.390000</td>\n",
              "      <td>5.900400e+04</td>\n",
              "      <td>13.450000</td>\n",
              "      <td>0.000000</td>\n",
              "      <td>1.000000</td>\n",
              "      <td>-1.000000</td>\n",
              "      <td>9.000000</td>\n",
              "      <td>0.000000</td>\n",
              "      <td>8873.000000</td>\n",
              "      <td>0.494000</td>\n",
              "      <td>20.000000</td>\n",
              "      <td>0.000000</td>\n",
              "      <td>0.000000</td>\n",
              "      <td>9958.640000</td>\n",
              "      <td>9489.360000</td>\n",
              "      <td>8000.000000</td>\n",
              "      <td>1356.740000</td>\n",
              "      <td>0.000000</td>\n",
              "      <td>0.000000</td>\n",
              "      <td>0.000000</td>\n",
              "      <td>554.050000</td>\n",
              "      <td>0.000000</td>\n",
              "    </tr>\n",
              "    <tr>\n",
              "      <th>75%</th>\n",
              "      <td>1.050176e+06</td>\n",
              "      <td>15000.000000</td>\n",
              "      <td>15000.000000</td>\n",
              "      <td>14497.884390</td>\n",
              "      <td>0.146100</td>\n",
              "      <td>430.780000</td>\n",
              "      <td>8.250000e+04</td>\n",
              "      <td>18.630000</td>\n",
              "      <td>0.000000</td>\n",
              "      <td>1.000000</td>\n",
              "      <td>21.000000</td>\n",
              "      <td>12.000000</td>\n",
              "      <td>0.000000</td>\n",
              "      <td>17080.000000</td>\n",
              "      <td>0.724000</td>\n",
              "      <td>29.000000</td>\n",
              "      <td>0.000000</td>\n",
              "      <td>0.000000</td>\n",
              "      <td>16605.880000</td>\n",
              "      <td>16000.610000</td>\n",
              "      <td>13800.000000</td>\n",
              "      <td>2861.030000</td>\n",
              "      <td>0.000000</td>\n",
              "      <td>0.000000</td>\n",
              "      <td>0.000000</td>\n",
              "      <td>3344.420000</td>\n",
              "      <td>0.000000</td>\n",
              "    </tr>\n",
              "    <tr>\n",
              "      <th>max</th>\n",
              "      <td>1.314167e+06</td>\n",
              "      <td>35000.000000</td>\n",
              "      <td>35000.000000</td>\n",
              "      <td>35000.000000</td>\n",
              "      <td>0.245900</td>\n",
              "      <td>1305.190000</td>\n",
              "      <td>6.000000e+06</td>\n",
              "      <td>29.990000</td>\n",
              "      <td>11.000000</td>\n",
              "      <td>8.000000</td>\n",
              "      <td>120.000000</td>\n",
              "      <td>44.000000</td>\n",
              "      <td>4.000000</td>\n",
              "      <td>149588.000000</td>\n",
              "      <td>0.999000</td>\n",
              "      <td>90.000000</td>\n",
              "      <td>6311.470000</td>\n",
              "      <td>6307.370000</td>\n",
              "      <td>58563.679930</td>\n",
              "      <td>58563.680000</td>\n",
              "      <td>35000.020000</td>\n",
              "      <td>23563.680000</td>\n",
              "      <td>180.200000</td>\n",
              "      <td>29623.350000</td>\n",
              "      <td>7002.190000</td>\n",
              "      <td>36115.200000</td>\n",
              "      <td>2.000000</td>\n",
              "    </tr>\n",
              "  </tbody>\n",
              "</table>\n",
              "</div>"
            ],
            "text/plain": [
              "          member_id     loan_amnt  ...  last_pymnt_amnt  pub_rec_bankruptcies\n",
              "count  3.893700e+04  38937.000000  ...     38937.000000          38937.000000\n",
              "mean   8.620738e+05  11247.970439  ...      2704.282732              0.043198\n",
              "std    2.534601e+05   7471.739408  ...      4467.082745              0.204188\n",
              "min    8.036400e+04    500.000000  ...         0.010000              0.000000\n",
              "25%    6.758090e+05   5500.000000  ...       221.190000              0.000000\n",
              "50%    8.582830e+05  10000.000000  ...       554.050000              0.000000\n",
              "75%    1.050176e+06  15000.000000  ...      3344.420000              0.000000\n",
              "max    1.314167e+06  35000.000000  ...     36115.200000              2.000000\n",
              "\n",
              "[8 rows x 27 columns]"
            ]
          },
          "metadata": {
            "tags": []
          },
          "execution_count": 19
        }
      ]
    },
    {
      "cell_type": "markdown",
      "metadata": {
        "id": "YamFfLtNUP1c",
        "colab_type": "text"
      },
      "source": [
        "DIGGING DEEPER ON ANNUAL INCOME\n",
        "<BR>--out_prncp\tout_prncp_inv<br>\ttotal_pymnt\ttotal_pymnt_inv\ttotal_rec_prncp\ttotal_rec_int,revol_bal"
      ]
    },
    {
      "cell_type": "code",
      "metadata": {
        "id": "K6iMLvd9To_y",
        "colab_type": "code",
        "outputId": "686e75b8-d29c-492d-96bf-b53fec73e382",
        "colab": {
          "base_uri": "https://localhost:8080/",
          "height": 277
        }
      },
      "source": [
        "sns.set(style=\"whitegrid\")\n",
        "sns.boxplot(y=df.annual_inc)"
      ],
      "execution_count": 0,
      "outputs": [
        {
          "output_type": "execute_result",
          "data": {
            "text/plain": [
              "<matplotlib.axes._subplots.AxesSubplot at 0x7f351e243668>"
            ]
          },
          "metadata": {
            "tags": []
          },
          "execution_count": 20
        },
        {
          "output_type": "display_data",
          "data": {
            "image/png": "[encoded data removed]",
            "text/plain": [
              "<Figure size 432x288 with 1 Axes>"
            ]
          },
          "metadata": {
            "tags": []
          }
        }
      ]
    },
    {
      "cell_type": "code",
      "metadata": {
        "id": "X5Ceap9nVj0d",
        "colab_type": "code",
        "outputId": "8553d883-9aaf-4908-e5dc-507e6386c545",
        "colab": {
          "base_uri": "https://localhost:8080/",
          "height": 254
        }
      },
      "source": [
        "df.total_pymnt.quantile([0,0.001,0.01,.025,.05,.1, .25, .5, .75,.975 ,.99,1],)"
      ],
      "execution_count": 0,
      "outputs": [
        {
          "output_type": "execute_result",
          "data": {
            "text/plain": [
              "0.000       33.730000\n",
              "0.001      199.399520\n",
              "0.010      854.751600\n",
              "0.025     1290.786000\n",
              "0.050     1939.690056\n",
              "0.100     3005.160716\n",
              "0.250     5598.284713\n",
              "0.500     9958.640000\n",
              "0.750    16605.880000\n",
              "0.975    35624.909462\n",
              "0.990    42341.333333\n",
              "1.000    58563.679930\n",
              "Name: total_pymnt, dtype: float64"
            ]
          },
          "metadata": {
            "tags": []
          },
          "execution_count": 21
        }
      ]
    },
    {
      "cell_type": "code",
      "metadata": {
        "id": "4UcRD2fgVzQH",
        "colab_type": "code",
        "outputId": "51431653-81e1-473b-852b-438a636472c5",
        "colab": {
          "base_uri": "https://localhost:8080/",
          "height": 254
        }
      },
      "source": [
        "df.annual_inc.quantile([0,0.001,0.01,.025,.05,.1, .25, .5, .75,.975 ,.99 ,1],)"
      ],
      "execution_count": 0,
      "outputs": [
        {
          "output_type": "execute_result",
          "data": {
            "text/plain": [
              "0.000       4000.000\n",
              "0.001       8498.208\n",
              "0.010      14400.000\n",
              "0.025      19200.000\n",
              "0.050      24000.000\n",
              "0.100      30000.000\n",
              "0.250      40800.000\n",
              "0.500      59004.000\n",
              "0.750      82500.000\n",
              "0.975     175000.000\n",
              "0.990     234853.440\n",
              "1.000    6000000.000\n",
              "Name: annual_inc, dtype: float64"
            ]
          },
          "metadata": {
            "tags": []
          },
          "execution_count": 22
        }
      ]
    },
    {
      "cell_type": "code",
      "metadata": {
        "id": "rXiIqUsEl_no",
        "colab_type": "code",
        "colab": {}
      },
      "source": [
        "df = df[df.annual_inc.between(df.annual_inc.quantile(0), df.annual_inc.quantile(.99))]"
      ],
      "execution_count": 0,
      "outputs": []
    },
    {
      "cell_type": "code",
      "metadata": {
        "id": "4DZv8AXZm-89",
        "colab_type": "code",
        "outputId": "5b8594b1-e4ae-4166-a985-ce63dd729860",
        "colab": {
          "base_uri": "https://localhost:8080/",
          "height": 266
        }
      },
      "source": [
        "sns.set(style=\"whitegrid\")\n",
        "sns.boxplot(y=df.annual_inc)\n",
        "\n"
      ],
      "execution_count": 0,
      "outputs": [
        {
          "output_type": "execute_result",
          "data": {
            "text/plain": [
              "<matplotlib.axes._subplots.AxesSubplot at 0x7f351998f978>"
            ]
          },
          "metadata": {
            "tags": []
          },
          "execution_count": 49
        },
        {
          "output_type": "display_data",
          "data": {
            "image/png": "[encoded data removed]",
            "text/plain": [
              "<Figure size 432x288 with 1 Axes>"
            ]
          },
          "metadata": {
            "tags": []
          }
        }
      ]
    },
    {
      "cell_type": "markdown",
      "metadata": {
        "id": "Zxa-aRkZELiM",
        "colab_type": "text"
      },
      "source": [
        "##UNIVARIATE ANALYSIS\n"
      ]
    },
    {
      "cell_type": "code",
      "metadata": {
        "id": "LXl34YY4KAjx",
        "colab_type": "code",
        "outputId": "030280cc-797f-4e65-9eda-d1a2eec642a2",
        "colab": {
          "base_uri": "https://localhost:8080/",
          "height": 286
        }
      },
      "source": [
        "df.loan_amnt.hist()"
      ],
      "execution_count": 0,
      "outputs": [
        {
          "output_type": "execute_result",
          "data": {
            "text/plain": [
              "<matplotlib.axes._subplots.AxesSubplot at 0x7f351dd11438>"
            ]
          },
          "metadata": {
            "tags": []
          },
          "execution_count": 23
        },
        {
          "output_type": "display_data",
          "data": {
            "image/png": "[encoded data removed]",
            "text/plain": [
              "<Figure size 432x288 with 1 Axes>"
            ]
          },
          "metadata": {
            "tags": []
          }
        }
      ]
    },
    {
      "cell_type": "code",
      "metadata": {
        "id": "2SYpeMtNKe4N",
        "colab_type": "code",
        "outputId": "3859c815-1f79-4d78-cf0f-c4219c106155",
        "colab": {
          "base_uri": "https://localhost:8080/",
          "height": 286
        }
      },
      "source": [
        "df[df.term == '60 months'].loan_amnt.hist()"
      ],
      "execution_count": 0,
      "outputs": [
        {
          "output_type": "execute_result",
          "data": {
            "text/plain": [
              "<matplotlib.axes._subplots.AxesSubplot at 0x7f351dc94c50>"
            ]
          },
          "metadata": {
            "tags": []
          },
          "execution_count": 24
        },
        {
          "output_type": "display_data",
          "data": {
            "image/png": "[encoded data removed]",
            "text/plain": [
              "<Figure size 432x288 with 1 Axes>"
            ]
          },
          "metadata": {
            "tags": []
          }
        }
      ]
    },
    {
      "cell_type": "code",
      "metadata": {
        "id": "k9cPM53PLwn7",
        "colab_type": "code",
        "outputId": "ba8cb8da-72de-48f8-e7e2-8490693040e9",
        "colab": {
          "base_uri": "https://localhost:8080/",
          "height": 286
        }
      },
      "source": [
        "df[df.term == '36 months'].loan_amnt.hist()"
      ],
      "execution_count": 0,
      "outputs": [
        {
          "output_type": "execute_result",
          "data": {
            "text/plain": [
              "<matplotlib.axes._subplots.AxesSubplot at 0x7f351dc89e10>"
            ]
          },
          "metadata": {
            "tags": []
          },
          "execution_count": 25
        },
        {
          "output_type": "display_data",
          "data": {
            "image/png": "[encoded data removed]",
            "text/plain": [
              "<Figure size 432x288 with 1 Axes>"
            ]
          },
          "metadata": {
            "tags": []
          }
        }
      ]
    },
    {
      "cell_type": "code",
      "metadata": {
        "id": "-j40S_XkNGRA",
        "colab_type": "code",
        "outputId": "24c523b3-e560-43a9-b4db-d01f6ca51c81",
        "colab": {
          "base_uri": "https://localhost:8080/",
          "height": 168
        }
      },
      "source": [
        "pd.crosstab(index=  [df.verification_status],columns = df.loan_status, values= df.loan_amnt , aggfunc ='count' , normalize= 'index'  )"
      ],
      "execution_count": 0,
      "outputs": [
        {
          "output_type": "execute_result",
          "data": {
            "text/html": [
              "<div>\n",
              "<style scoped>\n",
              "    .dataframe tbody tr th:only-of-type {\n",
              "        vertical-align: middle;\n",
              "    }\n",
              "\n",
              "    .dataframe tbody tr th {\n",
              "        vertical-align: top;\n",
              "    }\n",
              "\n",
              "    .dataframe thead th {\n",
              "        text-align: right;\n",
              "    }\n",
              "</style>\n",
              "<table border=\"1\" class=\"dataframe\">\n",
              "  <thead>\n",
              "    <tr style=\"text-align: right;\">\n",
              "      <th>loan_status</th>\n",
              "      <th>Charged Off</th>\n",
              "      <th>Current</th>\n",
              "      <th>Fully Paid</th>\n",
              "    </tr>\n",
              "    <tr>\n",
              "      <th>verification_status</th>\n",
              "      <th></th>\n",
              "      <th></th>\n",
              "      <th></th>\n",
              "    </tr>\n",
              "  </thead>\n",
              "  <tbody>\n",
              "    <tr>\n",
              "      <th>Not Verified</th>\n",
              "      <td>0.122667</td>\n",
              "      <td>0.014028</td>\n",
              "      <td>0.863305</td>\n",
              "    </tr>\n",
              "    <tr>\n",
              "      <th>Source Verified</th>\n",
              "      <td>0.142442</td>\n",
              "      <td>0.031096</td>\n",
              "      <td>0.826462</td>\n",
              "    </tr>\n",
              "    <tr>\n",
              "      <th>Verified</th>\n",
              "      <td>0.158767</td>\n",
              "      <td>0.047161</td>\n",
              "      <td>0.794072</td>\n",
              "    </tr>\n",
              "  </tbody>\n",
              "</table>\n",
              "</div>"
            ],
            "text/plain": [
              "loan_status          Charged Off   Current  Fully Paid\n",
              "verification_status                                   \n",
              "Not Verified            0.122667  0.014028    0.863305\n",
              "Source Verified         0.142442  0.031096    0.826462\n",
              "Verified                0.158767  0.047161    0.794072"
            ]
          },
          "metadata": {
            "tags": []
          },
          "execution_count": 26
        }
      ]
    },
    {
      "cell_type": "markdown",
      "metadata": {
        "id": "4njmBBz5EEqT",
        "colab_type": "text"
      },
      "source": [
        "Checking impact  of loan amount "
      ]
    },
    {
      "cell_type": "code",
      "metadata": {
        "id": "IyVD-nehjNny",
        "colab_type": "code",
        "outputId": "6a1be0b2-1b10-4dd0-ffee-5b132df5be60",
        "colab": {
          "base_uri": "https://localhost:8080/",
          "height": 303
        }
      },
      "source": [
        "sns.set(style=\"whitegrid\")\n",
        "sns.boxplot(y=df.loan_amnt , x= df.loan_status)"
      ],
      "execution_count": 0,
      "outputs": [
        {
          "output_type": "execute_result",
          "data": {
            "text/plain": [
              "<matplotlib.axes._subplots.AxesSubplot at 0x7f351db8ab00>"
            ]
          },
          "metadata": {
            "tags": []
          },
          "execution_count": 27
        },
        {
          "output_type": "display_data",
          "data": {
            "image/png": "[encoded data removed]",
            "text/plain": [
              "<Figure size 432x288 with 1 Axes>"
            ]
          },
          "metadata": {
            "tags": []
          }
        }
      ]
    },
    {
      "cell_type": "markdown",
      "metadata": {
        "id": "vmss3n-9A3Fi",
        "colab_type": "text"
      },
      "source": [
        "Loan amount doesnt seem to have major impact on status , although loan amount is more varied in case of charged off loans."
      ]
    },
    {
      "cell_type": "markdown",
      "metadata": {
        "id": "203jBfKhB28i",
        "colab_type": "text"
      },
      "source": [
        "LETS OBSERVE IMPACT OF ANNUAL INCOME ON LOAN STATUS"
      ]
    },
    {
      "cell_type": "code",
      "metadata": {
        "id": "PF6iBuEnB8ol",
        "colab_type": "code",
        "outputId": "ac742baf-b5b0-4c6a-be6c-179f335f3be4",
        "colab": {
          "base_uri": "https://localhost:8080/",
          "height": 181
        }
      },
      "source": [
        "df.annual_inc.describe()"
      ],
      "execution_count": 0,
      "outputs": [
        {
          "output_type": "execute_result",
          "data": {
            "text/plain": [
              "count     38547.000000\n",
              "mean      65609.736975\n",
              "std       35171.339826\n",
              "min        4000.000000\n",
              "25%       40200.000000\n",
              "50%       58260.000000\n",
              "75%       81000.000000\n",
              "max      234600.000000\n",
              "Name: annual_inc, dtype: float64"
            ]
          },
          "metadata": {
            "tags": []
          },
          "execution_count": 61
        }
      ]
    },
    {
      "cell_type": "code",
      "metadata": {
        "id": "MdFRPX5jODCr",
        "colab_type": "code",
        "outputId": "3d34eac4-6849-487d-88c8-b42b4f0c3bd3",
        "colab": {
          "base_uri": "https://localhost:8080/",
          "height": 286
        }
      },
      "source": [
        "df.annual_inc.hist()"
      ],
      "execution_count": 0,
      "outputs": [
        {
          "output_type": "execute_result",
          "data": {
            "text/plain": [
              "<matplotlib.axes._subplots.AxesSubplot at 0x7f351c1bea58>"
            ]
          },
          "metadata": {
            "tags": []
          },
          "execution_count": 78
        },
        {
          "output_type": "display_data",
          "data": {
            "image/png": "[encoded data removed]",
            "text/plain": [
              "<Figure size 432x288 with 1 Axes>"
            ]
          },
          "metadata": {
            "tags": []
          }
        }
      ]
    },
    {
      "cell_type": "code",
      "metadata": {
        "id": "EiCRT3d3jNkv",
        "colab_type": "code",
        "outputId": "88d75679-a86b-4f37-a7b6-335ec589ebaa",
        "colab": {
          "base_uri": "https://localhost:8080/",
          "height": 303
        }
      },
      "source": [
        "sns.set(style=\"whitegrid\")\n",
        "sns.boxplot(y=df.annual_inc , x= df.loan_status)"
      ],
      "execution_count": 0,
      "outputs": [
        {
          "output_type": "execute_result",
          "data": {
            "text/plain": [
              "<matplotlib.axes._subplots.AxesSubplot at 0x7f35191f4da0>"
            ]
          },
          "metadata": {
            "tags": []
          },
          "execution_count": 62
        },
        {
          "output_type": "display_data",
          "data": {
            "image/png": "[encoded data removed]",
            "text/plain": [
              "<Figure size 432x288 with 1 Axes>"
            ]
          },
          "metadata": {
            "tags": []
          }
        }
      ]
    },
    {
      "cell_type": "markdown",
      "metadata": {
        "id": "9DglOL9bCIjI",
        "colab_type": "text"
      },
      "source": [
        "the annual income seems to be on the lower side in case of charged off loans"
      ]
    },
    {
      "cell_type": "markdown",
      "metadata": {
        "id": "koyvcE3FCwZT",
        "colab_type": "text"
      },
      "source": [
        "CHECKING THE IMPACT OF dti on LOAN STATUS"
      ]
    },
    {
      "cell_type": "code",
      "metadata": {
        "id": "y_eqAX4bjNGP",
        "colab_type": "code",
        "outputId": "a02d9d75-a935-4adb-f09d-8b184e8b7135",
        "colab": {
          "base_uri": "https://localhost:8080/",
          "height": 181
        }
      },
      "source": [
        "df.dti.describe()"
      ],
      "execution_count": 0,
      "outputs": [
        {
          "output_type": "execute_result",
          "data": {
            "text/plain": [
              "count    38547.000000\n",
              "mean        13.423189\n",
              "std          6.654058\n",
              "min          0.000000\n",
              "25%          8.330000\n",
              "50%         13.510000\n",
              "75%         18.680000\n",
              "max         29.990000\n",
              "Name: dti, dtype: float64"
            ]
          },
          "metadata": {
            "tags": []
          },
          "execution_count": 53
        }
      ]
    },
    {
      "cell_type": "code",
      "metadata": {
        "id": "WFi7l5U_jNRn",
        "colab_type": "code",
        "outputId": "a15ff591-749b-4545-8156-e58ed68fa85a",
        "colab": {
          "base_uri": "https://localhost:8080/",
          "height": 303
        }
      },
      "source": [
        "sns.set(style=\"whitegrid\")\n",
        "sns.boxplot(y=df.dti , x= df.loan_status) "
      ],
      "execution_count": 0,
      "outputs": [
        {
          "output_type": "execute_result",
          "data": {
            "text/plain": [
              "<matplotlib.axes._subplots.AxesSubplot at 0x7f3519825cf8>"
            ]
          },
          "metadata": {
            "tags": []
          },
          "execution_count": 52
        },
        {
          "output_type": "display_data",
          "data": {
            "image/png": "[encoded data removed]",
            "text/plain": [
              "<Figure size 432x288 with 1 Axes>"
            ]
          },
          "metadata": {
            "tags": []
          }
        }
      ]
    },
    {
      "cell_type": "markdown",
      "metadata": {
        "id": "oUCSAcrXC80h",
        "colab_type": "text"
      },
      "source": [
        "CHECKING THE IMPACT OF LAST 6 MONTHS ENQUIRY on LOAN STATUS"
      ]
    },
    {
      "cell_type": "code",
      "metadata": {
        "id": "UDOg-Qt_jMj8",
        "colab_type": "code",
        "outputId": "4c084081-f4ba-4f33-905b-d8cadee7a034",
        "colab": {
          "base_uri": "https://localhost:8080/",
          "height": 286
        }
      },
      "source": [
        "df.inq_last_6mths.hist()"
      ],
      "execution_count": 0,
      "outputs": [
        {
          "output_type": "execute_result",
          "data": {
            "text/plain": [
              "<matplotlib.axes._subplots.AxesSubplot at 0x7f351c1df470>"
            ]
          },
          "metadata": {
            "tags": []
          },
          "execution_count": 76
        },
        {
          "output_type": "display_data",
          "data": {
            "image/png": "[encoded data removed]",
            "text/plain": [
              "<Figure size 432x288 with 1 Axes>"
            ]
          },
          "metadata": {
            "tags": []
          }
        }
      ]
    },
    {
      "cell_type": "code",
      "metadata": {
        "id": "Jidd8JpAjM5k",
        "colab_type": "code",
        "outputId": "e2f3ec3d-9dbf-4ad3-d6e8-014400f35596",
        "colab": {
          "base_uri": "https://localhost:8080/",
          "height": 303
        }
      },
      "source": [
        "sns.set(style=\"whitegrid\")\n",
        "sns.boxplot(y=df.inq_last_6mths , x= df.loan_status) "
      ],
      "execution_count": 0,
      "outputs": [
        {
          "output_type": "execute_result",
          "data": {
            "text/plain": [
              "<matplotlib.axes._subplots.AxesSubplot at 0x7f3519828208>"
            ]
          },
          "metadata": {
            "tags": []
          },
          "execution_count": 54
        },
        {
          "output_type": "display_data",
          "data": {
            "image/png": "[encoded data removed]",
            "text/plain": [
              "<Figure size 432x288 with 1 Axes>"
            ]
          },
          "metadata": {
            "tags": []
          }
        }
      ]
    },
    {
      "cell_type": "markdown",
      "metadata": {
        "id": "y82x9iKrDE_G",
        "colab_type": "text"
      },
      "source": [
        "chances of loan being charged off seems to increase with increase in enquiries"
      ]
    },
    {
      "cell_type": "markdown",
      "metadata": {
        "id": "LkacEDZ3DbWC",
        "colab_type": "text"
      },
      "source": [
        "checking impact of interest rate"
      ]
    },
    {
      "cell_type": "code",
      "metadata": {
        "id": "pVlEXY1-DsgM",
        "colab_type": "code",
        "outputId": "f2ce15f4-50db-43e8-aa83-ce27b1949c75",
        "colab": {
          "base_uri": "https://localhost:8080/",
          "height": 181
        }
      },
      "source": [
        "df.int_rate.describe()"
      ],
      "execution_count": 0,
      "outputs": [
        {
          "output_type": "execute_result",
          "data": {
            "text/plain": [
              "count    38547.000000\n",
              "mean         0.120263\n",
              "std          0.037355\n",
              "min          0.054200\n",
              "25%          0.090700\n",
              "50%          0.118600\n",
              "75%          0.145900\n",
              "max          0.245900\n",
              "Name: int_rate, dtype: float64"
            ]
          },
          "metadata": {
            "tags": []
          },
          "execution_count": 64
        }
      ]
    },
    {
      "cell_type": "code",
      "metadata": {
        "id": "n5blZAi-N31X",
        "colab_type": "code",
        "outputId": "1ff71d32-f9e0-4c29-c375-e5d0e321ef99",
        "colab": {
          "base_uri": "https://localhost:8080/",
          "height": 286
        }
      },
      "source": [
        "df.int_rate.hist()"
      ],
      "execution_count": 0,
      "outputs": [
        {
          "output_type": "execute_result",
          "data": {
            "text/plain": [
              "<matplotlib.axes._subplots.AxesSubplot at 0x7f351c2c14e0>"
            ]
          },
          "metadata": {
            "tags": []
          },
          "execution_count": 77
        },
        {
          "output_type": "display_data",
          "data": {
            "image/png": "[encoded data removed]",
            "text/plain": [
              "<Figure size 432x288 with 1 Axes>"
            ]
          },
          "metadata": {
            "tags": []
          }
        }
      ]
    },
    {
      "cell_type": "code",
      "metadata": {
        "id": "tlpF1t8v_Puh",
        "colab_type": "code",
        "outputId": "090262e1-22a4-4aad-cf5d-2da114bb696c",
        "colab": {
          "base_uri": "https://localhost:8080/",
          "height": 303
        }
      },
      "source": [
        "sns.set(style=\"whitegrid\")\n",
        "sns.boxplot(y=df.int_rate , x= df.loan_status) "
      ],
      "execution_count": 0,
      "outputs": [
        {
          "output_type": "execute_result",
          "data": {
            "text/plain": [
              "<matplotlib.axes._subplots.AxesSubplot at 0x7f351792d390>"
            ]
          },
          "metadata": {
            "tags": []
          },
          "execution_count": 63
        },
        {
          "output_type": "display_data",
          "data": {
            "image/png": "[encoded data removed]",
            "text/plain": [
              "<Figure size 432x288 with 1 Axes>"
            ]
          },
          "metadata": {
            "tags": []
          }
        }
      ]
    },
    {
      "cell_type": "markdown",
      "metadata": {
        "id": "hok669MWDzEx",
        "colab_type": "text"
      },
      "source": [
        "Increase in intrest rate  increases the chances of loan being charged off"
      ]
    },
    {
      "cell_type": "markdown",
      "metadata": {
        "id": "3oQ3VdEWMLOc",
        "colab_type": "text"
      },
      "source": [
        "checking impact of utilization rate"
      ]
    },
    {
      "cell_type": "code",
      "metadata": {
        "id": "rpjT_7OpMTOR",
        "colab_type": "code",
        "outputId": "87c0ec12-fad9-4a04-def0-10a81f4d2ebb",
        "colab": {
          "base_uri": "https://localhost:8080/",
          "height": 286
        }
      },
      "source": [
        "df.revol_util.hist()"
      ],
      "execution_count": 0,
      "outputs": [
        {
          "output_type": "execute_result",
          "data": {
            "text/plain": [
              "<matplotlib.axes._subplots.AxesSubplot at 0x7f351c1e5cf8>"
            ]
          },
          "metadata": {
            "tags": []
          },
          "execution_count": 75
        },
        {
          "output_type": "display_data",
          "data": {
            "image/png": "[encoded data removed]",
            "text/plain": [
              "<Figure size 432x288 with 1 Axes>"
            ]
          },
          "metadata": {
            "tags": []
          }
        }
      ]
    },
    {
      "cell_type": "code",
      "metadata": {
        "id": "9QSq7hy8_Pqx",
        "colab_type": "code",
        "outputId": "4433f229-e472-496e-b14a-3a94e9bdf740",
        "colab": {
          "base_uri": "https://localhost:8080/",
          "height": 303
        }
      },
      "source": [
        "sns.set(style=\"whitegrid\")\n",
        "sns.boxplot(y=df.revol_util , x= df.loan_status) "
      ],
      "execution_count": 0,
      "outputs": [
        {
          "output_type": "execute_result",
          "data": {
            "text/plain": [
              "<matplotlib.axes._subplots.AxesSubplot at 0x7f351c4afcc0>"
            ]
          },
          "metadata": {
            "tags": []
          },
          "execution_count": 71
        },
        {
          "output_type": "display_data",
          "data": {
            "image/png": "[encoded data removed]",
            "text/plain": [
              "<Figure size 432x288 with 1 Axes>"
            ]
          },
          "metadata": {
            "tags": []
          }
        }
      ]
    },
    {
      "cell_type": "markdown",
      "metadata": {
        "id": "KNTy8gw6MgmJ",
        "colab_type": "text"
      },
      "source": [
        "Increase in utilization of revolving line  increases the chances of loan being charged off"
      ]
    },
    {
      "cell_type": "code",
      "metadata": {
        "id": "85R7bdI2_Pj9",
        "colab_type": "code",
        "outputId": "bdbebd69-5fe8-43d7-ab6c-f28a7def4f71",
        "colab": {
          "base_uri": "https://localhost:8080/",
          "height": 303
        }
      },
      "source": [
        "sns.set(style=\"whitegrid\")\n",
        "sns.boxplot(y=df.total_pymnt , x= df.loan_status) "
      ],
      "execution_count": 0,
      "outputs": [
        {
          "output_type": "execute_result",
          "data": {
            "text/plain": [
              "<matplotlib.axes._subplots.AxesSubplot at 0x7f351c25b860>"
            ]
          },
          "metadata": {
            "tags": []
          },
          "execution_count": 74
        },
        {
          "output_type": "display_data",
          "data": {
            "image/png": "[encoded data removed]",
            "text/plain": [
              "<Figure size 432x288 with 1 Axes>"
            ]
          },
          "metadata": {
            "tags": []
          }
        }
      ]
    },
    {
      "cell_type": "code",
      "metadata": {
        "id": "qK6SsuYc_Pgk",
        "colab_type": "code",
        "colab": {}
      },
      "source": [
        ""
      ],
      "execution_count": 0,
      "outputs": []
    },
    {
      "cell_type": "code",
      "metadata": {
        "id": "m71ebOjb_Pcj",
        "colab_type": "code",
        "colab": {}
      },
      "source": [
        ""
      ],
      "execution_count": 0,
      "outputs": []
    },
    {
      "cell_type": "code",
      "metadata": {
        "id": "TIBw_EnF_PW_",
        "colab_type": "code",
        "colab": {}
      },
      "source": [
        ""
      ],
      "execution_count": 0,
      "outputs": []
    },
    {
      "cell_type": "code",
      "metadata": {
        "id": "fkIwU0og_PHL",
        "colab_type": "code",
        "colab": {}
      },
      "source": [
        ""
      ],
      "execution_count": 0,
      "outputs": []
    },
    {
      "cell_type": "markdown",
      "metadata": {
        "id": "xnCKy40JGswl",
        "colab_type": "text"
      },
      "source": [
        "##BIVARIATE ANALYSIS"
      ]
    },
    {
      "cell_type": "code",
      "metadata": {
        "id": "NsQcIVRhIn-r",
        "colab_type": "code",
        "outputId": "a7d2a821-a2fc-4959-98bb-057f32602c81",
        "colab": {
          "base_uri": "https://localhost:8080/",
          "height": 228
        }
      },
      "source": [
        "df.groupby(['term','loan_status'])['loan_amnt'].describe()"
      ],
      "execution_count": 0,
      "outputs": [
        {
          "output_type": "execute_result",
          "data": {
            "text/html": [
              "<div>\n",
              "<style scoped>\n",
              "    .dataframe tbody tr th:only-of-type {\n",
              "        vertical-align: middle;\n",
              "    }\n",
              "\n",
              "    .dataframe tbody tr th {\n",
              "        vertical-align: top;\n",
              "    }\n",
              "\n",
              "    .dataframe thead th {\n",
              "        text-align: right;\n",
              "    }\n",
              "</style>\n",
              "<table border=\"1\" class=\"dataframe\">\n",
              "  <thead>\n",
              "    <tr style=\"text-align: right;\">\n",
              "      <th></th>\n",
              "      <th></th>\n",
              "      <th>count</th>\n",
              "      <th>mean</th>\n",
              "      <th>std</th>\n",
              "      <th>min</th>\n",
              "      <th>25%</th>\n",
              "      <th>50%</th>\n",
              "      <th>75%</th>\n",
              "      <th>max</th>\n",
              "    </tr>\n",
              "    <tr>\n",
              "      <th>term</th>\n",
              "      <th>loan_status</th>\n",
              "      <th></th>\n",
              "      <th></th>\n",
              "      <th></th>\n",
              "      <th></th>\n",
              "      <th></th>\n",
              "      <th></th>\n",
              "      <th></th>\n",
              "      <th></th>\n",
              "    </tr>\n",
              "  </thead>\n",
              "  <tbody>\n",
              "    <tr>\n",
              "      <th rowspan=\"2\" valign=\"top\">36 months</th>\n",
              "      <th>Charged Off</th>\n",
              "      <td>3055.0</td>\n",
              "      <td>9306.497545</td>\n",
              "      <td>6372.887339</td>\n",
              "      <td>1000.0</td>\n",
              "      <td>4937.50</td>\n",
              "      <td>8000.0</td>\n",
              "      <td>12000.0</td>\n",
              "      <td>35000.0</td>\n",
              "    </tr>\n",
              "    <tr>\n",
              "      <th>Fully Paid</th>\n",
              "      <td>25283.0</td>\n",
              "      <td>9624.114029</td>\n",
              "      <td>6314.413743</td>\n",
              "      <td>500.0</td>\n",
              "      <td>5000.00</td>\n",
              "      <td>8000.0</td>\n",
              "      <td>12250.0</td>\n",
              "      <td>35000.0</td>\n",
              "    </tr>\n",
              "    <tr>\n",
              "      <th rowspan=\"3\" valign=\"top\">60 months</th>\n",
              "      <th>Charged Off</th>\n",
              "      <td>2380.0</td>\n",
              "      <td>15783.844538</td>\n",
              "      <td>8600.403566</td>\n",
              "      <td>1000.0</td>\n",
              "      <td>9193.75</td>\n",
              "      <td>15000.0</td>\n",
              "      <td>21000.0</td>\n",
              "      <td>35000.0</td>\n",
              "    </tr>\n",
              "    <tr>\n",
              "      <th>Current</th>\n",
              "      <td>1140.0</td>\n",
              "      <td>17053.991228</td>\n",
              "      <td>8651.052316</td>\n",
              "      <td>1000.0</td>\n",
              "      <td>12000.00</td>\n",
              "      <td>15825.0</td>\n",
              "      <td>23000.0</td>\n",
              "      <td>35000.0</td>\n",
              "    </tr>\n",
              "    <tr>\n",
              "      <th>Fully Paid</th>\n",
              "      <td>7079.0</td>\n",
              "      <td>15425.526204</td>\n",
              "      <td>8331.137357</td>\n",
              "      <td>1000.0</td>\n",
              "      <td>9000.00</td>\n",
              "      <td>14500.0</td>\n",
              "      <td>20000.0</td>\n",
              "      <td>35000.0</td>\n",
              "    </tr>\n",
              "  </tbody>\n",
              "</table>\n",
              "</div>"
            ],
            "text/plain": [
              "                         count          mean  ...      75%      max\n",
              "term      loan_status                         ...                  \n",
              "36 months Charged Off   3055.0   9306.497545  ...  12000.0  35000.0\n",
              "          Fully Paid   25283.0   9624.114029  ...  12250.0  35000.0\n",
              "60 months Charged Off   2380.0  15783.844538  ...  21000.0  35000.0\n",
              "          Current       1140.0  17053.991228  ...  23000.0  35000.0\n",
              "          Fully Paid    7079.0  15425.526204  ...  20000.0  35000.0\n",
              "\n",
              "[5 rows x 8 columns]"
            ]
          },
          "metadata": {
            "tags": []
          },
          "execution_count": 29
        }
      ]
    },
    {
      "cell_type": "code",
      "metadata": {
        "id": "jckxSmRxI_rH",
        "colab_type": "code",
        "outputId": "0a2a8058-b1db-4248-fb26-40a32f7c8075",
        "colab": {
          "base_uri": "https://localhost:8080/",
          "height": 288
        }
      },
      "source": [
        "df.groupby(['grade','loan_status'])['loan_amnt'].describe()\n",
        "pd.crosstab(index = [df.grade] , columns = df.loan_status , values = df.loan_amnt, aggfunc = 'count' , normalize= 'index')"
      ],
      "execution_count": 0,
      "outputs": [
        {
          "output_type": "execute_result",
          "data": {
            "text/html": [
              "<div>\n",
              "<style scoped>\n",
              "    .dataframe tbody tr th:only-of-type {\n",
              "        vertical-align: middle;\n",
              "    }\n",
              "\n",
              "    .dataframe tbody tr th {\n",
              "        vertical-align: top;\n",
              "    }\n",
              "\n",
              "    .dataframe thead th {\n",
              "        text-align: right;\n",
              "    }\n",
              "</style>\n",
              "<table border=\"1\" class=\"dataframe\">\n",
              "  <thead>\n",
              "    <tr style=\"text-align: right;\">\n",
              "      <th>loan_status</th>\n",
              "      <th>Charged Off</th>\n",
              "      <th>Current</th>\n",
              "      <th>Fully Paid</th>\n",
              "    </tr>\n",
              "    <tr>\n",
              "      <th>grade</th>\n",
              "      <th></th>\n",
              "      <th></th>\n",
              "      <th></th>\n",
              "    </tr>\n",
              "  </thead>\n",
              "  <tbody>\n",
              "    <tr>\n",
              "      <th>A</th>\n",
              "      <td>0.059380</td>\n",
              "      <td>0.004026</td>\n",
              "      <td>0.936594</td>\n",
              "    </tr>\n",
              "    <tr>\n",
              "      <th>B</th>\n",
              "      <td>0.117028</td>\n",
              "      <td>0.029257</td>\n",
              "      <td>0.853714</td>\n",
              "    </tr>\n",
              "    <tr>\n",
              "      <th>C</th>\n",
              "      <td>0.163265</td>\n",
              "      <td>0.033464</td>\n",
              "      <td>0.803270</td>\n",
              "    </tr>\n",
              "    <tr>\n",
              "      <th>D</th>\n",
              "      <td>0.206950</td>\n",
              "      <td>0.042857</td>\n",
              "      <td>0.750193</td>\n",
              "    </tr>\n",
              "    <tr>\n",
              "      <th>E</th>\n",
              "      <td>0.248481</td>\n",
              "      <td>0.063997</td>\n",
              "      <td>0.687522</td>\n",
              "    </tr>\n",
              "    <tr>\n",
              "      <th>F</th>\n",
              "      <td>0.301649</td>\n",
              "      <td>0.070805</td>\n",
              "      <td>0.627546</td>\n",
              "    </tr>\n",
              "    <tr>\n",
              "      <th>G</th>\n",
              "      <td>0.317308</td>\n",
              "      <td>0.054487</td>\n",
              "      <td>0.628205</td>\n",
              "    </tr>\n",
              "  </tbody>\n",
              "</table>\n",
              "</div>"
            ],
            "text/plain": [
              "loan_status  Charged Off   Current  Fully Paid\n",
              "grade                                         \n",
              "A               0.059380  0.004026    0.936594\n",
              "B               0.117028  0.029257    0.853714\n",
              "C               0.163265  0.033464    0.803270\n",
              "D               0.206950  0.042857    0.750193\n",
              "E               0.248481  0.063997    0.687522\n",
              "F               0.301649  0.070805    0.627546\n",
              "G               0.317308  0.054487    0.628205"
            ]
          },
          "metadata": {
            "tags": []
          },
          "execution_count": 30
        }
      ]
    },
    {
      "cell_type": "code",
      "metadata": {
        "id": "6Ky_xFrWJIP6",
        "colab_type": "code",
        "outputId": "343486e9-6c99-487d-d7fa-4812a66d1067",
        "colab": {
          "base_uri": "https://localhost:8080/",
          "height": 1000
        }
      },
      "source": [
        "df.groupby(['term','grade','loan_status'])['loan_amnt'].describe()"
      ],
      "execution_count": 0,
      "outputs": [
        {
          "output_type": "execute_result",
          "data": {
            "text/html": [
              "<div>\n",
              "<style scoped>\n",
              "    .dataframe tbody tr th:only-of-type {\n",
              "        vertical-align: middle;\n",
              "    }\n",
              "\n",
              "    .dataframe tbody tr th {\n",
              "        vertical-align: top;\n",
              "    }\n",
              "\n",
              "    .dataframe thead th {\n",
              "        text-align: right;\n",
              "    }\n",
              "</style>\n",
              "<table border=\"1\" class=\"dataframe\">\n",
              "  <thead>\n",
              "    <tr style=\"text-align: right;\">\n",
              "      <th></th>\n",
              "      <th></th>\n",
              "      <th></th>\n",
              "      <th>count</th>\n",
              "      <th>mean</th>\n",
              "      <th>std</th>\n",
              "      <th>min</th>\n",
              "      <th>25%</th>\n",
              "      <th>50%</th>\n",
              "      <th>75%</th>\n",
              "      <th>max</th>\n",
              "    </tr>\n",
              "    <tr>\n",
              "      <th>term</th>\n",
              "      <th>grade</th>\n",
              "      <th>loan_status</th>\n",
              "      <th></th>\n",
              "      <th></th>\n",
              "      <th></th>\n",
              "      <th></th>\n",
              "      <th></th>\n",
              "      <th></th>\n",
              "      <th></th>\n",
              "      <th></th>\n",
              "    </tr>\n",
              "  </thead>\n",
              "  <tbody>\n",
              "    <tr>\n",
              "      <th rowspan=\"14\" valign=\"top\">36 months</th>\n",
              "      <th rowspan=\"2\" valign=\"top\">A</th>\n",
              "      <th>Charged Off</th>\n",
              "      <td>553.0</td>\n",
              "      <td>7732.142857</td>\n",
              "      <td>4900.223308</td>\n",
              "      <td>1000.0</td>\n",
              "      <td>4200.00</td>\n",
              "      <td>7000.0</td>\n",
              "      <td>10000.00</td>\n",
              "      <td>35000.0</td>\n",
              "    </tr>\n",
              "    <tr>\n",
              "      <th>Fully Paid</th>\n",
              "      <td>8948.0</td>\n",
              "      <td>8647.773245</td>\n",
              "      <td>5363.989030</td>\n",
              "      <td>725.0</td>\n",
              "      <td>5000.00</td>\n",
              "      <td>7500.0</td>\n",
              "      <td>11006.25</td>\n",
              "      <td>35000.0</td>\n",
              "    </tr>\n",
              "    <tr>\n",
              "      <th rowspan=\"2\" valign=\"top\">B</th>\n",
              "      <th>Charged Off</th>\n",
              "      <td>943.0</td>\n",
              "      <td>9221.102863</td>\n",
              "      <td>6276.351353</td>\n",
              "      <td>1000.0</td>\n",
              "      <td>4800.00</td>\n",
              "      <td>7650.0</td>\n",
              "      <td>12000.00</td>\n",
              "      <td>35000.0</td>\n",
              "    </tr>\n",
              "    <tr>\n",
              "      <th>Fully Paid</th>\n",
              "      <td>8163.0</td>\n",
              "      <td>10075.349136</td>\n",
              "      <td>6591.865518</td>\n",
              "      <td>500.0</td>\n",
              "      <td>5000.00</td>\n",
              "      <td>8500.0</td>\n",
              "      <td>14000.00</td>\n",
              "      <td>35000.0</td>\n",
              "    </tr>\n",
              "    <tr>\n",
              "      <th rowspan=\"2\" valign=\"top\">C</th>\n",
              "      <th>Charged Off</th>\n",
              "      <td>790.0</td>\n",
              "      <td>8852.278481</td>\n",
              "      <td>5854.795804</td>\n",
              "      <td>1000.0</td>\n",
              "      <td>4762.50</td>\n",
              "      <td>7750.0</td>\n",
              "      <td>12000.00</td>\n",
              "      <td>35000.0</td>\n",
              "    </tr>\n",
              "    <tr>\n",
              "      <th>Fully Paid</th>\n",
              "      <td>4755.0</td>\n",
              "      <td>9280.026288</td>\n",
              "      <td>6099.413578</td>\n",
              "      <td>700.0</td>\n",
              "      <td>4937.50</td>\n",
              "      <td>8000.0</td>\n",
              "      <td>12000.00</td>\n",
              "      <td>35000.0</td>\n",
              "    </tr>\n",
              "    <tr>\n",
              "      <th rowspan=\"2\" valign=\"top\">D</th>\n",
              "      <th>Charged Off</th>\n",
              "      <td>537.0</td>\n",
              "      <td>10004.748603</td>\n",
              "      <td>6903.350857</td>\n",
              "      <td>1000.0</td>\n",
              "      <td>5000.00</td>\n",
              "      <td>8000.0</td>\n",
              "      <td>13000.00</td>\n",
              "      <td>35000.0</td>\n",
              "    </tr>\n",
              "    <tr>\n",
              "      <th>Fully Paid</th>\n",
              "      <td>2572.0</td>\n",
              "      <td>11026.564930</td>\n",
              "      <td>7374.126021</td>\n",
              "      <td>1000.0</td>\n",
              "      <td>5118.75</td>\n",
              "      <td>9500.0</td>\n",
              "      <td>15000.00</td>\n",
              "      <td>35000.0</td>\n",
              "    </tr>\n",
              "    <tr>\n",
              "      <th rowspan=\"2\" valign=\"top\">E</th>\n",
              "      <th>Charged Off</th>\n",
              "      <td>162.0</td>\n",
              "      <td>11997.685185</td>\n",
              "      <td>7770.769008</td>\n",
              "      <td>1000.0</td>\n",
              "      <td>5000.00</td>\n",
              "      <td>10000.0</td>\n",
              "      <td>16875.00</td>\n",
              "      <td>35000.0</td>\n",
              "    </tr>\n",
              "    <tr>\n",
              "      <th>Fully Paid</th>\n",
              "      <td>667.0</td>\n",
              "      <td>12980.997001</td>\n",
              "      <td>7754.794338</td>\n",
              "      <td>1000.0</td>\n",
              "      <td>6500.00</td>\n",
              "      <td>12000.0</td>\n",
              "      <td>18000.00</td>\n",
              "      <td>35000.0</td>\n",
              "    </tr>\n",
              "    <tr>\n",
              "      <th rowspan=\"2\" valign=\"top\">F</th>\n",
              "      <th>Charged Off</th>\n",
              "      <td>49.0</td>\n",
              "      <td>16808.163265</td>\n",
              "      <td>8286.405451</td>\n",
              "      <td>2000.0</td>\n",
              "      <td>9600.00</td>\n",
              "      <td>18000.0</td>\n",
              "      <td>25000.00</td>\n",
              "      <td>35000.0</td>\n",
              "    </tr>\n",
              "    <tr>\n",
              "      <th>Fully Paid</th>\n",
              "      <td>145.0</td>\n",
              "      <td>13513.793103</td>\n",
              "      <td>8133.778341</td>\n",
              "      <td>1200.0</td>\n",
              "      <td>7000.00</td>\n",
              "      <td>12500.0</td>\n",
              "      <td>20500.00</td>\n",
              "      <td>30000.0</td>\n",
              "    </tr>\n",
              "    <tr>\n",
              "      <th rowspan=\"2\" valign=\"top\">G</th>\n",
              "      <th>Charged Off</th>\n",
              "      <td>21.0</td>\n",
              "      <td>15566.666667</td>\n",
              "      <td>8683.710804</td>\n",
              "      <td>2500.0</td>\n",
              "      <td>7750.00</td>\n",
              "      <td>16750.0</td>\n",
              "      <td>20500.00</td>\n",
              "      <td>35000.0</td>\n",
              "    </tr>\n",
              "    <tr>\n",
              "      <th>Fully Paid</th>\n",
              "      <td>33.0</td>\n",
              "      <td>18074.242424</td>\n",
              "      <td>7555.669655</td>\n",
              "      <td>1600.0</td>\n",
              "      <td>12500.00</td>\n",
              "      <td>21600.0</td>\n",
              "      <td>25000.00</td>\n",
              "      <td>25000.0</td>\n",
              "    </tr>\n",
              "    <tr>\n",
              "      <th rowspan=\"21\" valign=\"top\">60 months</th>\n",
              "      <th rowspan=\"3\" valign=\"top\">A</th>\n",
              "      <th>Charged Off</th>\n",
              "      <td>37.0</td>\n",
              "      <td>9694.594595</td>\n",
              "      <td>4841.168703</td>\n",
              "      <td>3000.0</td>\n",
              "      <td>6000.00</td>\n",
              "      <td>9000.0</td>\n",
              "      <td>12000.00</td>\n",
              "      <td>24250.0</td>\n",
              "    </tr>\n",
              "    <tr>\n",
              "      <th>Current</th>\n",
              "      <td>40.0</td>\n",
              "      <td>10174.375000</td>\n",
              "      <td>4064.908014</td>\n",
              "      <td>1500.0</td>\n",
              "      <td>6000.00</td>\n",
              "      <td>12000.0</td>\n",
              "      <td>13481.25</td>\n",
              "      <td>17475.0</td>\n",
              "    </tr>\n",
              "    <tr>\n",
              "      <th>Fully Paid</th>\n",
              "      <td>358.0</td>\n",
              "      <td>10202.513966</td>\n",
              "      <td>5383.613933</td>\n",
              "      <td>1000.0</td>\n",
              "      <td>5750.00</td>\n",
              "      <td>10000.0</td>\n",
              "      <td>14000.00</td>\n",
              "      <td>24250.0</td>\n",
              "    </tr>\n",
              "    <tr>\n",
              "      <th rowspan=\"3\" valign=\"top\">B</th>\n",
              "      <th>Charged Off</th>\n",
              "      <td>437.0</td>\n",
              "      <td>14518.192220</td>\n",
              "      <td>7794.297289</td>\n",
              "      <td>1400.0</td>\n",
              "      <td>8500.00</td>\n",
              "      <td>13300.0</td>\n",
              "      <td>19700.00</td>\n",
              "      <td>35000.0</td>\n",
              "    </tr>\n",
              "    <tr>\n",
              "      <th>Current</th>\n",
              "      <td>345.0</td>\n",
              "      <td>17355.797101</td>\n",
              "      <td>9001.711264</td>\n",
              "      <td>1000.0</td>\n",
              "      <td>12000.00</td>\n",
              "      <td>16000.0</td>\n",
              "      <td>24000.00</td>\n",
              "      <td>35000.0</td>\n",
              "    </tr>\n",
              "    <tr>\n",
              "      <th>Fully Paid</th>\n",
              "      <td>1904.0</td>\n",
              "      <td>14723.936450</td>\n",
              "      <td>7745.034379</td>\n",
              "      <td>1000.0</td>\n",
              "      <td>9000.00</td>\n",
              "      <td>14000.0</td>\n",
              "      <td>20000.00</td>\n",
              "      <td>35000.0</td>\n",
              "    </tr>\n",
              "    <tr>\n",
              "      <th rowspan=\"3\" valign=\"top\">C</th>\n",
              "      <th>Charged Off</th>\n",
              "      <td>498.0</td>\n",
              "      <td>14570.732932</td>\n",
              "      <td>8297.584441</td>\n",
              "      <td>1000.0</td>\n",
              "      <td>8000.00</td>\n",
              "      <td>14000.0</td>\n",
              "      <td>20000.00</td>\n",
              "      <td>35000.0</td>\n",
              "    </tr>\n",
              "    <tr>\n",
              "      <th>Current</th>\n",
              "      <td>264.0</td>\n",
              "      <td>16617.613636</td>\n",
              "      <td>7607.141393</td>\n",
              "      <td>1500.0</td>\n",
              "      <td>12000.00</td>\n",
              "      <td>15525.0</td>\n",
              "      <td>21031.25</td>\n",
              "      <td>35000.0</td>\n",
              "    </tr>\n",
              "    <tr>\n",
              "      <th>Fully Paid</th>\n",
              "      <td>1582.0</td>\n",
              "      <td>15389.048673</td>\n",
              "      <td>8227.469797</td>\n",
              "      <td>1000.0</td>\n",
              "      <td>9000.00</td>\n",
              "      <td>14400.0</td>\n",
              "      <td>20987.50</td>\n",
              "      <td>35000.0</td>\n",
              "    </tr>\n",
              "    <tr>\n",
              "      <th rowspan=\"3\" valign=\"top\">D</th>\n",
              "      <th>Charged Off</th>\n",
              "      <td>535.0</td>\n",
              "      <td>14575.560748</td>\n",
              "      <td>7854.370587</td>\n",
              "      <td>1000.0</td>\n",
              "      <td>8400.00</td>\n",
              "      <td>14000.0</td>\n",
              "      <td>19200.00</td>\n",
              "      <td>35000.0</td>\n",
              "    </tr>\n",
              "    <tr>\n",
              "      <th>Current</th>\n",
              "      <td>222.0</td>\n",
              "      <td>15494.819820</td>\n",
              "      <td>7611.468126</td>\n",
              "      <td>1500.0</td>\n",
              "      <td>10000.00</td>\n",
              "      <td>15000.0</td>\n",
              "      <td>20000.00</td>\n",
              "      <td>35000.0</td>\n",
              "    </tr>\n",
              "    <tr>\n",
              "      <th>Fully Paid</th>\n",
              "      <td>1314.0</td>\n",
              "      <td>14314.250381</td>\n",
              "      <td>7570.840865</td>\n",
              "      <td>1000.0</td>\n",
              "      <td>8400.00</td>\n",
              "      <td>13200.0</td>\n",
              "      <td>19593.75</td>\n",
              "      <td>35000.0</td>\n",
              "    </tr>\n",
              "    <tr>\n",
              "      <th rowspan=\"3\" valign=\"top\">E</th>\n",
              "      <th>Charged Off</th>\n",
              "      <td>533.0</td>\n",
              "      <td>17019.136961</td>\n",
              "      <td>9096.313938</td>\n",
              "      <td>1200.0</td>\n",
              "      <td>10000.00</td>\n",
              "      <td>16000.0</td>\n",
              "      <td>24000.00</td>\n",
              "      <td>35000.0</td>\n",
              "    </tr>\n",
              "    <tr>\n",
              "      <th>Current</th>\n",
              "      <td>179.0</td>\n",
              "      <td>18333.798883</td>\n",
              "      <td>9124.626902</td>\n",
              "      <td>2000.0</td>\n",
              "      <td>12000.00</td>\n",
              "      <td>18000.0</td>\n",
              "      <td>25000.00</td>\n",
              "      <td>35000.0</td>\n",
              "    </tr>\n",
              "    <tr>\n",
              "      <th>Fully Paid</th>\n",
              "      <td>1256.0</td>\n",
              "      <td>17063.117038</td>\n",
              "      <td>9209.189213</td>\n",
              "      <td>1000.0</td>\n",
              "      <td>10000.00</td>\n",
              "      <td>15600.0</td>\n",
              "      <td>24250.00</td>\n",
              "      <td>35000.0</td>\n",
              "    </tr>\n",
              "    <tr>\n",
              "      <th rowspan=\"3\" valign=\"top\">F</th>\n",
              "      <th>Charged Off</th>\n",
              "      <td>262.0</td>\n",
              "      <td>19926.431298</td>\n",
              "      <td>9077.831317</td>\n",
              "      <td>1400.0</td>\n",
              "      <td>14000.00</td>\n",
              "      <td>20000.0</td>\n",
              "      <td>25000.00</td>\n",
              "      <td>35000.0</td>\n",
              "    </tr>\n",
              "    <tr>\n",
              "      <th>Current</th>\n",
              "      <td>73.0</td>\n",
              "      <td>21947.260274</td>\n",
              "      <td>10546.541661</td>\n",
              "      <td>1800.0</td>\n",
              "      <td>15000.00</td>\n",
              "      <td>24000.0</td>\n",
              "      <td>30400.00</td>\n",
              "      <td>35000.0</td>\n",
              "    </tr>\n",
              "    <tr>\n",
              "      <th>Fully Paid</th>\n",
              "      <td>502.0</td>\n",
              "      <td>18701.195219</td>\n",
              "      <td>8877.383493</td>\n",
              "      <td>1500.0</td>\n",
              "      <td>12000.00</td>\n",
              "      <td>18000.0</td>\n",
              "      <td>25000.00</td>\n",
              "      <td>35000.0</td>\n",
              "    </tr>\n",
              "    <tr>\n",
              "      <th rowspan=\"3\" valign=\"top\">G</th>\n",
              "      <th>Charged Off</th>\n",
              "      <td>78.0</td>\n",
              "      <td>19440.064103</td>\n",
              "      <td>8834.045656</td>\n",
              "      <td>3000.0</td>\n",
              "      <td>13075.00</td>\n",
              "      <td>20000.0</td>\n",
              "      <td>25000.00</td>\n",
              "      <td>35000.0</td>\n",
              "    </tr>\n",
              "    <tr>\n",
              "      <th>Current</th>\n",
              "      <td>17.0</td>\n",
              "      <td>19766.176471</td>\n",
              "      <td>8632.419550</td>\n",
              "      <td>4100.0</td>\n",
              "      <td>13400.00</td>\n",
              "      <td>20000.0</td>\n",
              "      <td>25875.00</td>\n",
              "      <td>35000.0</td>\n",
              "    </tr>\n",
              "    <tr>\n",
              "      <th>Fully Paid</th>\n",
              "      <td>163.0</td>\n",
              "      <td>21697.852761</td>\n",
              "      <td>8269.142774</td>\n",
              "      <td>2800.0</td>\n",
              "      <td>16000.00</td>\n",
              "      <td>24000.0</td>\n",
              "      <td>25000.00</td>\n",
              "      <td>35000.0</td>\n",
              "    </tr>\n",
              "  </tbody>\n",
              "</table>\n",
              "</div>"
            ],
            "text/plain": [
              "                              count          mean  ...       75%      max\n",
              "term      grade loan_status                        ...                   \n",
              "36 months A     Charged Off   553.0   7732.142857  ...  10000.00  35000.0\n",
              "                Fully Paid   8948.0   8647.773245  ...  11006.25  35000.0\n",
              "          B     Charged Off   943.0   9221.102863  ...  12000.00  35000.0\n",
              "                Fully Paid   8163.0  10075.349136  ...  14000.00  35000.0\n",
              "          C     Charged Off   790.0   8852.278481  ...  12000.00  35000.0\n",
              "                Fully Paid   4755.0   9280.026288  ...  12000.00  35000.0\n",
              "          D     Charged Off   537.0  10004.748603  ...  13000.00  35000.0\n",
              "                Fully Paid   2572.0  11026.564930  ...  15000.00  35000.0\n",
              "          E     Charged Off   162.0  11997.685185  ...  16875.00  35000.0\n",
              "                Fully Paid    667.0  12980.997001  ...  18000.00  35000.0\n",
              "          F     Charged Off    49.0  16808.163265  ...  25000.00  35000.0\n",
              "                Fully Paid    145.0  13513.793103  ...  20500.00  30000.0\n",
              "          G     Charged Off    21.0  15566.666667  ...  20500.00  35000.0\n",
              "                Fully Paid     33.0  18074.242424  ...  25000.00  25000.0\n",
              "60 months A     Charged Off    37.0   9694.594595  ...  12000.00  24250.0\n",
              "                Current        40.0  10174.375000  ...  13481.25  17475.0\n",
              "                Fully Paid    358.0  10202.513966  ...  14000.00  24250.0\n",
              "          B     Charged Off   437.0  14518.192220  ...  19700.00  35000.0\n",
              "                Current       345.0  17355.797101  ...  24000.00  35000.0\n",
              "                Fully Paid   1904.0  14723.936450  ...  20000.00  35000.0\n",
              "          C     Charged Off   498.0  14570.732932  ...  20000.00  35000.0\n",
              "                Current       264.0  16617.613636  ...  21031.25  35000.0\n",
              "                Fully Paid   1582.0  15389.048673  ...  20987.50  35000.0\n",
              "          D     Charged Off   535.0  14575.560748  ...  19200.00  35000.0\n",
              "                Current       222.0  15494.819820  ...  20000.00  35000.0\n",
              "                Fully Paid   1314.0  14314.250381  ...  19593.75  35000.0\n",
              "          E     Charged Off   533.0  17019.136961  ...  24000.00  35000.0\n",
              "                Current       179.0  18333.798883  ...  25000.00  35000.0\n",
              "                Fully Paid   1256.0  17063.117038  ...  24250.00  35000.0\n",
              "          F     Charged Off   262.0  19926.431298  ...  25000.00  35000.0\n",
              "                Current        73.0  21947.260274  ...  30400.00  35000.0\n",
              "                Fully Paid    502.0  18701.195219  ...  25000.00  35000.0\n",
              "          G     Charged Off    78.0  19440.064103  ...  25000.00  35000.0\n",
              "                Current        17.0  19766.176471  ...  25875.00  35000.0\n",
              "                Fully Paid    163.0  21697.852761  ...  25000.00  35000.0\n",
              "\n",
              "[35 rows x 8 columns]"
            ]
          },
          "metadata": {
            "tags": []
          },
          "execution_count": 31
        }
      ]
    },
    {
      "cell_type": "code",
      "metadata": {
        "id": "9_U2G-btJS7C",
        "colab_type": "code",
        "outputId": "0f809372-02e3-419c-f1c6-c0249e6e1bff",
        "colab": {
          "base_uri": "https://localhost:8080/",
          "height": 437
        }
      },
      "source": [
        "df.groupby(['sub_grade','loan_status'])['loan_amnt'].describe()"
      ],
      "execution_count": 0,
      "outputs": [
        {
          "output_type": "execute_result",
          "data": {
            "text/html": [
              "<div>\n",
              "<style scoped>\n",
              "    .dataframe tbody tr th:only-of-type {\n",
              "        vertical-align: middle;\n",
              "    }\n",
              "\n",
              "    .dataframe tbody tr th {\n",
              "        vertical-align: top;\n",
              "    }\n",
              "\n",
              "    .dataframe thead th {\n",
              "        text-align: right;\n",
              "    }\n",
              "</style>\n",
              "<table border=\"1\" class=\"dataframe\">\n",
              "  <thead>\n",
              "    <tr style=\"text-align: right;\">\n",
              "      <th></th>\n",
              "      <th></th>\n",
              "      <th>count</th>\n",
              "      <th>mean</th>\n",
              "      <th>std</th>\n",
              "      <th>min</th>\n",
              "      <th>25%</th>\n",
              "      <th>50%</th>\n",
              "      <th>75%</th>\n",
              "      <th>max</th>\n",
              "    </tr>\n",
              "    <tr>\n",
              "      <th>sub_grade</th>\n",
              "      <th>loan_status</th>\n",
              "      <th></th>\n",
              "      <th></th>\n",
              "      <th></th>\n",
              "      <th></th>\n",
              "      <th></th>\n",
              "      <th></th>\n",
              "      <th></th>\n",
              "      <th></th>\n",
              "    </tr>\n",
              "  </thead>\n",
              "  <tbody>\n",
              "    <tr>\n",
              "      <th rowspan=\"2\" valign=\"top\">A1</th>\n",
              "      <th>Charged Off</th>\n",
              "      <td>30.0</td>\n",
              "      <td>7223.333333</td>\n",
              "      <td>4312.231667</td>\n",
              "      <td>1500.0</td>\n",
              "      <td>4000.0</td>\n",
              "      <td>6500.0</td>\n",
              "      <td>10000.0</td>\n",
              "      <td>19000.0</td>\n",
              "    </tr>\n",
              "    <tr>\n",
              "      <th>Fully Paid</th>\n",
              "      <td>1098.0</td>\n",
              "      <td>7311.816940</td>\n",
              "      <td>3973.186657</td>\n",
              "      <td>725.0</td>\n",
              "      <td>4000.0</td>\n",
              "      <td>6000.0</td>\n",
              "      <td>10000.0</td>\n",
              "      <td>17500.0</td>\n",
              "    </tr>\n",
              "    <tr>\n",
              "      <th rowspan=\"2\" valign=\"top\">A2</th>\n",
              "      <th>Charged Off</th>\n",
              "      <td>72.0</td>\n",
              "      <td>6805.555556</td>\n",
              "      <td>4217.368978</td>\n",
              "      <td>1000.0</td>\n",
              "      <td>4000.0</td>\n",
              "      <td>6000.0</td>\n",
              "      <td>8000.0</td>\n",
              "      <td>30000.0</td>\n",
              "    </tr>\n",
              "    <tr>\n",
              "      <th>Fully Paid</th>\n",
              "      <td>1405.0</td>\n",
              "      <td>7442.686833</td>\n",
              "      <td>4534.534644</td>\n",
              "      <td>1000.0</td>\n",
              "      <td>4000.0</td>\n",
              "      <td>6500.0</td>\n",
              "      <td>10000.0</td>\n",
              "      <td>32000.0</td>\n",
              "    </tr>\n",
              "    <tr>\n",
              "      <th>A3</th>\n",
              "      <th>Charged Off</th>\n",
              "      <td>99.0</td>\n",
              "      <td>7818.686869</td>\n",
              "      <td>5121.102729</td>\n",
              "      <td>1300.0</td>\n",
              "      <td>4000.0</td>\n",
              "      <td>7000.0</td>\n",
              "      <td>10000.0</td>\n",
              "      <td>30000.0</td>\n",
              "    </tr>\n",
              "    <tr>\n",
              "      <th>...</th>\n",
              "      <th>...</th>\n",
              "      <td>...</td>\n",
              "      <td>...</td>\n",
              "      <td>...</td>\n",
              "      <td>...</td>\n",
              "      <td>...</td>\n",
              "      <td>...</td>\n",
              "      <td>...</td>\n",
              "      <td>...</td>\n",
              "    </tr>\n",
              "    <tr>\n",
              "      <th rowspan=\"2\" valign=\"top\">G4</th>\n",
              "      <th>Current</th>\n",
              "      <td>2.0</td>\n",
              "      <td>19000.000000</td>\n",
              "      <td>1414.213562</td>\n",
              "      <td>18000.0</td>\n",
              "      <td>18500.0</td>\n",
              "      <td>19000.0</td>\n",
              "      <td>19500.0</td>\n",
              "      <td>20000.0</td>\n",
              "    </tr>\n",
              "    <tr>\n",
              "      <th>Fully Paid</th>\n",
              "      <td>41.0</td>\n",
              "      <td>21638.414634</td>\n",
              "      <td>7102.185178</td>\n",
              "      <td>2000.0</td>\n",
              "      <td>19750.0</td>\n",
              "      <td>24000.0</td>\n",
              "      <td>25000.0</td>\n",
              "      <td>35000.0</td>\n",
              "    </tr>\n",
              "    <tr>\n",
              "      <th rowspan=\"3\" valign=\"top\">G5</th>\n",
              "      <th>Charged Off</th>\n",
              "      <td>10.0</td>\n",
              "      <td>17635.000000</td>\n",
              "      <td>6250.157776</td>\n",
              "      <td>6200.0</td>\n",
              "      <td>14425.0</td>\n",
              "      <td>18250.0</td>\n",
              "      <td>21812.5</td>\n",
              "      <td>25000.0</td>\n",
              "    </tr>\n",
              "    <tr>\n",
              "      <th>Current</th>\n",
              "      <td>1.0</td>\n",
              "      <td>25000.000000</td>\n",
              "      <td>NaN</td>\n",
              "      <td>25000.0</td>\n",
              "      <td>25000.0</td>\n",
              "      <td>25000.0</td>\n",
              "      <td>25000.0</td>\n",
              "      <td>25000.0</td>\n",
              "    </tr>\n",
              "    <tr>\n",
              "      <th>Fully Paid</th>\n",
              "      <td>18.0</td>\n",
              "      <td>20587.500000</td>\n",
              "      <td>8099.075156</td>\n",
              "      <td>4700.0</td>\n",
              "      <td>14950.0</td>\n",
              "      <td>20000.0</td>\n",
              "      <td>24812.5</td>\n",
              "      <td>35000.0</td>\n",
              "    </tr>\n",
              "  </tbody>\n",
              "</table>\n",
              "<p>101 rows × 8 columns</p>\n",
              "</div>"
            ],
            "text/plain": [
              "                        count          mean  ...      75%      max\n",
              "sub_grade loan_status                        ...                  \n",
              "A1        Charged Off    30.0   7223.333333  ...  10000.0  19000.0\n",
              "          Fully Paid   1098.0   7311.816940  ...  10000.0  17500.0\n",
              "A2        Charged Off    72.0   6805.555556  ...   8000.0  30000.0\n",
              "          Fully Paid   1405.0   7442.686833  ...  10000.0  32000.0\n",
              "A3        Charged Off    99.0   7818.686869  ...  10000.0  30000.0\n",
              "...                       ...           ...  ...      ...      ...\n",
              "G4        Current         2.0  19000.000000  ...  19500.0  20000.0\n",
              "          Fully Paid     41.0  21638.414634  ...  25000.0  35000.0\n",
              "G5        Charged Off    10.0  17635.000000  ...  21812.5  25000.0\n",
              "          Current         1.0  25000.000000  ...  25000.0  25000.0\n",
              "          Fully Paid     18.0  20587.500000  ...  24812.5  35000.0\n",
              "\n",
              "[101 rows x 8 columns]"
            ]
          },
          "metadata": {
            "tags": []
          },
          "execution_count": 32
        }
      ]
    },
    {
      "cell_type": "code",
      "metadata": {
        "id": "s_q4CpZwMgWa",
        "colab_type": "code",
        "outputId": "a4c751f3-e640-40c3-e7ae-673ff377aa91",
        "colab": {
          "base_uri": "https://localhost:8080/",
          "height": 408
        }
      },
      "source": [
        "df.groupby(['home_ownership','loan_status'])['loan_amnt'].describe()"
      ],
      "execution_count": 0,
      "outputs": [
        {
          "output_type": "execute_result",
          "data": {
            "text/html": [
              "<div>\n",
              "<style scoped>\n",
              "    .dataframe tbody tr th:only-of-type {\n",
              "        vertical-align: middle;\n",
              "    }\n",
              "\n",
              "    .dataframe tbody tr th {\n",
              "        vertical-align: top;\n",
              "    }\n",
              "\n",
              "    .dataframe thead th {\n",
              "        text-align: right;\n",
              "    }\n",
              "</style>\n",
              "<table border=\"1\" class=\"dataframe\">\n",
              "  <thead>\n",
              "    <tr style=\"text-align: right;\">\n",
              "      <th></th>\n",
              "      <th></th>\n",
              "      <th>count</th>\n",
              "      <th>mean</th>\n",
              "      <th>std</th>\n",
              "      <th>min</th>\n",
              "      <th>25%</th>\n",
              "      <th>50%</th>\n",
              "      <th>75%</th>\n",
              "      <th>max</th>\n",
              "    </tr>\n",
              "    <tr>\n",
              "      <th>home_ownership</th>\n",
              "      <th>loan_status</th>\n",
              "      <th></th>\n",
              "      <th></th>\n",
              "      <th></th>\n",
              "      <th></th>\n",
              "      <th></th>\n",
              "      <th></th>\n",
              "      <th></th>\n",
              "      <th></th>\n",
              "    </tr>\n",
              "  </thead>\n",
              "  <tbody>\n",
              "    <tr>\n",
              "      <th rowspan=\"3\" valign=\"top\">MORTGAGE</th>\n",
              "      <th>Charged Off</th>\n",
              "      <td>2266.0</td>\n",
              "      <td>14127.592674</td>\n",
              "      <td>8622.790062</td>\n",
              "      <td>1000.0</td>\n",
              "      <td>7000.0</td>\n",
              "      <td>12000.0</td>\n",
              "      <td>20000.0</td>\n",
              "      <td>35000.0</td>\n",
              "    </tr>\n",
              "    <tr>\n",
              "      <th>Current</th>\n",
              "      <td>638.0</td>\n",
              "      <td>18588.714734</td>\n",
              "      <td>8739.270052</td>\n",
              "      <td>1000.0</td>\n",
              "      <td>12000.0</td>\n",
              "      <td>18000.0</td>\n",
              "      <td>25000.0</td>\n",
              "      <td>35000.0</td>\n",
              "    </tr>\n",
              "    <tr>\n",
              "      <th>Fully Paid</th>\n",
              "      <td>14485.0</td>\n",
              "      <td>12235.395236</td>\n",
              "      <td>7788.150676</td>\n",
              "      <td>500.0</td>\n",
              "      <td>6000.0</td>\n",
              "      <td>10000.0</td>\n",
              "      <td>16000.0</td>\n",
              "      <td>35000.0</td>\n",
              "    </tr>\n",
              "    <tr>\n",
              "      <th rowspan=\"2\" valign=\"top\">OTHER</th>\n",
              "      <th>Charged Off</th>\n",
              "      <td>18.0</td>\n",
              "      <td>13747.222222</td>\n",
              "      <td>5226.698210</td>\n",
              "      <td>3500.0</td>\n",
              "      <td>10300.0</td>\n",
              "      <td>14000.0</td>\n",
              "      <td>16000.0</td>\n",
              "      <td>25000.0</td>\n",
              "    </tr>\n",
              "    <tr>\n",
              "      <th>Fully Paid</th>\n",
              "      <td>80.0</td>\n",
              "      <td>9969.062500</td>\n",
              "      <td>5827.976020</td>\n",
              "      <td>1000.0</td>\n",
              "      <td>5575.0</td>\n",
              "      <td>8500.0</td>\n",
              "      <td>15000.0</td>\n",
              "      <td>25000.0</td>\n",
              "    </tr>\n",
              "    <tr>\n",
              "      <th rowspan=\"3\" valign=\"top\">OWN</th>\n",
              "      <th>Charged Off</th>\n",
              "      <td>425.0</td>\n",
              "      <td>11029.705882</td>\n",
              "      <td>7664.593205</td>\n",
              "      <td>1000.0</td>\n",
              "      <td>5000.0</td>\n",
              "      <td>9600.0</td>\n",
              "      <td>15000.0</td>\n",
              "      <td>35000.0</td>\n",
              "    </tr>\n",
              "    <tr>\n",
              "      <th>Current</th>\n",
              "      <td>83.0</td>\n",
              "      <td>14509.638554</td>\n",
              "      <td>8453.449317</td>\n",
              "      <td>1500.0</td>\n",
              "      <td>7300.0</td>\n",
              "      <td>13200.0</td>\n",
              "      <td>20000.0</td>\n",
              "      <td>35000.0</td>\n",
              "    </tr>\n",
              "    <tr>\n",
              "      <th>Fully Paid</th>\n",
              "      <td>2480.0</td>\n",
              "      <td>10031.179435</td>\n",
              "      <td>6866.808653</td>\n",
              "      <td>1000.0</td>\n",
              "      <td>5000.0</td>\n",
              "      <td>8000.0</td>\n",
              "      <td>14000.0</td>\n",
              "      <td>35000.0</td>\n",
              "    </tr>\n",
              "    <tr>\n",
              "      <th rowspan=\"3\" valign=\"top\">RENT</th>\n",
              "      <th>Charged Off</th>\n",
              "      <td>2726.0</td>\n",
              "      <td>10656.162876</td>\n",
              "      <td>7340.339097</td>\n",
              "      <td>1000.0</td>\n",
              "      <td>5000.0</td>\n",
              "      <td>9000.0</td>\n",
              "      <td>15000.0</td>\n",
              "      <td>35000.0</td>\n",
              "    </tr>\n",
              "    <tr>\n",
              "      <th>Current</th>\n",
              "      <td>419.0</td>\n",
              "      <td>15221.121718</td>\n",
              "      <td>8079.355495</td>\n",
              "      <td>1500.0</td>\n",
              "      <td>9000.0</td>\n",
              "      <td>14400.0</td>\n",
              "      <td>20000.0</td>\n",
              "      <td>35000.0</td>\n",
              "    </tr>\n",
              "    <tr>\n",
              "      <th>Fully Paid</th>\n",
              "      <td>15317.0</td>\n",
              "      <td>9768.180780</td>\n",
              "      <td>6463.965884</td>\n",
              "      <td>700.0</td>\n",
              "      <td>5000.0</td>\n",
              "      <td>8000.0</td>\n",
              "      <td>12875.0</td>\n",
              "      <td>35000.0</td>\n",
              "    </tr>\n",
              "  </tbody>\n",
              "</table>\n",
              "</div>"
            ],
            "text/plain": [
              "                              count          mean  ...      75%      max\n",
              "home_ownership loan_status                         ...                  \n",
              "MORTGAGE       Charged Off   2266.0  14127.592674  ...  20000.0  35000.0\n",
              "               Current        638.0  18588.714734  ...  25000.0  35000.0\n",
              "               Fully Paid   14485.0  12235.395236  ...  16000.0  35000.0\n",
              "OTHER          Charged Off     18.0  13747.222222  ...  16000.0  25000.0\n",
              "               Fully Paid      80.0   9969.062500  ...  15000.0  25000.0\n",
              "OWN            Charged Off    425.0  11029.705882  ...  15000.0  35000.0\n",
              "               Current         83.0  14509.638554  ...  20000.0  35000.0\n",
              "               Fully Paid    2480.0  10031.179435  ...  14000.0  35000.0\n",
              "RENT           Charged Off   2726.0  10656.162876  ...  15000.0  35000.0\n",
              "               Current        419.0  15221.121718  ...  20000.0  35000.0\n",
              "               Fully Paid   15317.0   9768.180780  ...  12875.0  35000.0\n",
              "\n",
              "[11 rows x 8 columns]"
            ]
          },
          "metadata": {
            "tags": []
          },
          "execution_count": 33
        }
      ]
    },
    {
      "cell_type": "code",
      "metadata": {
        "id": "AK6ZlEKIMkhF",
        "colab_type": "code",
        "outputId": "88ef4d59-31eb-44af-867e-7b39ecc53c8a",
        "colab": {
          "base_uri": "https://localhost:8080/",
          "height": 318
        }
      },
      "source": [
        "\n",
        "pd.crosstab(index=  [df.term,df.home_ownership],columns = df.loan_status, values= df.loan_amnt , aggfunc ='count' , normalize= 'index'  )"
      ],
      "execution_count": 0,
      "outputs": [
        {
          "output_type": "execute_result",
          "data": {
            "text/html": [
              "<div>\n",
              "<style scoped>\n",
              "    .dataframe tbody tr th:only-of-type {\n",
              "        vertical-align: middle;\n",
              "    }\n",
              "\n",
              "    .dataframe tbody tr th {\n",
              "        vertical-align: top;\n",
              "    }\n",
              "\n",
              "    .dataframe thead th {\n",
              "        text-align: right;\n",
              "    }\n",
              "</style>\n",
              "<table border=\"1\" class=\"dataframe\">\n",
              "  <thead>\n",
              "    <tr style=\"text-align: right;\">\n",
              "      <th></th>\n",
              "      <th>loan_status</th>\n",
              "      <th>Charged Off</th>\n",
              "      <th>Current</th>\n",
              "      <th>Fully Paid</th>\n",
              "    </tr>\n",
              "    <tr>\n",
              "      <th>term</th>\n",
              "      <th>home_ownership</th>\n",
              "      <th></th>\n",
              "      <th></th>\n",
              "      <th></th>\n",
              "    </tr>\n",
              "  </thead>\n",
              "  <tbody>\n",
              "    <tr>\n",
              "      <th rowspan=\"4\" valign=\"top\">36 months</th>\n",
              "      <th>MORTGAGE</th>\n",
              "      <td>0.095920</td>\n",
              "      <td>0.000000</td>\n",
              "      <td>0.904080</td>\n",
              "    </tr>\n",
              "    <tr>\n",
              "      <th>OTHER</th>\n",
              "      <td>0.175258</td>\n",
              "      <td>0.000000</td>\n",
              "      <td>0.824742</td>\n",
              "    </tr>\n",
              "    <tr>\n",
              "      <th>OWN</th>\n",
              "      <td>0.105192</td>\n",
              "      <td>0.000000</td>\n",
              "      <td>0.894808</td>\n",
              "    </tr>\n",
              "    <tr>\n",
              "      <th>RENT</th>\n",
              "      <td>0.117536</td>\n",
              "      <td>0.000000</td>\n",
              "      <td>0.882464</td>\n",
              "    </tr>\n",
              "    <tr>\n",
              "      <th rowspan=\"4\" valign=\"top\">60 months</th>\n",
              "      <th>MORTGAGE</th>\n",
              "      <td>0.201770</td>\n",
              "      <td>0.112920</td>\n",
              "      <td>0.685310</td>\n",
              "    </tr>\n",
              "    <tr>\n",
              "      <th>OTHER</th>\n",
              "      <td>1.000000</td>\n",
              "      <td>0.000000</td>\n",
              "      <td>0.000000</td>\n",
              "    </tr>\n",
              "    <tr>\n",
              "      <th>OWN</th>\n",
              "      <td>0.251989</td>\n",
              "      <td>0.110080</td>\n",
              "      <td>0.637931</td>\n",
              "    </tr>\n",
              "    <tr>\n",
              "      <th>RENT</th>\n",
              "      <td>0.250119</td>\n",
              "      <td>0.099905</td>\n",
              "      <td>0.649976</td>\n",
              "    </tr>\n",
              "  </tbody>\n",
              "</table>\n",
              "</div>"
            ],
            "text/plain": [
              "loan_status               Charged Off   Current  Fully Paid\n",
              "term      home_ownership                                   \n",
              "36 months MORTGAGE           0.095920  0.000000    0.904080\n",
              "          OTHER              0.175258  0.000000    0.824742\n",
              "          OWN                0.105192  0.000000    0.894808\n",
              "          RENT               0.117536  0.000000    0.882464\n",
              "60 months MORTGAGE           0.201770  0.112920    0.685310\n",
              "          OTHER              1.000000  0.000000    0.000000\n",
              "          OWN                0.251989  0.110080    0.637931\n",
              "          RENT               0.250119  0.099905    0.649976"
            ]
          },
          "metadata": {
            "tags": []
          },
          "execution_count": 34
        }
      ]
    },
    {
      "cell_type": "code",
      "metadata": {
        "id": "0-cC3X3INl0x",
        "colab_type": "code",
        "outputId": "3b57bc0e-b2d6-4844-9a60-538d933f8d8a",
        "colab": {
          "base_uri": "https://localhost:8080/",
          "height": 738
        }
      },
      "source": [
        "pd.crosstab(index= [df.verification_status,df.home_ownership,df.term ] ,columns= [df.loan_status] , values= df.loan_amnt ,aggfunc= 'count',normalize= 'index')"
      ],
      "execution_count": 0,
      "outputs": [
        {
          "output_type": "execute_result",
          "data": {
            "text/html": [
              "<div>\n",
              "<style scoped>\n",
              "    .dataframe tbody tr th:only-of-type {\n",
              "        vertical-align: middle;\n",
              "    }\n",
              "\n",
              "    .dataframe tbody tr th {\n",
              "        vertical-align: top;\n",
              "    }\n",
              "\n",
              "    .dataframe thead th {\n",
              "        text-align: right;\n",
              "    }\n",
              "</style>\n",
              "<table border=\"1\" class=\"dataframe\">\n",
              "  <thead>\n",
              "    <tr style=\"text-align: right;\">\n",
              "      <th></th>\n",
              "      <th></th>\n",
              "      <th>loan_status</th>\n",
              "      <th>Charged Off</th>\n",
              "      <th>Current</th>\n",
              "      <th>Fully Paid</th>\n",
              "    </tr>\n",
              "    <tr>\n",
              "      <th>verification_status</th>\n",
              "      <th>home_ownership</th>\n",
              "      <th>term</th>\n",
              "      <th></th>\n",
              "      <th></th>\n",
              "      <th></th>\n",
              "    </tr>\n",
              "  </thead>\n",
              "  <tbody>\n",
              "    <tr>\n",
              "      <th rowspan=\"8\" valign=\"top\">Not Verified</th>\n",
              "      <th rowspan=\"2\" valign=\"top\">MORTGAGE</th>\n",
              "      <th>36 months</th>\n",
              "      <td>0.098025</td>\n",
              "      <td>0.000000</td>\n",
              "      <td>0.901975</td>\n",
              "    </tr>\n",
              "    <tr>\n",
              "      <th>60 months</th>\n",
              "      <td>0.193935</td>\n",
              "      <td>0.092578</td>\n",
              "      <td>0.713488</td>\n",
              "    </tr>\n",
              "    <tr>\n",
              "      <th rowspan=\"2\" valign=\"top\">OTHER</th>\n",
              "      <th>36 months</th>\n",
              "      <td>0.176471</td>\n",
              "      <td>0.000000</td>\n",
              "      <td>0.823529</td>\n",
              "    </tr>\n",
              "    <tr>\n",
              "      <th>60 months</th>\n",
              "      <td>1.000000</td>\n",
              "      <td>0.000000</td>\n",
              "      <td>0.000000</td>\n",
              "    </tr>\n",
              "    <tr>\n",
              "      <th rowspan=\"2\" valign=\"top\">OWN</th>\n",
              "      <th>36 months</th>\n",
              "      <td>0.107114</td>\n",
              "      <td>0.000000</td>\n",
              "      <td>0.892886</td>\n",
              "    </tr>\n",
              "    <tr>\n",
              "      <th>60 months</th>\n",
              "      <td>0.207254</td>\n",
              "      <td>0.119171</td>\n",
              "      <td>0.673575</td>\n",
              "    </tr>\n",
              "    <tr>\n",
              "      <th rowspan=\"2\" valign=\"top\">RENT</th>\n",
              "      <th>36 months</th>\n",
              "      <td>0.117151</td>\n",
              "      <td>0.000000</td>\n",
              "      <td>0.882849</td>\n",
              "    </tr>\n",
              "    <tr>\n",
              "      <th>60 months</th>\n",
              "      <td>0.211356</td>\n",
              "      <td>0.092534</td>\n",
              "      <td>0.696109</td>\n",
              "    </tr>\n",
              "    <tr>\n",
              "      <th rowspan=\"7\" valign=\"top\">Source Verified</th>\n",
              "      <th rowspan=\"2\" valign=\"top\">MORTGAGE</th>\n",
              "      <th>36 months</th>\n",
              "      <td>0.080416</td>\n",
              "      <td>0.000000</td>\n",
              "      <td>0.919584</td>\n",
              "    </tr>\n",
              "    <tr>\n",
              "      <th>60 months</th>\n",
              "      <td>0.202166</td>\n",
              "      <td>0.111191</td>\n",
              "      <td>0.686643</td>\n",
              "    </tr>\n",
              "    <tr>\n",
              "      <th>OTHER</th>\n",
              "      <th>36 months</th>\n",
              "      <td>0.100000</td>\n",
              "      <td>0.000000</td>\n",
              "      <td>0.900000</td>\n",
              "    </tr>\n",
              "    <tr>\n",
              "      <th rowspan=\"2\" valign=\"top\">OWN</th>\n",
              "      <th>36 months</th>\n",
              "      <td>0.092803</td>\n",
              "      <td>0.000000</td>\n",
              "      <td>0.907197</td>\n",
              "    </tr>\n",
              "    <tr>\n",
              "      <th>60 months</th>\n",
              "      <td>0.280335</td>\n",
              "      <td>0.117155</td>\n",
              "      <td>0.602510</td>\n",
              "    </tr>\n",
              "    <tr>\n",
              "      <th rowspan=\"2\" valign=\"top\">RENT</th>\n",
              "      <th>36 months</th>\n",
              "      <td>0.117724</td>\n",
              "      <td>0.000000</td>\n",
              "      <td>0.882276</td>\n",
              "    </tr>\n",
              "    <tr>\n",
              "      <th>60 months</th>\n",
              "      <td>0.261836</td>\n",
              "      <td>0.091822</td>\n",
              "      <td>0.646341</td>\n",
              "    </tr>\n",
              "    <tr>\n",
              "      <th rowspan=\"7\" valign=\"top\">Verified</th>\n",
              "      <th rowspan=\"2\" valign=\"top\">MORTGAGE</th>\n",
              "      <th>36 months</th>\n",
              "      <td>0.103839</td>\n",
              "      <td>0.000000</td>\n",
              "      <td>0.896161</td>\n",
              "    </tr>\n",
              "    <tr>\n",
              "      <th>60 months</th>\n",
              "      <td>0.204847</td>\n",
              "      <td>0.122178</td>\n",
              "      <td>0.672975</td>\n",
              "    </tr>\n",
              "    <tr>\n",
              "      <th>OTHER</th>\n",
              "      <th>36 months</th>\n",
              "      <td>0.194444</td>\n",
              "      <td>0.000000</td>\n",
              "      <td>0.805556</td>\n",
              "    </tr>\n",
              "    <tr>\n",
              "      <th rowspan=\"2\" valign=\"top\">OWN</th>\n",
              "      <th>36 months</th>\n",
              "      <td>0.113872</td>\n",
              "      <td>0.000000</td>\n",
              "      <td>0.886128</td>\n",
              "    </tr>\n",
              "    <tr>\n",
              "      <th>60 months</th>\n",
              "      <td>0.257764</td>\n",
              "      <td>0.099379</td>\n",
              "      <td>0.642857</td>\n",
              "    </tr>\n",
              "    <tr>\n",
              "      <th rowspan=\"2\" valign=\"top\">RENT</th>\n",
              "      <th>36 months</th>\n",
              "      <td>0.118106</td>\n",
              "      <td>0.000000</td>\n",
              "      <td>0.881894</td>\n",
              "    </tr>\n",
              "    <tr>\n",
              "      <th>60 months</th>\n",
              "      <td>0.261222</td>\n",
              "      <td>0.109789</td>\n",
              "      <td>0.628989</td>\n",
              "    </tr>\n",
              "  </tbody>\n",
              "</table>\n",
              "</div>"
            ],
            "text/plain": [
              "loan_status                                   Charged Off   Current  Fully Paid\n",
              "verification_status home_ownership term                                        \n",
              "Not Verified        MORTGAGE       36 months     0.098025  0.000000    0.901975\n",
              "                                   60 months     0.193935  0.092578    0.713488\n",
              "                    OTHER          36 months     0.176471  0.000000    0.823529\n",
              "                                   60 months     1.000000  0.000000    0.000000\n",
              "                    OWN            36 months     0.107114  0.000000    0.892886\n",
              "                                   60 months     0.207254  0.119171    0.673575\n",
              "                    RENT           36 months     0.117151  0.000000    0.882849\n",
              "                                   60 months     0.211356  0.092534    0.696109\n",
              "Source Verified     MORTGAGE       36 months     0.080416  0.000000    0.919584\n",
              "                                   60 months     0.202166  0.111191    0.686643\n",
              "                    OTHER          36 months     0.100000  0.000000    0.900000\n",
              "                    OWN            36 months     0.092803  0.000000    0.907197\n",
              "                                   60 months     0.280335  0.117155    0.602510\n",
              "                    RENT           36 months     0.117724  0.000000    0.882276\n",
              "                                   60 months     0.261836  0.091822    0.646341\n",
              "Verified            MORTGAGE       36 months     0.103839  0.000000    0.896161\n",
              "                                   60 months     0.204847  0.122178    0.672975\n",
              "                    OTHER          36 months     0.194444  0.000000    0.805556\n",
              "                    OWN            36 months     0.113872  0.000000    0.886128\n",
              "                                   60 months     0.257764  0.099379    0.642857\n",
              "                    RENT           36 months     0.118106  0.000000    0.881894\n",
              "                                   60 months     0.261222  0.109789    0.628989"
            ]
          },
          "metadata": {
            "tags": []
          },
          "execution_count": 35
        }
      ]
    },
    {
      "cell_type": "code",
      "metadata": {
        "id": "AwP21Zz7OQpV",
        "colab_type": "code",
        "outputId": "dcbc8553-82b3-4b88-a3a1-ba9dcf95bf50",
        "colab": {
          "base_uri": "https://localhost:8080/",
          "height": 918
        }
      },
      "source": [
        "pd.crosstab([df.purpose ,df.term],df.loan_status,values=df.loan_amnt,aggfunc=sum,\n",
        "           normalize='index')"
      ],
      "execution_count": 0,
      "outputs": [
        {
          "output_type": "execute_result",
          "data": {
            "text/html": [
              "<div>\n",
              "<style scoped>\n",
              "    .dataframe tbody tr th:only-of-type {\n",
              "        vertical-align: middle;\n",
              "    }\n",
              "\n",
              "    .dataframe tbody tr th {\n",
              "        vertical-align: top;\n",
              "    }\n",
              "\n",
              "    .dataframe thead th {\n",
              "        text-align: right;\n",
              "    }\n",
              "</style>\n",
              "<table border=\"1\" class=\"dataframe\">\n",
              "  <thead>\n",
              "    <tr style=\"text-align: right;\">\n",
              "      <th></th>\n",
              "      <th>loan_status</th>\n",
              "      <th>Charged Off</th>\n",
              "      <th>Current</th>\n",
              "      <th>Fully Paid</th>\n",
              "    </tr>\n",
              "    <tr>\n",
              "      <th>purpose</th>\n",
              "      <th>term</th>\n",
              "      <th></th>\n",
              "      <th></th>\n",
              "      <th></th>\n",
              "    </tr>\n",
              "  </thead>\n",
              "  <tbody>\n",
              "    <tr>\n",
              "      <th rowspan=\"2\" valign=\"top\">car</th>\n",
              "      <th>36 months</th>\n",
              "      <td>0.088914</td>\n",
              "      <td>0.000000</td>\n",
              "      <td>0.911086</td>\n",
              "    </tr>\n",
              "    <tr>\n",
              "      <th>60 months</th>\n",
              "      <td>0.142204</td>\n",
              "      <td>0.091835</td>\n",
              "      <td>0.765961</td>\n",
              "    </tr>\n",
              "    <tr>\n",
              "      <th rowspan=\"2\" valign=\"top\">credit_card</th>\n",
              "      <th>36 months</th>\n",
              "      <td>0.077781</td>\n",
              "      <td>0.000000</td>\n",
              "      <td>0.922219</td>\n",
              "    </tr>\n",
              "    <tr>\n",
              "      <th>60 months</th>\n",
              "      <td>0.210219</td>\n",
              "      <td>0.113309</td>\n",
              "      <td>0.676473</td>\n",
              "    </tr>\n",
              "    <tr>\n",
              "      <th rowspan=\"2\" valign=\"top\">debt_consolidation</th>\n",
              "      <th>36 months</th>\n",
              "      <td>0.102491</td>\n",
              "      <td>0.000000</td>\n",
              "      <td>0.897509</td>\n",
              "    </tr>\n",
              "    <tr>\n",
              "      <th>60 months</th>\n",
              "      <td>0.235596</td>\n",
              "      <td>0.115326</td>\n",
              "      <td>0.649078</td>\n",
              "    </tr>\n",
              "    <tr>\n",
              "      <th rowspan=\"2\" valign=\"top\">educational</th>\n",
              "      <th>36 months</th>\n",
              "      <td>0.188924</td>\n",
              "      <td>0.000000</td>\n",
              "      <td>0.811076</td>\n",
              "    </tr>\n",
              "    <tr>\n",
              "      <th>60 months</th>\n",
              "      <td>0.450640</td>\n",
              "      <td>0.000000</td>\n",
              "      <td>0.549360</td>\n",
              "    </tr>\n",
              "    <tr>\n",
              "      <th rowspan=\"2\" valign=\"top\">home_improvement</th>\n",
              "      <th>36 months</th>\n",
              "      <td>0.092040</td>\n",
              "      <td>0.000000</td>\n",
              "      <td>0.907960</td>\n",
              "    </tr>\n",
              "    <tr>\n",
              "      <th>60 months</th>\n",
              "      <td>0.150626</td>\n",
              "      <td>0.123795</td>\n",
              "      <td>0.725580</td>\n",
              "    </tr>\n",
              "    <tr>\n",
              "      <th rowspan=\"2\" valign=\"top\">house</th>\n",
              "      <th>36 months</th>\n",
              "      <td>0.089028</td>\n",
              "      <td>0.000000</td>\n",
              "      <td>0.910972</td>\n",
              "    </tr>\n",
              "    <tr>\n",
              "      <th>60 months</th>\n",
              "      <td>0.219893</td>\n",
              "      <td>0.142898</td>\n",
              "      <td>0.637209</td>\n",
              "    </tr>\n",
              "    <tr>\n",
              "      <th rowspan=\"2\" valign=\"top\">major_purchase</th>\n",
              "      <th>36 months</th>\n",
              "      <td>0.083465</td>\n",
              "      <td>0.000000</td>\n",
              "      <td>0.916535</td>\n",
              "    </tr>\n",
              "    <tr>\n",
              "      <th>60 months</th>\n",
              "      <td>0.162198</td>\n",
              "      <td>0.085700</td>\n",
              "      <td>0.752102</td>\n",
              "    </tr>\n",
              "    <tr>\n",
              "      <th rowspan=\"2\" valign=\"top\">medical</th>\n",
              "      <th>36 months</th>\n",
              "      <td>0.113455</td>\n",
              "      <td>0.000000</td>\n",
              "      <td>0.886545</td>\n",
              "    </tr>\n",
              "    <tr>\n",
              "      <th>60 months</th>\n",
              "      <td>0.231432</td>\n",
              "      <td>0.092575</td>\n",
              "      <td>0.675993</td>\n",
              "    </tr>\n",
              "    <tr>\n",
              "      <th rowspan=\"2\" valign=\"top\">moving</th>\n",
              "      <th>36 months</th>\n",
              "      <td>0.125117</td>\n",
              "      <td>0.000000</td>\n",
              "      <td>0.874883</td>\n",
              "    </tr>\n",
              "    <tr>\n",
              "      <th>60 months</th>\n",
              "      <td>0.173540</td>\n",
              "      <td>0.085607</td>\n",
              "      <td>0.740852</td>\n",
              "    </tr>\n",
              "    <tr>\n",
              "      <th rowspan=\"2\" valign=\"top\">other</th>\n",
              "      <th>36 months</th>\n",
              "      <td>0.124880</td>\n",
              "      <td>0.000000</td>\n",
              "      <td>0.875120</td>\n",
              "    </tr>\n",
              "    <tr>\n",
              "      <th>60 months</th>\n",
              "      <td>0.237224</td>\n",
              "      <td>0.150601</td>\n",
              "      <td>0.612176</td>\n",
              "    </tr>\n",
              "    <tr>\n",
              "      <th rowspan=\"2\" valign=\"top\">renewable_energy</th>\n",
              "      <th>36 months</th>\n",
              "      <td>0.176986</td>\n",
              "      <td>0.000000</td>\n",
              "      <td>0.823014</td>\n",
              "    </tr>\n",
              "    <tr>\n",
              "      <th>60 months</th>\n",
              "      <td>0.174284</td>\n",
              "      <td>0.082267</td>\n",
              "      <td>0.743449</td>\n",
              "    </tr>\n",
              "    <tr>\n",
              "      <th rowspan=\"2\" valign=\"top\">small_business</th>\n",
              "      <th>36 months</th>\n",
              "      <td>0.215044</td>\n",
              "      <td>0.000000</td>\n",
              "      <td>0.784956</td>\n",
              "    </tr>\n",
              "    <tr>\n",
              "      <th>60 months</th>\n",
              "      <td>0.347900</td>\n",
              "      <td>0.130214</td>\n",
              "      <td>0.521885</td>\n",
              "    </tr>\n",
              "    <tr>\n",
              "      <th rowspan=\"2\" valign=\"top\">vacation</th>\n",
              "      <th>36 months</th>\n",
              "      <td>0.106632</td>\n",
              "      <td>0.000000</td>\n",
              "      <td>0.893368</td>\n",
              "    </tr>\n",
              "    <tr>\n",
              "      <th>60 months</th>\n",
              "      <td>0.294292</td>\n",
              "      <td>0.100342</td>\n",
              "      <td>0.605366</td>\n",
              "    </tr>\n",
              "    <tr>\n",
              "      <th rowspan=\"2\" valign=\"top\">wedding</th>\n",
              "      <th>36 months</th>\n",
              "      <td>0.079590</td>\n",
              "      <td>0.000000</td>\n",
              "      <td>0.920410</td>\n",
              "    </tr>\n",
              "    <tr>\n",
              "      <th>60 months</th>\n",
              "      <td>0.164028</td>\n",
              "      <td>0.110534</td>\n",
              "      <td>0.725438</td>\n",
              "    </tr>\n",
              "  </tbody>\n",
              "</table>\n",
              "</div>"
            ],
            "text/plain": [
              "loan_status                   Charged Off   Current  Fully Paid\n",
              "purpose            term                                        \n",
              "car                36 months     0.088914  0.000000    0.911086\n",
              "                   60 months     0.142204  0.091835    0.765961\n",
              "credit_card        36 months     0.077781  0.000000    0.922219\n",
              "                   60 months     0.210219  0.113309    0.676473\n",
              "debt_consolidation 36 months     0.102491  0.000000    0.897509\n",
              "                   60 months     0.235596  0.115326    0.649078\n",
              "educational        36 months     0.188924  0.000000    0.811076\n",
              "                   60 months     0.450640  0.000000    0.549360\n",
              "home_improvement   36 months     0.092040  0.000000    0.907960\n",
              "                   60 months     0.150626  0.123795    0.725580\n",
              "house              36 months     0.089028  0.000000    0.910972\n",
              "                   60 months     0.219893  0.142898    0.637209\n",
              "major_purchase     36 months     0.083465  0.000000    0.916535\n",
              "                   60 months     0.162198  0.085700    0.752102\n",
              "medical            36 months     0.113455  0.000000    0.886545\n",
              "                   60 months     0.231432  0.092575    0.675993\n",
              "moving             36 months     0.125117  0.000000    0.874883\n",
              "                   60 months     0.173540  0.085607    0.740852\n",
              "other              36 months     0.124880  0.000000    0.875120\n",
              "                   60 months     0.237224  0.150601    0.612176\n",
              "renewable_energy   36 months     0.176986  0.000000    0.823014\n",
              "                   60 months     0.174284  0.082267    0.743449\n",
              "small_business     36 months     0.215044  0.000000    0.784956\n",
              "                   60 months     0.347900  0.130214    0.521885\n",
              "vacation           36 months     0.106632  0.000000    0.893368\n",
              "                   60 months     0.294292  0.100342    0.605366\n",
              "wedding            36 months     0.079590  0.000000    0.920410\n",
              "                   60 months     0.164028  0.110534    0.725438"
            ]
          },
          "metadata": {
            "tags": []
          },
          "execution_count": 36
        }
      ]
    },
    {
      "cell_type": "markdown",
      "metadata": {
        "id": "qkiLx6MpPcxW",
        "colab_type": "text"
      },
      "source": [
        "Long term loans for vacation , education ,small business ,credit card or for no reasons is a bad idea"
      ]
    },
    {
      "cell_type": "code",
      "metadata": {
        "id": "rVVay299668l",
        "colab_type": "code",
        "outputId": "ab208c59-1848-448b-e825-1d8984143d0f",
        "colab": {
          "base_uri": "https://localhost:8080/",
          "height": 498
        }
      },
      "source": [
        "pd.crosstab([df.purpose],df.loan_status,values=df.loan_amnt,aggfunc=sum,\n",
        "           normalize='columns')"
      ],
      "execution_count": 0,
      "outputs": [
        {
          "output_type": "execute_result",
          "data": {
            "text/html": [
              "<div>\n",
              "<style scoped>\n",
              "    .dataframe tbody tr th:only-of-type {\n",
              "        vertical-align: middle;\n",
              "    }\n",
              "\n",
              "    .dataframe tbody tr th {\n",
              "        vertical-align: top;\n",
              "    }\n",
              "\n",
              "    .dataframe thead th {\n",
              "        text-align: right;\n",
              "    }\n",
              "</style>\n",
              "<table border=\"1\" class=\"dataframe\">\n",
              "  <thead>\n",
              "    <tr style=\"text-align: right;\">\n",
              "      <th>loan_status</th>\n",
              "      <th>Charged Off</th>\n",
              "      <th>Current</th>\n",
              "      <th>Fully Paid</th>\n",
              "    </tr>\n",
              "    <tr>\n",
              "      <th>purpose</th>\n",
              "      <th></th>\n",
              "      <th></th>\n",
              "      <th></th>\n",
              "    </tr>\n",
              "  </thead>\n",
              "  <tbody>\n",
              "    <tr>\n",
              "      <th>car</th>\n",
              "      <td>0.017396</td>\n",
              "      <td>0.019804</td>\n",
              "      <td>0.025150</td>\n",
              "    </tr>\n",
              "    <tr>\n",
              "      <th>credit_card</th>\n",
              "      <td>0.104634</td>\n",
              "      <td>0.101466</td>\n",
              "      <td>0.142572</td>\n",
              "    </tr>\n",
              "    <tr>\n",
              "      <th>debt_consolidation</th>\n",
              "      <td>0.552807</td>\n",
              "      <td>0.560520</td>\n",
              "      <td>0.527258</td>\n",
              "    </tr>\n",
              "    <tr>\n",
              "      <th>educational</th>\n",
              "      <td>0.006310</td>\n",
              "      <td>0.000000</td>\n",
              "      <td>0.004642</td>\n",
              "    </tr>\n",
              "    <tr>\n",
              "      <th>home_improvement</th>\n",
              "      <td>0.060232</td>\n",
              "      <td>0.093831</td>\n",
              "      <td>0.079455</td>\n",
              "    </tr>\n",
              "    <tr>\n",
              "      <th>house</th>\n",
              "      <td>0.010765</td>\n",
              "      <td>0.015408</td>\n",
              "      <td>0.011031</td>\n",
              "    </tr>\n",
              "    <tr>\n",
              "      <th>major_purchase</th>\n",
              "      <td>0.028927</td>\n",
              "      <td>0.024680</td>\n",
              "      <td>0.043126</td>\n",
              "    </tr>\n",
              "    <tr>\n",
              "      <th>medical</th>\n",
              "      <td>0.013429</td>\n",
              "      <td>0.010036</td>\n",
              "      <td>0.012874</td>\n",
              "    </tr>\n",
              "    <tr>\n",
              "      <th>moving</th>\n",
              "      <td>0.008059</td>\n",
              "      <td>0.004829</td>\n",
              "      <td>0.009080</td>\n",
              "    </tr>\n",
              "    <tr>\n",
              "      <th>other</th>\n",
              "      <td>0.076837</td>\n",
              "      <td>0.079198</td>\n",
              "      <td>0.070346</td>\n",
              "    </tr>\n",
              "    <tr>\n",
              "      <th>renewable_energy</th>\n",
              "      <td>0.002388</td>\n",
              "      <td>0.001389</td>\n",
              "      <td>0.002017</td>\n",
              "    </tr>\n",
              "    <tr>\n",
              "      <th>small_business</th>\n",
              "      <td>0.098763</td>\n",
              "      <td>0.069880</td>\n",
              "      <td>0.045352</td>\n",
              "    </tr>\n",
              "    <tr>\n",
              "      <th>vacation</th>\n",
              "      <td>0.004719</td>\n",
              "      <td>0.002568</td>\n",
              "      <td>0.004776</td>\n",
              "    </tr>\n",
              "    <tr>\n",
              "      <th>wedding</th>\n",
              "      <td>0.014735</td>\n",
              "      <td>0.016391</td>\n",
              "      <td>0.022320</td>\n",
              "    </tr>\n",
              "  </tbody>\n",
              "</table>\n",
              "</div>"
            ],
            "text/plain": [
              "loan_status         Charged Off   Current  Fully Paid\n",
              "purpose                                              \n",
              "car                    0.017396  0.019804    0.025150\n",
              "credit_card            0.104634  0.101466    0.142572\n",
              "debt_consolidation     0.552807  0.560520    0.527258\n",
              "educational            0.006310  0.000000    0.004642\n",
              "home_improvement       0.060232  0.093831    0.079455\n",
              "house                  0.010765  0.015408    0.011031\n",
              "major_purchase         0.028927  0.024680    0.043126\n",
              "medical                0.013429  0.010036    0.012874\n",
              "moving                 0.008059  0.004829    0.009080\n",
              "other                  0.076837  0.079198    0.070346\n",
              "renewable_energy       0.002388  0.001389    0.002017\n",
              "small_business         0.098763  0.069880    0.045352\n",
              "vacation               0.004719  0.002568    0.004776\n",
              "wedding                0.014735  0.016391    0.022320"
            ]
          },
          "metadata": {
            "tags": []
          },
          "execution_count": 37
        }
      ]
    },
    {
      "cell_type": "code",
      "metadata": {
        "id": "YC-d5MDy7RMh",
        "colab_type": "code",
        "colab": {}
      },
      "source": [
        "#pd.crosstab()"
      ],
      "execution_count": 0,
      "outputs": []
    }
  ]
}